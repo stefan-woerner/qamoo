{
 "cells": [
  {
   "cell_type": "markdown",
   "id": "ba2fd741-4517-4ef3-a7cc-405c009a79bf",
   "metadata": {},
   "source": [
    "# Run Randomized Weighted Sum Method"
   ]
  },
  {
   "cell_type": "code",
   "execution_count": 1,
   "id": "b774ad34-6ba2-44b4-94fd-d5004de6e2f9",
   "metadata": {},
   "outputs": [],
   "source": [
    "import matplotlib.pyplot as plt\n",
    "\n",
    "from qamoo.algorithms.classical_algorithms import weighted_sum\n",
    "from qamoo.configs.configs import ProblemSpecification, WeightedSumConfig\n",
    "from qamoo.utils.utils import compute_hypervolume_progress"
   ]
  },
  {
   "cell_type": "code",
   "execution_count": 2,
   "id": "fe22267f-4f04-47af-8601-70368bdeaf78",
   "metadata": {},
   "outputs": [
    {
     "name": "stdout",
     "output_type": "stream",
     "text": [
      "ProblemSpecification(data_folder='./../data/', num_qubits=42, num_objectives=3, num_swap_layers=0, problem_id=0)\n"
     ]
    }
   ],
   "source": [
    "problem = ProblemSpecification()\n",
    "problem.data_folder = './../data/'\n",
    "problem.num_qubits = 42\n",
    "problem.num_objectives = 3\n",
    "problem.num_swap_layers = 0\n",
    "problem.problem_id = 0\n",
    "print(problem)"
   ]
  },
  {
   "cell_type": "code",
   "execution_count": 3,
   "id": "daf162cf-a33e-4c46-8659-0f6407c9fe01",
   "metadata": {},
   "outputs": [
    {
     "name": "stdout",
     "output_type": "stream",
     "text": [
      "WeightedSumConfig(name='weighted_sum', problem=ProblemSpecification(data_folder='./../data/', num_qubits=42, num_objectives=3, num_swap_layers=0, problem_id=0), run_id=0, num_steps=0, objective_weights_id=0, num_samples=1000)\n"
     ]
    }
   ],
   "source": [
    "# algorithm configuration\n",
    "config = WeightedSumConfig()\n",
    "config.num_samples = 1_000\n",
    "# config.num_samples = 400_000\n",
    "config.objective_weights_id = 0\n",
    "config.run_id = 0\n",
    "config.problem = problem\n",
    "print(config)"
   ]
  },
  {
   "cell_type": "code",
   "execution_count": 4,
   "id": "63fc4668-65bd-436f-a61f-b0a7b6ebb1eb",
   "metadata": {
    "scrolled": true
   },
   "outputs": [
    {
     "name": "stdout",
     "output_type": "stream",
     "text": [
      "Folder exists!\n"
     ]
    },
    {
     "name": "stderr",
     "output_type": "stream",
     "text": [
      "  0%|                                                                                                              | 0/1000 [00:00<?, ?it/s]"
     ]
    },
    {
     "name": "stdout",
     "output_type": "stream",
     "text": [
      "Restricted license - for non-production use only - expires 2026-11-23\n",
      "Set parameter LogToConsole to value 0\n",
      "Set parameter LogToConsole to value 0\n",
      "Set parameter LogToConsole to value 0\n",
      "Set parameter LogToConsole to value 0\n",
      "Set parameter LogToConsole to value 0\n",
      "Set parameter LogToConsole to value 0\n",
      "Set parameter LogToConsole to value 0\n",
      "Set parameter LogToConsole to value 0\n",
      "Set parameter LogToConsole to value 0\n",
      "Set parameter LogToConsole to value 0\n",
      "Set parameter LogToConsole to value 0\n",
      "Set parameter LogToConsole to value 0\n",
      "Set parameter LogToConsole to value 0\n",
      "Set parameter LogToConsole to value 0\n",
      "Set parameter LogToConsole to value 0\n",
      "Set parameter LogToConsole to value 0\n",
      "Set parameter LogToConsole to value 0\n",
      "Set parameter LogToConsole to value 0\n",
      "Set parameter LogToConsole to value 0\n",
      "Set parameter LogToConsole to value 0\n",
      "Set parameter LogToConsole to value 0\n",
      "Set parameter LogToConsole to value 0\n",
      "Set parameter LogToConsole to value 0\n",
      "Set parameter LogToConsole to value 0\n",
      "Set parameter LogToConsole to value 0\n",
      "Set parameter LogToConsole to value 0\n",
      "Set parameter LogToConsole to value 0\n",
      "Set parameter LogToConsole to value 0\n",
      "Set parameter LogToConsole to value 0\n",
      "Set parameter LogToConsole to value 0\n",
      "Set parameter LogToConsole to value 0\n",
      "Set parameter LogToConsole to value 0\n",
      "Set parameter LogToConsole to value 0\n",
      "Set parameter LogToConsole to value 0\n",
      "Set parameter LogToConsole to value 0\n",
      "Set parameter LogToConsole to value 0\n",
      "Set parameter LogToConsole to value 0\n",
      "Set parameter LogToConsole to value 0\n",
      "Set parameter LogToConsole to value 0\n",
      "Set parameter LogToConsole to value 0\n",
      "Set parameter LogToConsole to value 0\n"
     ]
    },
    {
     "name": "stderr",
     "output_type": "stream",
     "text": [
      "  4%|████                                                                                                | 41/1000 [00:00<00:02, 403.59it/s]"
     ]
    },
    {
     "name": "stdout",
     "output_type": "stream",
     "text": [
      "Set parameter LogToConsole to value 0\n",
      "Set parameter LogToConsole to value 0\n",
      "Set parameter LogToConsole to value 0\n",
      "Set parameter LogToConsole to value 0\n",
      "Set parameter LogToConsole to value 0\n",
      "Set parameter LogToConsole to value 0\n",
      "Set parameter LogToConsole to value 0\n",
      "Set parameter LogToConsole to value 0\n",
      "Set parameter LogToConsole to value 0\n",
      "Set parameter LogToConsole to value 0\n",
      "Set parameter LogToConsole to value 0\n",
      "Set parameter LogToConsole to value 0\n",
      "Set parameter LogToConsole to value 0\n",
      "Set parameter LogToConsole to value 0\n",
      "Set parameter LogToConsole to value 0\n",
      "Set parameter LogToConsole to value 0\n",
      "Set parameter LogToConsole to value 0\n",
      "Set parameter LogToConsole to value 0\n",
      "Set parameter LogToConsole to value 0\n",
      "Set parameter LogToConsole to value 0\n",
      "Set parameter LogToConsole to value 0\n",
      "Set parameter LogToConsole to value 0\n",
      "Set parameter LogToConsole to value 0\n",
      "Set parameter LogToConsole to value 0\n",
      "Set parameter LogToConsole to value 0\n",
      "Set parameter LogToConsole to value 0\n",
      "Set parameter LogToConsole to value 0\n",
      "Set parameter LogToConsole to value 0\n",
      "Set parameter LogToConsole to value 0\n",
      "Set parameter LogToConsole to value 0\n",
      "Set parameter LogToConsole to value 0\n",
      "Set parameter LogToConsole to value 0\n",
      "Set parameter LogToConsole to value 0\n",
      "Set parameter LogToConsole to value 0\n",
      "Set parameter LogToConsole to value 0\n",
      "Set parameter LogToConsole to value 0\n",
      "Set parameter LogToConsole to value 0\n",
      "Set parameter LogToConsole to value 0\n",
      "Set parameter LogToConsole to value 0\n",
      "Set parameter LogToConsole to value 0\n",
      "Set parameter LogToConsole to value 0\n",
      "Set parameter LogToConsole to value 0\n",
      "Set parameter LogToConsole to value 0\n"
     ]
    },
    {
     "name": "stderr",
     "output_type": "stream",
     "text": [
      "  8%|████████▍                                                                                           | 84/1000 [00:00<00:02, 418.60it/s]"
     ]
    },
    {
     "name": "stdout",
     "output_type": "stream",
     "text": [
      "Set parameter LogToConsole to value 0\n",
      "Set parameter LogToConsole to value 0\n",
      "Set parameter LogToConsole to value 0\n",
      "Set parameter LogToConsole to value 0\n",
      "Set parameter LogToConsole to value 0\n",
      "Set parameter LogToConsole to value 0\n",
      "Set parameter LogToConsole to value 0\n",
      "Set parameter LogToConsole to value 0\n",
      "Set parameter LogToConsole to value 0\n",
      "Set parameter LogToConsole to value 0\n",
      "Set parameter LogToConsole to value 0\n",
      "Set parameter LogToConsole to value 0\n",
      "Set parameter LogToConsole to value 0\n",
      "Set parameter LogToConsole to value 0\n",
      "Set parameter LogToConsole to value 0\n",
      "Set parameter LogToConsole to value 0\n",
      "Set parameter LogToConsole to value 0\n",
      "Set parameter LogToConsole to value 0\n",
      "Set parameter LogToConsole to value 0\n",
      "Set parameter LogToConsole to value 0\n",
      "Set parameter LogToConsole to value 0\n",
      "Set parameter LogToConsole to value 0\n",
      "Set parameter LogToConsole to value 0\n",
      "Set parameter LogToConsole to value 0\n",
      "Set parameter LogToConsole to value 0\n",
      "Set parameter LogToConsole to value 0\n",
      "Set parameter LogToConsole to value 0\n",
      "Set parameter LogToConsole to value 0\n",
      "Set parameter LogToConsole to value 0\n",
      "Set parameter LogToConsole to value 0\n",
      "Set parameter LogToConsole to value 0\n",
      "Set parameter LogToConsole to value 0\n",
      "Set parameter LogToConsole to value 0\n",
      "Set parameter LogToConsole to value 0\n",
      "Set parameter LogToConsole to value 0\n",
      "Set parameter LogToConsole to value 0\n",
      "Set parameter LogToConsole to value 0\n",
      "Set parameter LogToConsole to value 0\n",
      "Set parameter LogToConsole to value 0\n",
      "Set parameter LogToConsole to value 0\n",
      "Set parameter LogToConsole to value 0\n",
      "Set parameter LogToConsole to value 0\n"
     ]
    },
    {
     "name": "stderr",
     "output_type": "stream",
     "text": [
      " 13%|████████████▍                                                                                      | 126/1000 [00:00<00:02, 416.24it/s]"
     ]
    },
    {
     "name": "stdout",
     "output_type": "stream",
     "text": [
      "Set parameter LogToConsole to value 0\n",
      "Set parameter LogToConsole to value 0\n",
      "Set parameter LogToConsole to value 0\n",
      "Set parameter LogToConsole to value 0\n",
      "Set parameter LogToConsole to value 0\n",
      "Set parameter LogToConsole to value 0\n",
      "Set parameter LogToConsole to value 0\n",
      "Set parameter LogToConsole to value 0\n",
      "Set parameter LogToConsole to value 0\n",
      "Set parameter LogToConsole to value 0\n",
      "Set parameter LogToConsole to value 0\n",
      "Set parameter LogToConsole to value 0\n",
      "Set parameter LogToConsole to value 0\n",
      "Set parameter LogToConsole to value 0\n",
      "Set parameter LogToConsole to value 0\n",
      "Set parameter LogToConsole to value 0\n",
      "Set parameter LogToConsole to value 0\n",
      "Set parameter LogToConsole to value 0\n",
      "Set parameter LogToConsole to value 0\n",
      "Set parameter LogToConsole to value 0\n",
      "Set parameter LogToConsole to value 0\n",
      "Set parameter LogToConsole to value 0\n",
      "Set parameter LogToConsole to value 0\n",
      "Set parameter LogToConsole to value 0\n",
      "Set parameter LogToConsole to value 0\n",
      "Set parameter LogToConsole to value 0\n",
      "Set parameter LogToConsole to value 0\n",
      "Set parameter LogToConsole to value 0\n",
      "Set parameter LogToConsole to value 0\n",
      "Set parameter LogToConsole to value 0\n",
      "Set parameter LogToConsole to value 0\n",
      "Set parameter LogToConsole to value 0\n",
      "Set parameter LogToConsole to value 0\n",
      "Set parameter LogToConsole to value 0\n",
      "Set parameter LogToConsole to value 0\n",
      "Set parameter LogToConsole to value 0\n",
      "Set parameter LogToConsole to value 0\n",
      "Set parameter LogToConsole to value 0\n",
      "Set parameter LogToConsole to value 0\n",
      "Set parameter LogToConsole to value 0\n",
      "Set parameter LogToConsole to value 0\n",
      "Set parameter LogToConsole to value 0\n"
     ]
    },
    {
     "name": "stderr",
     "output_type": "stream",
     "text": [
      " 17%|████████████████▋                                                                                  | 168/1000 [00:00<00:01, 417.04it/s]"
     ]
    },
    {
     "name": "stdout",
     "output_type": "stream",
     "text": [
      "Set parameter LogToConsole to value 0\n",
      "Set parameter LogToConsole to value 0\n",
      "Set parameter LogToConsole to value 0\n",
      "Set parameter LogToConsole to value 0\n",
      "Set parameter LogToConsole to value 0\n",
      "Set parameter LogToConsole to value 0\n",
      "Set parameter LogToConsole to value 0\n",
      "Set parameter LogToConsole to value 0\n",
      "Set parameter LogToConsole to value 0\n",
      "Set parameter LogToConsole to value 0\n",
      "Set parameter LogToConsole to value 0\n",
      "Set parameter LogToConsole to value 0\n",
      "Set parameter LogToConsole to value 0\n",
      "Set parameter LogToConsole to value 0\n",
      "Set parameter LogToConsole to value 0\n",
      "Set parameter LogToConsole to value 0\n",
      "Set parameter LogToConsole to value 0\n",
      "Set parameter LogToConsole to value 0\n",
      "Set parameter LogToConsole to value 0\n",
      "Set parameter LogToConsole to value 0\n",
      "Set parameter LogToConsole to value 0\n",
      "Set parameter LogToConsole to value 0\n",
      "Set parameter LogToConsole to value 0\n",
      "Set parameter LogToConsole to value 0\n",
      "Set parameter LogToConsole to value 0\n",
      "Set parameter LogToConsole to value 0\n",
      "Set parameter LogToConsole to value 0\n",
      "Set parameter LogToConsole to value 0\n",
      "Set parameter LogToConsole to value 0\n",
      "Set parameter LogToConsole to value 0\n",
      "Set parameter LogToConsole to value 0\n",
      "Set parameter LogToConsole to value 0\n",
      "Set parameter LogToConsole to value 0\n",
      "Set parameter LogToConsole to value 0\n",
      "Set parameter LogToConsole to value 0\n",
      "Set parameter LogToConsole to value 0\n",
      "Set parameter LogToConsole to value 0\n",
      "Set parameter LogToConsole to value 0\n",
      "Set parameter LogToConsole to value 0\n",
      "Set parameter LogToConsole to value 0\n",
      "Set parameter LogToConsole to value 0\n",
      "Set parameter LogToConsole to value 0\n",
      "Set parameter LogToConsole to value 0\n",
      "Set parameter LogToConsole to value 0\n",
      "Set parameter LogToConsole to value 0\n"
     ]
    },
    {
     "name": "stderr",
     "output_type": "stream",
     "text": [
      " 21%|█████████████████████                                                                              | 213/1000 [00:00<00:01, 426.54it/s]"
     ]
    },
    {
     "name": "stdout",
     "output_type": "stream",
     "text": [
      "Set parameter LogToConsole to value 0\n",
      "Set parameter LogToConsole to value 0\n",
      "Set parameter LogToConsole to value 0\n",
      "Set parameter LogToConsole to value 0\n",
      "Set parameter LogToConsole to value 0\n",
      "Set parameter LogToConsole to value 0\n",
      "Set parameter LogToConsole to value 0\n",
      "Set parameter LogToConsole to value 0\n",
      "Set parameter LogToConsole to value 0\n",
      "Set parameter LogToConsole to value 0\n",
      "Set parameter LogToConsole to value 0\n",
      "Set parameter LogToConsole to value 0\n",
      "Set parameter LogToConsole to value 0\n",
      "Set parameter LogToConsole to value 0\n",
      "Set parameter LogToConsole to value 0\n",
      "Set parameter LogToConsole to value 0\n",
      "Set parameter LogToConsole to value 0\n",
      "Set parameter LogToConsole to value 0\n",
      "Set parameter LogToConsole to value 0\n",
      "Set parameter LogToConsole to value 0\n",
      "Set parameter LogToConsole to value 0\n",
      "Set parameter LogToConsole to value 0\n",
      "Set parameter LogToConsole to value 0\n",
      "Set parameter LogToConsole to value 0\n",
      "Set parameter LogToConsole to value 0\n",
      "Set parameter LogToConsole to value 0\n",
      "Set parameter LogToConsole to value 0\n",
      "Set parameter LogToConsole to value 0\n",
      "Set parameter LogToConsole to value 0\n",
      "Set parameter LogToConsole to value 0\n",
      "Set parameter LogToConsole to value 0\n",
      "Set parameter LogToConsole to value 0\n",
      "Set parameter LogToConsole to value 0\n",
      "Set parameter LogToConsole to value 0\n",
      "Set parameter LogToConsole to value 0\n",
      "Set parameter LogToConsole to value 0\n",
      "Set parameter LogToConsole to value 0\n",
      "Set parameter LogToConsole to value 0\n",
      "Set parameter LogToConsole to value 0\n",
      "Set parameter LogToConsole to value 0\n",
      "Set parameter LogToConsole to value 0\n",
      "Set parameter LogToConsole to value 0\n",
      "Set parameter LogToConsole to value 0\n",
      "Set parameter LogToConsole to value 0\n",
      "Set parameter LogToConsole to value 0\n",
      "Set parameter LogToConsole to value 0\n"
     ]
    },
    {
     "name": "stderr",
     "output_type": "stream",
     "text": [
      " 26%|█████████████████████████▋                                                                         | 259/1000 [00:00<00:01, 437.70it/s]"
     ]
    },
    {
     "name": "stdout",
     "output_type": "stream",
     "text": [
      "Set parameter LogToConsole to value 0\n",
      "Set parameter LogToConsole to value 0\n",
      "Set parameter LogToConsole to value 0\n",
      "Set parameter LogToConsole to value 0\n",
      "Set parameter LogToConsole to value 0\n",
      "Set parameter LogToConsole to value 0\n",
      "Set parameter LogToConsole to value 0\n",
      "Set parameter LogToConsole to value 0\n",
      "Set parameter LogToConsole to value 0\n",
      "Set parameter LogToConsole to value 0\n",
      "Set parameter LogToConsole to value 0\n",
      "Set parameter LogToConsole to value 0\n",
      "Set parameter LogToConsole to value 0\n",
      "Set parameter LogToConsole to value 0\n",
      "Set parameter LogToConsole to value 0\n",
      "Set parameter LogToConsole to value 0\n",
      "Set parameter LogToConsole to value 0\n",
      "Set parameter LogToConsole to value 0\n",
      "Set parameter LogToConsole to value 0\n",
      "Set parameter LogToConsole to value 0\n",
      "Set parameter LogToConsole to value 0\n",
      "Set parameter LogToConsole to value 0\n",
      "Set parameter LogToConsole to value 0\n",
      "Set parameter LogToConsole to value 0\n",
      "Set parameter LogToConsole to value 0\n",
      "Set parameter LogToConsole to value 0\n",
      "Set parameter LogToConsole to value 0\n",
      "Set parameter LogToConsole to value 0\n",
      "Set parameter LogToConsole to value 0\n",
      "Set parameter LogToConsole to value 0\n",
      "Set parameter LogToConsole to value 0\n",
      "Set parameter LogToConsole to value 0\n",
      "Set parameter LogToConsole to value 0\n",
      "Set parameter LogToConsole to value 0\n",
      "Set parameter LogToConsole to value 0\n",
      "Set parameter LogToConsole to value 0\n",
      "Set parameter LogToConsole to value 0\n",
      "Set parameter LogToConsole to value 0\n",
      "Set parameter LogToConsole to value 0\n",
      "Set parameter LogToConsole to value 0\n",
      "Set parameter LogToConsole to value 0\n",
      "Set parameter LogToConsole to value 0\n",
      "Set parameter LogToConsole to value 0\n",
      "Set parameter LogToConsole to value 0\n",
      "Set parameter LogToConsole to value 0\n"
     ]
    },
    {
     "name": "stderr",
     "output_type": "stream",
     "text": [
      " 30%|██████████████████████████████                                                                     | 304/1000 [00:00<00:01, 438.81it/s]"
     ]
    },
    {
     "name": "stdout",
     "output_type": "stream",
     "text": [
      "Set parameter LogToConsole to value 0\n",
      "Set parameter LogToConsole to value 0\n",
      "Set parameter LogToConsole to value 0\n",
      "Set parameter LogToConsole to value 0\n",
      "Set parameter LogToConsole to value 0\n",
      "Set parameter LogToConsole to value 0\n",
      "Set parameter LogToConsole to value 0\n",
      "Set parameter LogToConsole to value 0\n",
      "Set parameter LogToConsole to value 0\n",
      "Set parameter LogToConsole to value 0\n",
      "Set parameter LogToConsole to value 0\n",
      "Set parameter LogToConsole to value 0\n",
      "Set parameter LogToConsole to value 0\n",
      "Set parameter LogToConsole to value 0\n",
      "Set parameter LogToConsole to value 0\n",
      "Set parameter LogToConsole to value 0\n",
      "Set parameter LogToConsole to value 0\n",
      "Set parameter LogToConsole to value 0\n",
      "Set parameter LogToConsole to value 0\n",
      "Set parameter LogToConsole to value 0\n",
      "Set parameter LogToConsole to value 0\n",
      "Set parameter LogToConsole to value 0\n",
      "Set parameter LogToConsole to value 0\n",
      "Set parameter LogToConsole to value 0\n",
      "Set parameter LogToConsole to value 0\n",
      "Set parameter LogToConsole to value 0\n",
      "Set parameter LogToConsole to value 0\n",
      "Set parameter LogToConsole to value 0\n",
      "Set parameter LogToConsole to value 0\n",
      "Set parameter LogToConsole to value 0\n",
      "Set parameter LogToConsole to value 0\n",
      "Set parameter LogToConsole to value 0\n",
      "Set parameter LogToConsole to value 0\n",
      "Set parameter LogToConsole to value 0\n",
      "Set parameter LogToConsole to value 0\n",
      "Set parameter LogToConsole to value 0\n",
      "Set parameter LogToConsole to value 0\n",
      "Set parameter LogToConsole to value 0\n",
      "Set parameter LogToConsole to value 0\n",
      "Set parameter LogToConsole to value 0\n",
      "Set parameter LogToConsole to value 0\n",
      "Set parameter LogToConsole to value 0\n",
      "Set parameter LogToConsole to value 0\n",
      "Set parameter LogToConsole to value 0\n"
     ]
    },
    {
     "name": "stderr",
     "output_type": "stream",
     "text": [
      " 35%|██████████████████████████████████▍                                                                | 348/1000 [00:00<00:01, 438.14it/s]"
     ]
    },
    {
     "name": "stdout",
     "output_type": "stream",
     "text": [
      "Set parameter LogToConsole to value 0\n",
      "Set parameter LogToConsole to value 0\n",
      "Set parameter LogToConsole to value 0\n",
      "Set parameter LogToConsole to value 0\n",
      "Set parameter LogToConsole to value 0\n",
      "Set parameter LogToConsole to value 0\n",
      "Set parameter LogToConsole to value 0\n",
      "Set parameter LogToConsole to value 0\n",
      "Set parameter LogToConsole to value 0\n",
      "Set parameter LogToConsole to value 0\n",
      "Set parameter LogToConsole to value 0\n",
      "Set parameter LogToConsole to value 0\n",
      "Set parameter LogToConsole to value 0\n",
      "Set parameter LogToConsole to value 0\n",
      "Set parameter LogToConsole to value 0\n",
      "Set parameter LogToConsole to value 0\n",
      "Set parameter LogToConsole to value 0\n",
      "Set parameter LogToConsole to value 0\n",
      "Set parameter LogToConsole to value 0\n",
      "Set parameter LogToConsole to value 0\n",
      "Set parameter LogToConsole to value 0\n",
      "Set parameter LogToConsole to value 0\n",
      "Set parameter LogToConsole to value 0\n",
      "Set parameter LogToConsole to value 0\n",
      "Set parameter LogToConsole to value 0\n",
      "Set parameter LogToConsole to value 0\n",
      "Set parameter LogToConsole to value 0\n",
      "Set parameter LogToConsole to value 0\n",
      "Set parameter LogToConsole to value 0\n",
      "Set parameter LogToConsole to value 0\n",
      "Set parameter LogToConsole to value 0\n",
      "Set parameter LogToConsole to value 0\n",
      "Set parameter LogToConsole to value 0\n",
      "Set parameter LogToConsole to value 0\n",
      "Set parameter LogToConsole to value 0\n",
      "Set parameter LogToConsole to value 0\n",
      "Set parameter LogToConsole to value 0\n",
      "Set parameter LogToConsole to value 0\n",
      "Set parameter LogToConsole to value 0\n",
      "Set parameter LogToConsole to value 0\n",
      "Set parameter LogToConsole to value 0\n",
      "Set parameter LogToConsole to value 0\n",
      "Set parameter LogToConsole to value 0\n",
      "Set parameter LogToConsole to value 0\n",
      "Set parameter LogToConsole to value 0\n"
     ]
    },
    {
     "name": "stderr",
     "output_type": "stream",
     "text": [
      " 39%|██████████████████████████████████████▉                                                            | 393/1000 [00:00<00:01, 439.08it/s]"
     ]
    },
    {
     "name": "stdout",
     "output_type": "stream",
     "text": [
      "Set parameter LogToConsole to value 0\n",
      "Set parameter LogToConsole to value 0\n",
      "Set parameter LogToConsole to value 0\n",
      "Set parameter LogToConsole to value 0\n",
      "Set parameter LogToConsole to value 0\n",
      "Set parameter LogToConsole to value 0\n",
      "Set parameter LogToConsole to value 0\n",
      "Set parameter LogToConsole to value 0\n",
      "Set parameter LogToConsole to value 0\n",
      "Set parameter LogToConsole to value 0\n",
      "Set parameter LogToConsole to value 0\n",
      "Set parameter LogToConsole to value 0\n",
      "Set parameter LogToConsole to value 0\n",
      "Set parameter LogToConsole to value 0\n",
      "Set parameter LogToConsole to value 0\n",
      "Set parameter LogToConsole to value 0\n",
      "Set parameter LogToConsole to value 0\n",
      "Set parameter LogToConsole to value 0\n",
      "Set parameter LogToConsole to value 0\n",
      "Set parameter LogToConsole to value 0\n",
      "Set parameter LogToConsole to value 0\n",
      "Set parameter LogToConsole to value 0\n",
      "Set parameter LogToConsole to value 0\n",
      "Set parameter LogToConsole to value 0\n",
      "Set parameter LogToConsole to value 0\n",
      "Set parameter LogToConsole to value 0\n",
      "Set parameter LogToConsole to value 0\n",
      "Set parameter LogToConsole to value 0\n",
      "Set parameter LogToConsole to value 0\n",
      "Set parameter LogToConsole to value 0\n",
      "Set parameter LogToConsole to value 0\n",
      "Set parameter LogToConsole to value 0\n",
      "Set parameter LogToConsole to value 0\n",
      "Set parameter LogToConsole to value 0\n",
      "Set parameter LogToConsole to value 0\n",
      "Set parameter LogToConsole to value 0\n",
      "Set parameter LogToConsole to value 0\n",
      "Set parameter LogToConsole to value 0\n",
      "Set parameter LogToConsole to value 0\n",
      "Set parameter LogToConsole to value 0\n",
      "Set parameter LogToConsole to value 0\n",
      "Set parameter LogToConsole to value 0\n",
      "Set parameter LogToConsole to value 0\n",
      "Set parameter LogToConsole to value 0\n"
     ]
    },
    {
     "name": "stderr",
     "output_type": "stream",
     "text": [
      " 44%|███████████████████████████████████████████▎                                                       | 437/1000 [00:01<00:01, 433.63it/s]"
     ]
    },
    {
     "name": "stdout",
     "output_type": "stream",
     "text": [
      "Set parameter LogToConsole to value 0\n",
      "Set parameter LogToConsole to value 0\n",
      "Set parameter LogToConsole to value 0\n",
      "Set parameter LogToConsole to value 0\n",
      "Set parameter LogToConsole to value 0\n",
      "Set parameter LogToConsole to value 0\n",
      "Set parameter LogToConsole to value 0\n",
      "Set parameter LogToConsole to value 0\n",
      "Set parameter LogToConsole to value 0\n",
      "Set parameter LogToConsole to value 0\n",
      "Set parameter LogToConsole to value 0\n",
      "Set parameter LogToConsole to value 0\n",
      "Set parameter LogToConsole to value 0\n",
      "Set parameter LogToConsole to value 0\n",
      "Set parameter LogToConsole to value 0\n",
      "Set parameter LogToConsole to value 0\n",
      "Set parameter LogToConsole to value 0\n",
      "Set parameter LogToConsole to value 0\n",
      "Set parameter LogToConsole to value 0\n",
      "Set parameter LogToConsole to value 0\n",
      "Set parameter LogToConsole to value 0\n",
      "Set parameter LogToConsole to value 0\n",
      "Set parameter LogToConsole to value 0\n",
      "Set parameter LogToConsole to value 0\n",
      "Set parameter LogToConsole to value 0\n",
      "Set parameter LogToConsole to value 0\n",
      "Set parameter LogToConsole to value 0\n",
      "Set parameter LogToConsole to value 0\n",
      "Set parameter LogToConsole to value 0\n",
      "Set parameter LogToConsole to value 0\n",
      "Set parameter LogToConsole to value 0\n",
      "Set parameter LogToConsole to value 0\n",
      "Set parameter LogToConsole to value 0\n",
      "Set parameter LogToConsole to value 0\n",
      "Set parameter LogToConsole to value 0\n",
      "Set parameter LogToConsole to value 0\n",
      "Set parameter LogToConsole to value 0\n",
      "Set parameter LogToConsole to value 0\n",
      "Set parameter LogToConsole to value 0\n",
      "Set parameter LogToConsole to value 0\n",
      "Set parameter LogToConsole to value 0\n",
      "Set parameter LogToConsole to value 0\n",
      "Set parameter LogToConsole to value 0\n",
      "Set parameter LogToConsole to value 0\n"
     ]
    },
    {
     "name": "stderr",
     "output_type": "stream",
     "text": [
      " 48%|███████████████████████████████████████████████▌                                                   | 481/1000 [00:01<00:01, 431.13it/s]"
     ]
    },
    {
     "name": "stdout",
     "output_type": "stream",
     "text": [
      "Set parameter LogToConsole to value 0\n",
      "Set parameter LogToConsole to value 0\n",
      "Set parameter LogToConsole to value 0\n",
      "Set parameter LogToConsole to value 0\n",
      "Set parameter LogToConsole to value 0\n",
      "Set parameter LogToConsole to value 0\n",
      "Set parameter LogToConsole to value 0\n",
      "Set parameter LogToConsole to value 0\n",
      "Set parameter LogToConsole to value 0\n",
      "Set parameter LogToConsole to value 0\n",
      "Set parameter LogToConsole to value 0\n",
      "Set parameter LogToConsole to value 0\n",
      "Set parameter LogToConsole to value 0\n",
      "Set parameter LogToConsole to value 0\n",
      "Set parameter LogToConsole to value 0\n",
      "Set parameter LogToConsole to value 0\n",
      "Set parameter LogToConsole to value 0\n",
      "Set parameter LogToConsole to value 0\n",
      "Set parameter LogToConsole to value 0\n",
      "Set parameter LogToConsole to value 0\n",
      "Set parameter LogToConsole to value 0\n",
      "Set parameter LogToConsole to value 0\n",
      "Set parameter LogToConsole to value 0\n",
      "Set parameter LogToConsole to value 0\n",
      "Set parameter LogToConsole to value 0\n",
      "Set parameter LogToConsole to value 0\n",
      "Set parameter LogToConsole to value 0\n",
      "Set parameter LogToConsole to value 0\n",
      "Set parameter LogToConsole to value 0\n",
      "Set parameter LogToConsole to value 0\n",
      "Set parameter LogToConsole to value 0\n",
      "Set parameter LogToConsole to value 0\n",
      "Set parameter LogToConsole to value 0\n",
      "Set parameter LogToConsole to value 0\n",
      "Set parameter LogToConsole to value 0\n",
      "Set parameter LogToConsole to value 0\n",
      "Set parameter LogToConsole to value 0\n",
      "Set parameter LogToConsole to value 0\n",
      "Set parameter LogToConsole to value 0\n",
      "Set parameter LogToConsole to value 0\n",
      "Set parameter LogToConsole to value 0\n",
      "Set parameter LogToConsole to value 0\n",
      "Set parameter LogToConsole to value 0\n",
      "Set parameter LogToConsole to value 0\n"
     ]
    },
    {
     "name": "stderr",
     "output_type": "stream",
     "text": [
      " 52%|███████████████████████████████████████████████████▉                                               | 525/1000 [00:01<00:01, 427.71it/s]"
     ]
    },
    {
     "name": "stdout",
     "output_type": "stream",
     "text": [
      "Set parameter LogToConsole to value 0\n",
      "Set parameter LogToConsole to value 0\n",
      "Set parameter LogToConsole to value 0\n",
      "Set parameter LogToConsole to value 0\n",
      "Set parameter LogToConsole to value 0\n",
      "Set parameter LogToConsole to value 0\n",
      "Set parameter LogToConsole to value 0\n",
      "Set parameter LogToConsole to value 0\n",
      "Set parameter LogToConsole to value 0\n",
      "Set parameter LogToConsole to value 0\n",
      "Set parameter LogToConsole to value 0\n",
      "Set parameter LogToConsole to value 0\n",
      "Set parameter LogToConsole to value 0\n",
      "Set parameter LogToConsole to value 0\n",
      "Set parameter LogToConsole to value 0\n",
      "Set parameter LogToConsole to value 0\n",
      "Set parameter LogToConsole to value 0\n",
      "Set parameter LogToConsole to value 0\n",
      "Set parameter LogToConsole to value 0\n",
      "Set parameter LogToConsole to value 0\n",
      "Set parameter LogToConsole to value 0\n",
      "Set parameter LogToConsole to value 0\n",
      "Set parameter LogToConsole to value 0\n",
      "Set parameter LogToConsole to value 0\n",
      "Set parameter LogToConsole to value 0\n",
      "Set parameter LogToConsole to value 0\n",
      "Set parameter LogToConsole to value 0\n",
      "Set parameter LogToConsole to value 0\n",
      "Set parameter LogToConsole to value 0\n",
      "Set parameter LogToConsole to value 0\n",
      "Set parameter LogToConsole to value 0\n",
      "Set parameter LogToConsole to value 0\n",
      "Set parameter LogToConsole to value 0\n",
      "Set parameter LogToConsole to value 0\n",
      "Set parameter LogToConsole to value 0\n",
      "Set parameter LogToConsole to value 0\n",
      "Set parameter LogToConsole to value 0\n",
      "Set parameter LogToConsole to value 0\n",
      "Set parameter LogToConsole to value 0\n",
      "Set parameter LogToConsole to value 0\n",
      "Set parameter LogToConsole to value 0\n",
      "Set parameter LogToConsole to value 0\n",
      "Set parameter LogToConsole to value 0\n",
      "Set parameter LogToConsole to value 0\n",
      "Set parameter LogToConsole to value 0\n",
      "Set parameter LogToConsole to value 0\n"
     ]
    },
    {
     "name": "stderr",
     "output_type": "stream",
     "text": [
      " 57%|████████████████████████████████████████████████████████▌                                          | 571/1000 [00:01<00:00, 436.44it/s]"
     ]
    },
    {
     "name": "stdout",
     "output_type": "stream",
     "text": [
      "Set parameter LogToConsole to value 0\n",
      "Set parameter LogToConsole to value 0\n",
      "Set parameter LogToConsole to value 0\n",
      "Set parameter LogToConsole to value 0\n",
      "Set parameter LogToConsole to value 0\n",
      "Set parameter LogToConsole to value 0\n",
      "Set parameter LogToConsole to value 0\n",
      "Set parameter LogToConsole to value 0\n",
      "Set parameter LogToConsole to value 0\n",
      "Set parameter LogToConsole to value 0\n",
      "Set parameter LogToConsole to value 0\n",
      "Set parameter LogToConsole to value 0\n",
      "Set parameter LogToConsole to value 0\n",
      "Set parameter LogToConsole to value 0\n",
      "Set parameter LogToConsole to value 0\n",
      "Set parameter LogToConsole to value 0\n",
      "Set parameter LogToConsole to value 0\n",
      "Set parameter LogToConsole to value 0\n",
      "Set parameter LogToConsole to value 0\n",
      "Set parameter LogToConsole to value 0\n",
      "Set parameter LogToConsole to value 0\n",
      "Set parameter LogToConsole to value 0\n",
      "Set parameter LogToConsole to value 0\n",
      "Set parameter LogToConsole to value 0\n",
      "Set parameter LogToConsole to value 0\n",
      "Set parameter LogToConsole to value 0\n",
      "Set parameter LogToConsole to value 0\n",
      "Set parameter LogToConsole to value 0\n",
      "Set parameter LogToConsole to value 0\n",
      "Set parameter LogToConsole to value 0\n",
      "Set parameter LogToConsole to value 0\n",
      "Set parameter LogToConsole to value 0\n",
      "Set parameter LogToConsole to value 0\n",
      "Set parameter LogToConsole to value 0\n",
      "Set parameter LogToConsole to value 0\n",
      "Set parameter LogToConsole to value 0\n",
      "Set parameter LogToConsole to value 0\n",
      "Set parameter LogToConsole to value 0\n",
      "Set parameter LogToConsole to value 0\n",
      "Set parameter LogToConsole to value 0\n",
      "Set parameter LogToConsole to value 0\n",
      "Set parameter LogToConsole to value 0\n",
      "Set parameter LogToConsole to value 0\n",
      "Set parameter LogToConsole to value 0\n",
      "Set parameter LogToConsole to value 0\n"
     ]
    },
    {
     "name": "stderr",
     "output_type": "stream",
     "text": [
      " 62%|████████████████████████████████████████████████████████████▉                                      | 616/1000 [00:01<00:00, 437.71it/s]"
     ]
    },
    {
     "name": "stdout",
     "output_type": "stream",
     "text": [
      "Set parameter LogToConsole to value 0\n",
      "Set parameter LogToConsole to value 0\n",
      "Set parameter LogToConsole to value 0\n",
      "Set parameter LogToConsole to value 0\n",
      "Set parameter LogToConsole to value 0\n",
      "Set parameter LogToConsole to value 0\n",
      "Set parameter LogToConsole to value 0\n",
      "Set parameter LogToConsole to value 0\n",
      "Set parameter LogToConsole to value 0\n",
      "Set parameter LogToConsole to value 0\n",
      "Set parameter LogToConsole to value 0\n",
      "Set parameter LogToConsole to value 0\n",
      "Set parameter LogToConsole to value 0\n",
      "Set parameter LogToConsole to value 0\n",
      "Set parameter LogToConsole to value 0\n",
      "Set parameter LogToConsole to value 0\n",
      "Set parameter LogToConsole to value 0\n",
      "Set parameter LogToConsole to value 0\n",
      "Set parameter LogToConsole to value 0\n",
      "Set parameter LogToConsole to value 0\n",
      "Set parameter LogToConsole to value 0\n",
      "Set parameter LogToConsole to value 0\n",
      "Set parameter LogToConsole to value 0\n",
      "Set parameter LogToConsole to value 0\n",
      "Set parameter LogToConsole to value 0\n",
      "Set parameter LogToConsole to value 0\n",
      "Set parameter LogToConsole to value 0\n",
      "Set parameter LogToConsole to value 0\n",
      "Set parameter LogToConsole to value 0\n",
      "Set parameter LogToConsole to value 0\n",
      "Set parameter LogToConsole to value 0\n",
      "Set parameter LogToConsole to value 0\n",
      "Set parameter LogToConsole to value 0\n",
      "Set parameter LogToConsole to value 0\n",
      "Set parameter LogToConsole to value 0\n",
      "Set parameter LogToConsole to value 0\n",
      "Set parameter LogToConsole to value 0\n",
      "Set parameter LogToConsole to value 0\n",
      "Set parameter LogToConsole to value 0\n",
      "Set parameter LogToConsole to value 0\n",
      "Set parameter LogToConsole to value 0\n",
      "Set parameter LogToConsole to value 0\n",
      "Set parameter LogToConsole to value 0\n",
      "Set parameter LogToConsole to value 0\n",
      "Set parameter LogToConsole to value 0\n"
     ]
    },
    {
     "name": "stderr",
     "output_type": "stream",
     "text": [
      " 66%|█████████████████████████████████████████████████████████████████▍                                 | 661/1000 [00:01<00:00, 441.13it/s]"
     ]
    },
    {
     "name": "stdout",
     "output_type": "stream",
     "text": [
      "Set parameter LogToConsole to value 0\n",
      "Set parameter LogToConsole to value 0\n",
      "Set parameter LogToConsole to value 0\n",
      "Set parameter LogToConsole to value 0\n",
      "Set parameter LogToConsole to value 0\n",
      "Set parameter LogToConsole to value 0\n",
      "Set parameter LogToConsole to value 0\n",
      "Set parameter LogToConsole to value 0\n",
      "Set parameter LogToConsole to value 0\n",
      "Set parameter LogToConsole to value 0\n",
      "Set parameter LogToConsole to value 0\n",
      "Set parameter LogToConsole to value 0\n",
      "Set parameter LogToConsole to value 0\n",
      "Set parameter LogToConsole to value 0\n",
      "Set parameter LogToConsole to value 0\n",
      "Set parameter LogToConsole to value 0\n",
      "Set parameter LogToConsole to value 0\n",
      "Set parameter LogToConsole to value 0\n",
      "Set parameter LogToConsole to value 0\n",
      "Set parameter LogToConsole to value 0\n",
      "Set parameter LogToConsole to value 0\n",
      "Set parameter LogToConsole to value 0\n",
      "Set parameter LogToConsole to value 0\n",
      "Set parameter LogToConsole to value 0\n",
      "Set parameter LogToConsole to value 0\n",
      "Set parameter LogToConsole to value 0\n",
      "Set parameter LogToConsole to value 0\n",
      "Set parameter LogToConsole to value 0\n",
      "Set parameter LogToConsole to value 0\n",
      "Set parameter LogToConsole to value 0\n",
      "Set parameter LogToConsole to value 0\n",
      "Set parameter LogToConsole to value 0\n",
      "Set parameter LogToConsole to value 0\n",
      "Set parameter LogToConsole to value 0\n",
      "Set parameter LogToConsole to value 0\n",
      "Set parameter LogToConsole to value 0\n",
      "Set parameter LogToConsole to value 0\n",
      "Set parameter LogToConsole to value 0\n",
      "Set parameter LogToConsole to value 0\n",
      "Set parameter LogToConsole to value 0\n",
      "Set parameter LogToConsole to value 0\n",
      "Set parameter LogToConsole to value 0\n",
      "Set parameter LogToConsole to value 0\n",
      "Set parameter LogToConsole to value 0\n",
      "Set parameter LogToConsole to value 0\n",
      "Set parameter LogToConsole to value 0\n"
     ]
    },
    {
     "name": "stderr",
     "output_type": "stream",
     "text": [
      " 71%|█████████████████████████████████████████████████████████████████████▉                             | 707/1000 [00:01<00:00, 446.40it/s]"
     ]
    },
    {
     "name": "stdout",
     "output_type": "stream",
     "text": [
      "Set parameter LogToConsole to value 0\n",
      "Set parameter LogToConsole to value 0\n",
      "Set parameter LogToConsole to value 0\n",
      "Set parameter LogToConsole to value 0\n",
      "Set parameter LogToConsole to value 0\n",
      "Set parameter LogToConsole to value 0\n",
      "Set parameter LogToConsole to value 0\n",
      "Set parameter LogToConsole to value 0\n",
      "Set parameter LogToConsole to value 0\n",
      "Set parameter LogToConsole to value 0\n",
      "Set parameter LogToConsole to value 0\n",
      "Set parameter LogToConsole to value 0\n",
      "Set parameter LogToConsole to value 0\n",
      "Set parameter LogToConsole to value 0\n",
      "Set parameter LogToConsole to value 0\n",
      "Set parameter LogToConsole to value 0\n",
      "Set parameter LogToConsole to value 0\n",
      "Set parameter LogToConsole to value 0\n",
      "Set parameter LogToConsole to value 0\n",
      "Set parameter LogToConsole to value 0\n",
      "Set parameter LogToConsole to value 0\n",
      "Set parameter LogToConsole to value 0\n",
      "Set parameter LogToConsole to value 0\n",
      "Set parameter LogToConsole to value 0\n",
      "Set parameter LogToConsole to value 0\n",
      "Set parameter LogToConsole to value 0\n",
      "Set parameter LogToConsole to value 0\n",
      "Set parameter LogToConsole to value 0\n",
      "Set parameter LogToConsole to value 0\n",
      "Set parameter LogToConsole to value 0\n",
      "Set parameter LogToConsole to value 0\n",
      "Set parameter LogToConsole to value 0\n",
      "Set parameter LogToConsole to value 0\n",
      "Set parameter LogToConsole to value 0\n",
      "Set parameter LogToConsole to value 0\n",
      "Set parameter LogToConsole to value 0\n",
      "Set parameter LogToConsole to value 0\n",
      "Set parameter LogToConsole to value 0\n",
      "Set parameter LogToConsole to value 0\n",
      "Set parameter LogToConsole to value 0\n",
      "Set parameter LogToConsole to value 0\n",
      "Set parameter LogToConsole to value 0\n",
      "Set parameter LogToConsole to value 0\n",
      "Set parameter LogToConsole to value 0\n",
      "Set parameter LogToConsole to value 0\n"
     ]
    },
    {
     "name": "stderr",
     "output_type": "stream",
     "text": [
      " 75%|██████████████████████████████████████████████████████████████████████████▍                        | 752/1000 [00:01<00:00, 442.10it/s]"
     ]
    },
    {
     "name": "stdout",
     "output_type": "stream",
     "text": [
      "Set parameter LogToConsole to value 0\n",
      "Set parameter LogToConsole to value 0\n",
      "Set parameter LogToConsole to value 0\n",
      "Set parameter LogToConsole to value 0\n",
      "Set parameter LogToConsole to value 0\n",
      "Set parameter LogToConsole to value 0\n",
      "Set parameter LogToConsole to value 0\n",
      "Set parameter LogToConsole to value 0\n",
      "Set parameter LogToConsole to value 0\n",
      "Set parameter LogToConsole to value 0\n",
      "Set parameter LogToConsole to value 0\n",
      "Set parameter LogToConsole to value 0\n",
      "Set parameter LogToConsole to value 0\n",
      "Set parameter LogToConsole to value 0\n",
      "Set parameter LogToConsole to value 0\n",
      "Set parameter LogToConsole to value 0\n",
      "Set parameter LogToConsole to value 0\n",
      "Set parameter LogToConsole to value 0\n",
      "Set parameter LogToConsole to value 0\n",
      "Set parameter LogToConsole to value 0\n",
      "Set parameter LogToConsole to value 0\n",
      "Set parameter LogToConsole to value 0\n",
      "Set parameter LogToConsole to value 0\n",
      "Set parameter LogToConsole to value 0\n",
      "Set parameter LogToConsole to value 0\n",
      "Set parameter LogToConsole to value 0\n",
      "Set parameter LogToConsole to value 0\n",
      "Set parameter LogToConsole to value 0\n",
      "Set parameter LogToConsole to value 0\n",
      "Set parameter LogToConsole to value 0\n",
      "Set parameter LogToConsole to value 0\n",
      "Set parameter LogToConsole to value 0\n",
      "Set parameter LogToConsole to value 0\n",
      "Set parameter LogToConsole to value 0\n",
      "Set parameter LogToConsole to value 0\n",
      "Set parameter LogToConsole to value 0\n",
      "Set parameter LogToConsole to value 0\n",
      "Set parameter LogToConsole to value 0\n",
      "Set parameter LogToConsole to value 0\n",
      "Set parameter LogToConsole to value 0\n",
      "Set parameter LogToConsole to value 0\n",
      "Set parameter LogToConsole to value 0\n",
      "Set parameter LogToConsole to value 0\n",
      "Set parameter LogToConsole to value 0\n",
      "Set parameter LogToConsole to value 0\n",
      "Set parameter LogToConsole to value 0\n"
     ]
    },
    {
     "name": "stderr",
     "output_type": "stream",
     "text": [
      " 80%|███████████████████████████████████████████████████████████████████████████████                    | 798/1000 [00:01<00:00, 444.92it/s]"
     ]
    },
    {
     "name": "stdout",
     "output_type": "stream",
     "text": [
      "Set parameter LogToConsole to value 0\n",
      "Set parameter LogToConsole to value 0\n",
      "Set parameter LogToConsole to value 0\n",
      "Set parameter LogToConsole to value 0\n",
      "Set parameter LogToConsole to value 0\n",
      "Set parameter LogToConsole to value 0\n",
      "Set parameter LogToConsole to value 0\n",
      "Set parameter LogToConsole to value 0\n",
      "Set parameter LogToConsole to value 0\n",
      "Set parameter LogToConsole to value 0\n",
      "Set parameter LogToConsole to value 0\n",
      "Set parameter LogToConsole to value 0\n",
      "Set parameter LogToConsole to value 0\n",
      "Set parameter LogToConsole to value 0\n",
      "Set parameter LogToConsole to value 0\n",
      "Set parameter LogToConsole to value 0\n",
      "Set parameter LogToConsole to value 0\n",
      "Set parameter LogToConsole to value 0\n",
      "Set parameter LogToConsole to value 0\n",
      "Set parameter LogToConsole to value 0\n",
      "Set parameter LogToConsole to value 0\n",
      "Set parameter LogToConsole to value 0\n",
      "Set parameter LogToConsole to value 0\n",
      "Set parameter LogToConsole to value 0\n",
      "Set parameter LogToConsole to value 0\n",
      "Set parameter LogToConsole to value 0\n",
      "Set parameter LogToConsole to value 0\n",
      "Set parameter LogToConsole to value 0\n",
      "Set parameter LogToConsole to value 0\n",
      "Set parameter LogToConsole to value 0\n",
      "Set parameter LogToConsole to value 0\n",
      "Set parameter LogToConsole to value 0\n",
      "Set parameter LogToConsole to value 0\n",
      "Set parameter LogToConsole to value 0\n",
      "Set parameter LogToConsole to value 0\n",
      "Set parameter LogToConsole to value 0\n",
      "Set parameter LogToConsole to value 0\n",
      "Set parameter LogToConsole to value 0\n",
      "Set parameter LogToConsole to value 0\n",
      "Set parameter LogToConsole to value 0\n",
      "Set parameter LogToConsole to value 0\n",
      "Set parameter LogToConsole to value 0\n",
      "Set parameter LogToConsole to value 0\n",
      "Set parameter LogToConsole to value 0\n",
      "Set parameter LogToConsole to value 0\n"
     ]
    },
    {
     "name": "stderr",
     "output_type": "stream",
     "text": [
      " 84%|███████████████████████████████████████████████████████████████████████████████████▍               | 843/1000 [00:01<00:00, 442.16it/s]"
     ]
    },
    {
     "name": "stdout",
     "output_type": "stream",
     "text": [
      "Set parameter LogToConsole to value 0\n",
      "Set parameter LogToConsole to value 0\n",
      "Set parameter LogToConsole to value 0\n",
      "Set parameter LogToConsole to value 0\n",
      "Set parameter LogToConsole to value 0\n",
      "Set parameter LogToConsole to value 0\n",
      "Set parameter LogToConsole to value 0\n",
      "Set parameter LogToConsole to value 0\n",
      "Set parameter LogToConsole to value 0\n",
      "Set parameter LogToConsole to value 0\n",
      "Set parameter LogToConsole to value 0\n",
      "Set parameter LogToConsole to value 0\n",
      "Set parameter LogToConsole to value 0\n",
      "Set parameter LogToConsole to value 0\n",
      "Set parameter LogToConsole to value 0\n",
      "Set parameter LogToConsole to value 0\n",
      "Set parameter LogToConsole to value 0\n",
      "Set parameter LogToConsole to value 0\n",
      "Set parameter LogToConsole to value 0\n",
      "Set parameter LogToConsole to value 0\n",
      "Set parameter LogToConsole to value 0\n",
      "Set parameter LogToConsole to value 0\n",
      "Set parameter LogToConsole to value 0\n",
      "Set parameter LogToConsole to value 0\n",
      "Set parameter LogToConsole to value 0\n",
      "Set parameter LogToConsole to value 0\n",
      "Set parameter LogToConsole to value 0\n",
      "Set parameter LogToConsole to value 0\n",
      "Set parameter LogToConsole to value 0\n",
      "Set parameter LogToConsole to value 0\n",
      "Set parameter LogToConsole to value 0\n",
      "Set parameter LogToConsole to value 0\n",
      "Set parameter LogToConsole to value 0\n",
      "Set parameter LogToConsole to value 0\n",
      "Set parameter LogToConsole to value 0\n",
      "Set parameter LogToConsole to value 0\n",
      "Set parameter LogToConsole to value 0\n",
      "Set parameter LogToConsole to value 0\n",
      "Set parameter LogToConsole to value 0\n",
      "Set parameter LogToConsole to value 0\n",
      "Set parameter LogToConsole to value 0\n",
      "Set parameter LogToConsole to value 0\n",
      "Set parameter LogToConsole to value 0\n",
      "Set parameter LogToConsole to value 0\n",
      "Set parameter LogToConsole to value 0\n"
     ]
    },
    {
     "name": "stderr",
     "output_type": "stream",
     "text": [
      " 89%|███████████████████████████████████████████████████████████████████████████████████████▉           | 888/1000 [00:02<00:00, 435.74it/s]"
     ]
    },
    {
     "name": "stdout",
     "output_type": "stream",
     "text": [
      "Set parameter LogToConsole to value 0\n",
      "Set parameter LogToConsole to value 0\n",
      "Set parameter LogToConsole to value 0\n",
      "Set parameter LogToConsole to value 0\n",
      "Set parameter LogToConsole to value 0\n",
      "Set parameter LogToConsole to value 0\n",
      "Set parameter LogToConsole to value 0\n",
      "Set parameter LogToConsole to value 0\n",
      "Set parameter LogToConsole to value 0\n",
      "Set parameter LogToConsole to value 0\n",
      "Set parameter LogToConsole to value 0\n",
      "Set parameter LogToConsole to value 0\n",
      "Set parameter LogToConsole to value 0\n",
      "Set parameter LogToConsole to value 0\n",
      "Set parameter LogToConsole to value 0\n",
      "Set parameter LogToConsole to value 0\n",
      "Set parameter LogToConsole to value 0\n",
      "Set parameter LogToConsole to value 0\n",
      "Set parameter LogToConsole to value 0\n",
      "Set parameter LogToConsole to value 0\n",
      "Set parameter LogToConsole to value 0\n",
      "Set parameter LogToConsole to value 0\n",
      "Set parameter LogToConsole to value 0\n",
      "Set parameter LogToConsole to value 0\n",
      "Set parameter LogToConsole to value 0\n",
      "Set parameter LogToConsole to value 0\n",
      "Set parameter LogToConsole to value 0\n",
      "Set parameter LogToConsole to value 0\n",
      "Set parameter LogToConsole to value 0\n",
      "Set parameter LogToConsole to value 0\n",
      "Set parameter LogToConsole to value 0\n",
      "Set parameter LogToConsole to value 0\n",
      "Set parameter LogToConsole to value 0\n",
      "Set parameter LogToConsole to value 0\n",
      "Set parameter LogToConsole to value 0\n",
      "Set parameter LogToConsole to value 0\n",
      "Set parameter LogToConsole to value 0\n",
      "Set parameter LogToConsole to value 0\n",
      "Set parameter LogToConsole to value 0\n",
      "Set parameter LogToConsole to value 0\n",
      "Set parameter LogToConsole to value 0\n",
      "Set parameter LogToConsole to value 0\n",
      "Set parameter LogToConsole to value 0\n",
      "Set parameter LogToConsole to value 0\n",
      "Set parameter LogToConsole to value 0\n",
      "Set parameter LogToConsole to value 0\n"
     ]
    },
    {
     "name": "stderr",
     "output_type": "stream",
     "text": [
      " 93%|████████████████████████████████████████████████████████████████████████████████████████████▍      | 934/1000 [00:02<00:00, 441.23it/s]"
     ]
    },
    {
     "name": "stdout",
     "output_type": "stream",
     "text": [
      "Set parameter LogToConsole to value 0\n",
      "Set parameter LogToConsole to value 0\n",
      "Set parameter LogToConsole to value 0\n",
      "Set parameter LogToConsole to value 0\n",
      "Set parameter LogToConsole to value 0\n",
      "Set parameter LogToConsole to value 0\n",
      "Set parameter LogToConsole to value 0\n",
      "Set parameter LogToConsole to value 0\n",
      "Set parameter LogToConsole to value 0\n",
      "Set parameter LogToConsole to value 0\n",
      "Set parameter LogToConsole to value 0\n",
      "Set parameter LogToConsole to value 0\n",
      "Set parameter LogToConsole to value 0\n",
      "Set parameter LogToConsole to value 0\n",
      "Set parameter LogToConsole to value 0\n",
      "Set parameter LogToConsole to value 0\n",
      "Set parameter LogToConsole to value 0\n",
      "Set parameter LogToConsole to value 0\n",
      "Set parameter LogToConsole to value 0\n",
      "Set parameter LogToConsole to value 0\n",
      "Set parameter LogToConsole to value 0\n",
      "Set parameter LogToConsole to value 0\n",
      "Set parameter LogToConsole to value 0\n",
      "Set parameter LogToConsole to value 0\n",
      "Set parameter LogToConsole to value 0\n",
      "Set parameter LogToConsole to value 0\n",
      "Set parameter LogToConsole to value 0\n",
      "Set parameter LogToConsole to value 0\n",
      "Set parameter LogToConsole to value 0\n",
      "Set parameter LogToConsole to value 0\n",
      "Set parameter LogToConsole to value 0\n",
      "Set parameter LogToConsole to value 0\n",
      "Set parameter LogToConsole to value 0\n",
      "Set parameter LogToConsole to value 0\n",
      "Set parameter LogToConsole to value 0\n",
      "Set parameter LogToConsole to value 0\n",
      "Set parameter LogToConsole to value 0\n",
      "Set parameter LogToConsole to value 0\n",
      "Set parameter LogToConsole to value 0\n",
      "Set parameter LogToConsole to value 0\n",
      "Set parameter LogToConsole to value 0\n",
      "Set parameter LogToConsole to value 0\n",
      "Set parameter LogToConsole to value 0\n",
      "Set parameter LogToConsole to value 0\n",
      "Set parameter LogToConsole to value 0\n",
      "Set parameter LogToConsole to value 0\n",
      "Set parameter LogToConsole to value 0\n"
     ]
    },
    {
     "name": "stderr",
     "output_type": "stream",
     "text": [
      " 98%|█████████████████████████████████████████████████████████████████████████████████████████████████  | 981/1000 [00:02<00:00, 447.63it/s]"
     ]
    },
    {
     "name": "stdout",
     "output_type": "stream",
     "text": [
      "Set parameter LogToConsole to value 0\n",
      "Set parameter LogToConsole to value 0\n",
      "Set parameter LogToConsole to value 0\n",
      "Set parameter LogToConsole to value 0\n",
      "Set parameter LogToConsole to value 0\n",
      "Set parameter LogToConsole to value 0\n",
      "Set parameter LogToConsole to value 0\n",
      "Set parameter LogToConsole to value 0\n",
      "Set parameter LogToConsole to value 0\n",
      "Set parameter LogToConsole to value 0\n",
      "Set parameter LogToConsole to value 0\n",
      "Set parameter LogToConsole to value 0\n",
      "Set parameter LogToConsole to value 0\n",
      "Set parameter LogToConsole to value 0\n",
      "Set parameter LogToConsole to value 0\n",
      "Set parameter LogToConsole to value 0\n",
      "Set parameter LogToConsole to value 0\n",
      "Set parameter LogToConsole to value 0\n",
      "Set parameter LogToConsole to value 0\n"
     ]
    },
    {
     "name": "stderr",
     "output_type": "stream",
     "text": [
      "100%|██████████████████████████████████████████████████████████████████████████████████████████████████| 1000/1000 [00:02<00:00, 437.49it/s]\n"
     ]
    }
   ],
   "source": [
    "weighted_sum(config, True)"
   ]
  },
  {
   "cell_type": "code",
   "execution_count": 5,
   "id": "7928e5e6-10d1-4a7a-a062-579e2475a021",
   "metadata": {},
   "outputs": [
    {
     "name": "stdout",
     "output_type": "stream",
     "text": [
      "steps = [0, 100, 200, 300, 400, 500, 600, 700, 800, 900, 1000]\n"
     ]
    }
   ],
   "source": [
    "# define steps where to evaluate HV progress\n",
    "step_size = 100\n",
    "steps = range(0, config.num_samples+1, step_size)\n",
    "print('steps =', list(steps))"
   ]
  },
  {
   "cell_type": "code",
   "execution_count": 6,
   "id": "f41e3f82-a769-401a-ac79-89ef15d16651",
   "metadata": {},
   "outputs": [
    {
     "name": "stdout",
     "output_type": "stream",
     "text": [
      "evaluate samples objective... done.\n",
      "1 / 10\n"
     ]
    },
    {
     "name": "stderr",
     "output_type": "stream",
     "text": [
      "100%|████████████████████████████████████████████████████████████████████████████████████████████████████| 55/55 [00:00<00:00, 32468.22it/s]\n"
     ]
    },
    {
     "name": "stdout",
     "output_type": "stream",
     "text": [
      "#NDP = 48\n",
      "HV   =  42341.46033592121\n",
      "2 / 10\n"
     ]
    },
    {
     "name": "stderr",
     "output_type": "stream",
     "text": [
      "100%|████████████████████████████████████████████████████████████████████████████████████████████████████| 75/75 [00:00<00:00, 35682.03it/s]\n"
     ]
    },
    {
     "name": "stdout",
     "output_type": "stream",
     "text": [
      "#NDP = 64\n",
      "HV   =  42521.70633332275\n",
      "3 / 10\n"
     ]
    },
    {
     "name": "stderr",
     "output_type": "stream",
     "text": [
      "100%|████████████████████████████████████████████████████████████████████████████████████████████████████| 85/85 [00:00<00:00, 33649.44it/s]\n"
     ]
    },
    {
     "name": "stdout",
     "output_type": "stream",
     "text": [
      "#NDP = 73\n",
      "HV   =  42660.620126960166\n",
      "4 / 10\n"
     ]
    },
    {
     "name": "stderr",
     "output_type": "stream",
     "text": [
      "100%|████████████████████████████████████████████████████████████████████████████████████████████████████| 90/90 [00:00<00:00, 28391.05it/s]\n"
     ]
    },
    {
     "name": "stdout",
     "output_type": "stream",
     "text": [
      "#NDP = 79\n",
      "HV   =  42705.86301231142\n",
      "5 / 10\n"
     ]
    },
    {
     "name": "stderr",
     "output_type": "stream",
     "text": [
      "100%|████████████████████████████████████████████████████████████████████████████████████████████████████| 99/99 [00:00<00:00, 30163.89it/s]\n"
     ]
    },
    {
     "name": "stdout",
     "output_type": "stream",
     "text": [
      "#NDP = 85\n",
      "HV   =  42755.970307451375\n",
      "6 / 10\n"
     ]
    },
    {
     "name": "stderr",
     "output_type": "stream",
     "text": [
      "100%|██████████████████████████████████████████████████████████████████████████████████████████████████| 104/104 [00:00<00:00, 32976.08it/s]\n"
     ]
    },
    {
     "name": "stdout",
     "output_type": "stream",
     "text": [
      "#NDP = 87\n",
      "HV   =  42762.75287346746\n",
      "7 / 10\n"
     ]
    },
    {
     "name": "stderr",
     "output_type": "stream",
     "text": [
      "100%|██████████████████████████████████████████████████████████████████████████████████████████████████| 104/104 [00:00<00:00, 33186.82it/s]\n"
     ]
    },
    {
     "name": "stdout",
     "output_type": "stream",
     "text": [
      "#NDP = 90\n",
      "HV   =  42806.43273606372\n",
      "8 / 10\n"
     ]
    },
    {
     "name": "stderr",
     "output_type": "stream",
     "text": [
      "100%|██████████████████████████████████████████████████████████████████████████████████████████████████| 108/108 [00:00<00:00, 33898.44it/s]\n"
     ]
    },
    {
     "name": "stdout",
     "output_type": "stream",
     "text": [
      "#NDP = 94\n",
      "HV   =  42840.94215112192\n",
      "9 / 10\n"
     ]
    },
    {
     "name": "stderr",
     "output_type": "stream",
     "text": [
      "100%|██████████████████████████████████████████████████████████████████████████████████████████████████| 108/108 [00:00<00:00, 33941.62it/s]\n"
     ]
    },
    {
     "name": "stdout",
     "output_type": "stream",
     "text": [
      "#NDP = 96\n",
      "HV   =  42846.78890172092\n",
      "10 / 10\n"
     ]
    },
    {
     "name": "stderr",
     "output_type": "stream",
     "text": [
      "100%|██████████████████████████████████████████████████████████████████████████████████████████████████| 114/114 [00:00<00:00, 33451.14it/s]"
     ]
    },
    {
     "name": "stdout",
     "output_type": "stream",
     "text": [
      "#NDP = 100\n",
      "HV   =  42884.36036861597\n"
     ]
    },
    {
     "name": "stderr",
     "output_type": "stream",
     "text": [
      "\n"
     ]
    }
   ],
   "source": [
    "compute_hypervolume_progress(problem.problem_folder, config.results_folder, steps)"
   ]
  },
  {
   "cell_type": "code",
   "execution_count": 7,
   "id": "48dea8f8-0ba7-4a69-a641-767fceaaa79c",
   "metadata": {},
   "outputs": [
    {
     "name": "stdout",
     "output_type": "stream",
     "text": [
      "Max. HV: 42884.36036861597\n"
     ]
    }
   ],
   "source": [
    "x, y = config.progress_x_y()\n",
    "print('Max. HV:', max(y))"
   ]
  },
  {
   "cell_type": "code",
   "execution_count": 8,
   "id": "5ad71d3f-e644-4e86-880e-7b9d27780a83",
   "metadata": {},
   "outputs": [
    {
     "data": {
      "image/png": "[encoded data removed]",
      "text/plain": [
       "<Figure size 640x480 with 1 Axes>"
      ]
     },
     "metadata": {},
     "output_type": "display_data"
    }
   ],
   "source": [
    "plt.plot(x, y)\n",
    "plt.show()"
   ]
  },
  {
   "cell_type": "code",
   "execution_count": null,
   "id": "be13b185-b457-49ea-b949-266f6dd3fcf1",
   "metadata": {},
   "outputs": [],
   "source": []
  }
 ],
 "metadata": {
  "kernelspec": {
   "display_name": "Python 3 (ipykernel)",
   "language": "python",
   "name": "python3"
  },
  "language_info": {
   "codemirror_mode": {
    "name": "ipython",
    "version": 3
   },
   "file_extension": ".py",
   "mimetype": "text/x-python",
   "name": "python",
   "nbconvert_exporter": "python",
   "pygments_lexer": "ipython3",
   "version": "3.10.16"
  }
 },
 "nbformat": 4,
 "nbformat_minor": 5
}
