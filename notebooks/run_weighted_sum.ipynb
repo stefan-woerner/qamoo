{
 "cells": [
  {
   "cell_type": "markdown",
   "id": "ba2fd741-4517-4ef3-a7cc-405c009a79bf",
   "metadata": {},
   "source": [
    "# Run Randomized Weighted Sum Method"
   ]
  },
  {
   "cell_type": "code",
   "execution_count": 1,
   "id": "fe7a8f81-0e46-4da0-8f27-c6781a6fb502",
   "metadata": {},
   "outputs": [],
   "source": [
    "# TODO: make installable!\n",
    "import sys\n",
    "\n",
    "sys.path += ['./../']"
   ]
  },
  {
   "cell_type": "code",
   "execution_count": 2,
   "id": "b774ad34-6ba2-44b4-94fd-d5004de6e2f9",
   "metadata": {},
   "outputs": [],
   "source": [
    "import matplotlib.pyplot as plt\n",
    "\n",
    "from qamoo.algorithms.classical_algorithms import weighted_sum\n",
    "from qamoo.configs.configs import ProblemSpecification, WeightedSumConfig\n",
    "from qamoo.utils.utils import compute_hypervolume_progress"
   ]
  },
  {
   "cell_type": "code",
   "execution_count": 3,
   "id": "fe22267f-4f04-47af-8601-70368bdeaf78",
   "metadata": {},
   "outputs": [
    {
     "name": "stdout",
     "output_type": "stream",
     "text": [
      "ProblemSpecification(data_folder='./../data/', num_qubits=42, num_objectives=3, num_swap_layers=0, problem_id=0)\n"
     ]
    }
   ],
   "source": [
    "problem = ProblemSpecification()\n",
    "problem.data_folder = './../data/'\n",
    "problem.num_qubits = 42\n",
    "problem.num_objectives = 3\n",
    "problem.num_swap_layers = 0\n",
    "problem.problem_id = 0\n",
    "print(problem)"
   ]
  },
  {
   "cell_type": "code",
   "execution_count": 4,
   "id": "daf162cf-a33e-4c46-8659-0f6407c9fe01",
   "metadata": {},
   "outputs": [
    {
     "name": "stdout",
     "output_type": "stream",
     "text": [
      "WeightedSumConfig(name='weighted_sum', problem=ProblemSpecification(data_folder='./../data/', num_qubits=42, num_objectives=3, num_swap_layers=0, problem_id=0), run_id=0, num_steps=0, objective_weights_id=0, num_samples=1000)\n"
     ]
    }
   ],
   "source": [
    "# algorithm configuration\n",
    "config = WeightedSumConfig()\n",
    "config.num_samples = 1_000\n",
    "# config.num_samples = 400_000\n",
    "config.objective_weights_id = 0\n",
    "config.run_id = 0\n",
    "config.problem = problem\n",
    "print(config)"
   ]
  },
  {
   "cell_type": "code",
   "execution_count": 5,
   "id": "63fc4668-65bd-436f-a61f-b0a7b6ebb1eb",
   "metadata": {},
   "outputs": [
    {
     "name": "stdout",
     "output_type": "stream",
     "text": [
      "Folder exists!\n"
     ]
    },
    {
     "name": "stderr",
     "output_type": "stream",
     "text": [
      "  0%|                                                                                                             | 0/1000 [00:00<?, ?it/s]"
     ]
    },
    {
     "name": "stdout",
     "output_type": "stream",
     "text": [
      "Restricted license - for non-production use only - expires 2025-11-24\n"
     ]
    },
    {
     "name": "stderr",
     "output_type": "stream",
     "text": [
      "100%|█████████████████████████████████████████████████████████████████████████████████████████████████| 1000/1000 [00:01<00:00, 649.43it/s]\n"
     ]
    }
   ],
   "source": [
    "weighted_sum(config, True)"
   ]
  },
  {
   "cell_type": "code",
   "execution_count": 6,
   "id": "7928e5e6-10d1-4a7a-a062-579e2475a021",
   "metadata": {},
   "outputs": [
    {
     "name": "stdout",
     "output_type": "stream",
     "text": [
      "steps = [0, 100, 200, 300, 400, 500, 600, 700, 800, 900, 1000]\n"
     ]
    }
   ],
   "source": [
    "# define steps where to evaluate HV progress\n",
    "step_size = 100\n",
    "steps = range(0, config.num_samples+1, step_size)\n",
    "print('steps =', list(steps))"
   ]
  },
  {
   "cell_type": "code",
   "execution_count": 7,
   "id": "f41e3f82-a769-401a-ac79-89ef15d16651",
   "metadata": {},
   "outputs": [
    {
     "name": "stdout",
     "output_type": "stream",
     "text": [
      "evaluate samples objective... done.\n",
      "1 / 10\n"
     ]
    },
    {
     "name": "stderr",
     "output_type": "stream",
     "text": [
      "100%|███████████████████████████████████████████████████████████████████████████████████████████████████| 56/56 [00:00<00:00, 31732.10it/s]\n"
     ]
    },
    {
     "name": "stdout",
     "output_type": "stream",
     "text": [
      "#NDP = 50\n",
      "HV   =  42341.46033592123\n",
      "2 / 10\n"
     ]
    },
    {
     "name": "stderr",
     "output_type": "stream",
     "text": [
      "100%|███████████████████████████████████████████████████████████████████████████████████████████████████| 77/77 [00:00<00:00, 31197.97it/s]\n"
     ]
    },
    {
     "name": "stdout",
     "output_type": "stream",
     "text": [
      "#NDP = 70\n",
      "HV   =  42521.706333322756\n",
      "3 / 10\n"
     ]
    },
    {
     "name": "stderr",
     "output_type": "stream",
     "text": [
      "100%|███████████████████████████████████████████████████████████████████████████████████████████████████| 95/95 [00:00<00:00, 32445.15it/s]\n"
     ]
    },
    {
     "name": "stdout",
     "output_type": "stream",
     "text": [
      "#NDP = 81\n",
      "HV   =  42660.62012696017\n",
      "4 / 10\n"
     ]
    },
    {
     "name": "stderr",
     "output_type": "stream",
     "text": [
      "100%|███████████████████████████████████████████████████████████████████████████████████████████████████| 98/98 [00:00<00:00, 33922.74it/s]\n"
     ]
    },
    {
     "name": "stdout",
     "output_type": "stream",
     "text": [
      "#NDP = 87\n",
      "HV   =  42705.86301231144\n",
      "5 / 10\n"
     ]
    },
    {
     "name": "stderr",
     "output_type": "stream",
     "text": [
      "100%|█████████████████████████████████████████████████████████████████████████████████████████████████| 104/104 [00:00<00:00, 33237.40it/s]\n"
     ]
    },
    {
     "name": "stdout",
     "output_type": "stream",
     "text": [
      "#NDP = 93\n",
      "HV   =  42755.9703074514\n",
      "6 / 10\n"
     ]
    },
    {
     "name": "stderr",
     "output_type": "stream",
     "text": [
      "100%|█████████████████████████████████████████████████████████████████████████████████████████████████| 106/106 [00:00<00:00, 33176.35it/s]\n"
     ]
    },
    {
     "name": "stdout",
     "output_type": "stream",
     "text": [
      "#NDP = 95\n",
      "HV   =  42762.752873467485\n",
      "7 / 10\n"
     ]
    },
    {
     "name": "stderr",
     "output_type": "stream",
     "text": [
      "100%|█████████████████████████████████████████████████████████████████████████████████████████████████| 114/114 [00:00<00:00, 35121.98it/s]\n"
     ]
    },
    {
     "name": "stdout",
     "output_type": "stream",
     "text": [
      "#NDP = 99\n",
      "HV   =  42806.43273606373\n",
      "8 / 10\n"
     ]
    },
    {
     "name": "stderr",
     "output_type": "stream",
     "text": [
      "100%|█████████████████████████████████████████████████████████████████████████████████████████████████| 114/114 [00:00<00:00, 32329.32it/s]\n"
     ]
    },
    {
     "name": "stdout",
     "output_type": "stream",
     "text": [
      "#NDP = 102\n",
      "HV   =  42840.94215112194\n",
      "9 / 10\n"
     ]
    },
    {
     "name": "stderr",
     "output_type": "stream",
     "text": [
      "100%|█████████████████████████████████████████████████████████████████████████████████████████████████| 116/116 [00:00<00:00, 31891.67it/s]\n"
     ]
    },
    {
     "name": "stdout",
     "output_type": "stream",
     "text": [
      "#NDP = 104\n",
      "HV   =  42846.78890172095\n",
      "10 / 10\n"
     ]
    },
    {
     "name": "stderr",
     "output_type": "stream",
     "text": [
      "100%|█████████████████████████████████████████████████████████████████████████████████████████████████| 117/117 [00:00<00:00, 31358.78it/s]"
     ]
    },
    {
     "name": "stdout",
     "output_type": "stream",
     "text": [
      "#NDP = 107\n",
      "HV   =  42884.360368616\n"
     ]
    },
    {
     "name": "stderr",
     "output_type": "stream",
     "text": [
      "\n"
     ]
    }
   ],
   "source": [
    "compute_hypervolume_progress(problem.problem_folder, config.results_folder, steps)"
   ]
  },
  {
   "cell_type": "code",
   "execution_count": 8,
   "id": "48dea8f8-0ba7-4a69-a641-767fceaaa79c",
   "metadata": {},
   "outputs": [
    {
     "name": "stdout",
     "output_type": "stream",
     "text": [
      "Max. HV: 42884.360368616\n"
     ]
    }
   ],
   "source": [
    "x, y = config.progress_x_y()\n",
    "print('Max. HV:', max(y))"
   ]
  },
  {
   "cell_type": "code",
   "execution_count": 9,
   "id": "5ad71d3f-e644-4e86-880e-7b9d27780a83",
   "metadata": {},
   "outputs": [
    {
     "data": {
      "image/png": "[encoded data removed]",
      "text/plain": [
       "<Figure size 640x480 with 1 Axes>"
      ]
     },
     "metadata": {},
     "output_type": "display_data"
    }
   ],
   "source": [
    "plt.plot(x, y)\n",
    "plt.show()"
   ]
  },
  {
   "cell_type": "code",
   "execution_count": null,
   "id": "be13b185-b457-49ea-b949-266f6dd3fcf1",
   "metadata": {},
   "outputs": [],
   "source": []
  }
 ],
 "metadata": {
  "kernelspec": {
   "display_name": "Python 3 (ipykernel)",
   "language": "python",
   "name": "python3"
  },
  "language_info": {
   "codemirror_mode": {
    "name": "ipython",
    "version": 3
   },
   "file_extension": ".py",
   "mimetype": "text/x-python",
   "name": "python",
   "nbconvert_exporter": "python",
   "pygments_lexer": "ipython3",
   "version": "3.10.16"
  }
 },
 "nbformat": 4,
 "nbformat_minor": 5
}
