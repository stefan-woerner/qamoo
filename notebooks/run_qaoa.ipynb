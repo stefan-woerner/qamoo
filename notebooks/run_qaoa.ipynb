{
 "cells": [
  {
   "cell_type": "markdown",
   "id": "f433f0ed-3244-44a5-9294-14d8ea07672d",
   "metadata": {},
   "source": [
    "# Run QAOA"
   ]
  },
  {
   "cell_type": "code",
   "execution_count": 1,
   "id": "da3256c7-18e9-42a1-be77-33fc2599d155",
   "metadata": {},
   "outputs": [],
   "source": [
    "# TODO: make installable!\n",
    "import sys\n",
    "\n",
    "sys.path += ['./../']"
   ]
  },
  {
   "cell_type": "code",
   "execution_count": 2,
   "id": "b3dcece7-6110-4400-8218-68cdb762128b",
   "metadata": {},
   "outputs": [],
   "source": [
    "import json\n",
    "import matplotlib.pyplot as plt\n",
    "\n",
    "from qamoo.configs.configs import ProblemSpecification, QAOAConfig\n",
    "from qamoo.utils.utils import compute_hypervolume_progress\n",
    "from qamoo.algorithms.qaoa import *\n",
    "\n",
    "from qiskit_aer import AerSimulator\n",
    "\n",
    "from qiskit_ibm_runtime import QiskitRuntimeService"
   ]
  },
  {
   "cell_type": "code",
   "execution_count": 3,
   "id": "9ca29b76-6220-4de0-9da7-551547b8e0b5",
   "metadata": {},
   "outputs": [],
   "source": [
    "# define backend\n",
    "\n",
    "# simulator\n",
    "chi = 20\n",
    "max_parallel_threads = 1\n",
    "backend = AerSimulator(method='matrix_product_state', matrix_product_state_max_bond_dimension=chi, \n",
    "                       max_parallel_threads=max_parallel_threads)\n",
    "backend.options.use_fractional_gates = False\n",
    "\n",
    "# hardware\n",
    "# service = QiskitRuntimeService()\n",
    "# backend = service.backend(\"ibm_fez\")"
   ]
  },
  {
   "cell_type": "code",
   "execution_count": 4,
   "id": "6ac8adc8-828b-4a04-93b9-766cbde4ada0",
   "metadata": {},
   "outputs": [
    {
     "name": "stdout",
     "output_type": "stream",
     "text": [
      "./../data/problems/42q/problem_set_42q_0s_3o_0/\n"
     ]
    }
   ],
   "source": [
    "problem = ProblemSpecification()\n",
    "problem.data_folder = './../data/'\n",
    "problem.num_qubits = 42\n",
    "problem.num_objectives = 3\n",
    "problem.num_swap_layers = 0\n",
    "problem.problem_id = 0\n",
    "print(problem.problem_folder)"
   ]
  },
  {
   "cell_type": "code",
   "execution_count": 5,
   "id": "41d8d1eb-fb91-4a8d-ad74-4d32437d1757",
   "metadata": {},
   "outputs": [
    {
     "name": "stdout",
     "output_type": "stream",
     "text": [
      "ProblemSpecification(data_folder='./../data/', num_qubits=27, num_objectives=3, num_swap_layers=0, problem_id=0)\n"
     ]
    }
   ],
   "source": [
    "parameter_origin = ProblemSpecification()\n",
    "parameter_origin.data_folder = './../data/'\n",
    "parameter_origin.num_qubits = 27\n",
    "parameter_origin.num_objectives = problem.num_objectives\n",
    "parameter_origin.num_swap_layers = problem.num_swap_layers\n",
    "parameter_origin.problem_id = 0\n",
    "\n",
    "print(parameter_origin)"
   ]
  },
  {
   "cell_type": "code",
   "execution_count": 6,
   "id": "5ba9bc73-3946-4a1c-a7cf-cbe30dac729a",
   "metadata": {},
   "outputs": [],
   "source": [
    "# define problem\n",
    "problem = ProblemSpecification()\n",
    "problem.data_folder = './../data/'\n",
    "problem.num_qubits = 42\n",
    "problem.num_objectives = 3\n",
    "problem.num_swap_layers = 0\n",
    "problem.problem_id = 0\n",
    "\n",
    "# define algorithm configuration\n",
    "config = QAOAConfig()\n",
    "config.parameter_file = parameter_origin.problem_folder + 'JuliQAOA_angles.json'\n",
    "config.p = 1\n",
    "config.num_samples = 10\n",
    "config.shots = 100\n",
    "config.objective_weights_id = 0\n",
    "config.backend_name = backend.name\n",
    "config.initial_layout = None\n",
    "config.run_id = f'test'\n",
    "config.rep_delay = 0.0001\n",
    "config.problem = problem"
   ]
  },
  {
   "cell_type": "code",
   "execution_count": 7,
   "id": "461b91cc-7477-4afd-9119-2b88c7defef9",
   "metadata": {},
   "outputs": [
    {
     "name": "stdout",
     "output_type": "stream",
     "text": [
      "Folder exists!\n"
     ]
    }
   ],
   "source": [
    "prepare_qaoa_circuits(config, backend, overwrite_results=True)"
   ]
  },
  {
   "cell_type": "code",
   "execution_count": 8,
   "id": "a35b364e-06e3-4709-bbc5-5cea9850edda",
   "metadata": {
    "scrolled": true
   },
   "outputs": [],
   "source": [
    "# select best layout for 42-qubit circuits\n",
    "if problem.num_qubits == 42 and backend.name != 'aer_simulator_matrix_product_state':\n",
    "\n",
    "    # load parametrized circuit\n",
    "    circuit_path = config.results_folder + 'parameterized_circuit.qpy'\n",
    "    with open(circuit_path, 'rb') as f:\n",
    "        # qc = pickle.load(f)\n",
    "        qc = qpy.load(f)[0]\n",
    "    \n",
    "    # load potential initial layouts\n",
    "    if backend.num_qubits == 156:\n",
    "        with open(problem.data_folder + f'initial_layouts/{problem.num_qubits}q_heron_156.json', 'r') as f:\n",
    "            initial_layouts = json.load(f)\n",
    "\n",
    "    # transpile different layouts to backend\n",
    "    qcs = []\n",
    "    for initial_layout in tqdm(initial_layouts):\n",
    "        preset_manager = generate_preset_pass_manager(backend=backend,\n",
    "                                                      optimization_level=3,\n",
    "                                                      initial_layout=initial_layout)\n",
    "        qc_transpiled = preset_manager.run(qc)\n",
    "        qcs += [qc_transpiled]\n",
    "    \n",
    "    # score results \n",
    "    fidelities = []\n",
    "    measurement_fidelities = []\n",
    "    all_avg_fidelities = []\n",
    "    for i in range(len(initial_layouts)):\n",
    "        initial_layout = initial_layouts[i]\n",
    "        fidelity = 1\n",
    "        measurement_fidelity = 1\n",
    "        avg_fidelities = {}\n",
    "        avg_counter = {}\n",
    "        for d in qcs[i].data:\n",
    "            if d.operation.name == 'measure':\n",
    "                error = backend.properties().readout_error(d.qubits[0]._index)\n",
    "                fidelity *= (1 - error)\n",
    "                measurement_fidelity *= (1 - error)\n",
    "                avg_fidelities['measure'] = avg_fidelities.get('measure', 1) * (1 - error)\n",
    "                avg_counter['measure'] = avg_counter.get('measure', 0) + 1\n",
    "            elif d.operation.name != 'barrier':\n",
    "                name = d.operation.name\n",
    "                qubits = [q._index for q in d.qubits]\n",
    "                if name == 'rzz':\n",
    "                    name = 'cz'\n",
    "                error = backend.properties().gate_error(name, qubits)\n",
    "                fidelity *= (1 - error)\n",
    "                avg_fidelities[name] = avg_fidelities.get(name, 1) * (1 - error)\n",
    "                avg_counter[name] = avg_counter.get(name, 0) + 1\n",
    "            \n",
    "        fidelities += [fidelity]\n",
    "        measurement_fidelities += [measurement_fidelity]\n",
    "        all_avg_fidelities += [{}]\n",
    "        for k, v in avg_fidelities.items():\n",
    "            all_avg_fidelities[-1][k] = np.round(v ** ( 1 / avg_counter[k] ), decimals=4)\n",
    "\n",
    "    print('total fidelities:       ', np.round(fidelities, decimals=3))\n",
    "    print('measurement fidelities: ', np.round(measurement_fidelities, decimals=3))\n",
    "\n",
    "    i_opt = np.argmax(fidelities)\n",
    "    print('max. fidelity:          ', np.round(fidelities[i_opt], decimals=6))\n",
    "    config.initial_layout = initial_layouts[i_opt]\n",
    "    for i in range(len(all_avg_fidelities)):\n",
    "        if i != i_opt:\n",
    "            print(all_avg_fidelities[i])\n",
    "        else:\n",
    "            print(all_avg_fidelities[i], '*')"
   ]
  },
  {
   "cell_type": "code",
   "execution_count": 9,
   "id": "b574abb7-d991-4c11-84ee-0f1bfc30fde2",
   "metadata": {},
   "outputs": [],
   "source": [
    "with open(config.results_folder + 'estimated_fidelity.json', 'w') as f:\n",
    "    try:\n",
    "        json.dump(fidelities[i_opt], f)\n",
    "    except:\n",
    "        json.dump(1, f)"
   ]
  },
  {
   "cell_type": "code",
   "execution_count": 10,
   "id": "d6c2d21a-dfff-4318-b9d9-6296f05a0220",
   "metadata": {
    "scrolled": true
   },
   "outputs": [],
   "source": [
    "transpile_qaoa_circuits_parametrized(config, backend)"
   ]
  },
  {
   "cell_type": "code",
   "execution_count": 11,
   "id": "a3104ad2-c528-454c-afb3-63b21a81459d",
   "metadata": {},
   "outputs": [
    {
     "name": "stdout",
     "output_type": "stream",
     "text": [
      "OrderedDict([('rzz', 46), ('h', 42), ('rx', 42)])\n",
      "total depth = 6\n",
      "CZ depth    = 4\n"
     ]
    }
   ],
   "source": [
    "circuits = []\n",
    "param_values = []\n",
    "with open(config.results_folder + 'transpiled_parametrized_circuit.qpy', 'rb') as f:\n",
    "    circuits += [qpy.load(f)[0]]\n",
    "circuits[0].remove_final_measurements()\n",
    "print(circuits[0].count_ops())\n",
    "print('total depth =', circuits[0].depth(filter_function=lambda x: x.operation.name in ['cz', 'rzz', 'sx', 'rx', 'h']))\n",
    "print('CZ depth    =', circuits[0].depth(filter_function=lambda x: x.operation.name in ['cz', 'rzz']))"
   ]
  },
  {
   "cell_type": "code",
   "execution_count": 12,
   "id": "64c102c9-a444-4666-a63e-984de255af57",
   "metadata": {},
   "outputs": [
    {
     "name": "stdout",
     "output_type": "stream",
     "text": [
      "running with simulator\n"
     ]
    },
    {
     "name": "stderr",
     "output_type": "stream",
     "text": [
      "100%|████████████████████████████████████████████████████████████████████████████████████████████████████████| 1/1 [00:00<00:00,  2.51it/s]\n",
      "100%|███████████████████████████████████████████████████████████████████████████████████████████████████████| 1/1 [00:00<00:00, 269.75it/s]"
     ]
    },
    {
     "name": "stdout",
     "output_type": "stream",
     "text": [
      "simulation time: 0.4162137508392334\n"
     ]
    },
    {
     "name": "stderr",
     "output_type": "stream",
     "text": [
      "\n"
     ]
    }
   ],
   "source": [
    "batch_execute_qaoa_circuits_parametrized([config], backend)"
   ]
  },
  {
   "cell_type": "code",
   "execution_count": 13,
   "id": "ffd70e2b-8bad-4120-b05f-c477566fd09e",
   "metadata": {},
   "outputs": [],
   "source": [
    "if backend.name != 'aer_simulator_matrix_product_state':\n",
    "    load_hardware_results([config], backend)"
   ]
  },
  {
   "cell_type": "code",
   "execution_count": 14,
   "id": "7a4fddd7-dc94-4473-9b7e-7289e4037f37",
   "metadata": {},
   "outputs": [
    {
     "name": "stdout",
     "output_type": "stream",
     "text": [
      "steps = [0, 100, 200, 300, 400, 500, 600, 700, 800, 900, 1000]\n"
     ]
    }
   ],
   "source": [
    "# define steps where to evaluate HV progress\n",
    "step_size = 100\n",
    "steps = range(0, config.total_num_samples+1, step_size)\n",
    "print('steps =', list(steps))"
   ]
  },
  {
   "cell_type": "code",
   "execution_count": 15,
   "id": "e7891ba1-3115-4137-83b8-c30ea82a54a9",
   "metadata": {
    "scrolled": true
   },
   "outputs": [
    {
     "name": "stdout",
     "output_type": "stream",
     "text": [
      "evaluate samples objective... done.\n",
      "1 / 10\n"
     ]
    },
    {
     "name": "stderr",
     "output_type": "stream",
     "text": [
      "100%|█████████████████████████████████████████████████████████████████████████████████████████████████| 100/100 [00:00<00:00, 78662.87it/s]\n"
     ]
    },
    {
     "name": "stdout",
     "output_type": "stream",
     "text": [
      "#NDP = 21\n",
      "HV   =  19576.449047507835\n",
      "2 / 10\n"
     ]
    },
    {
     "name": "stderr",
     "output_type": "stream",
     "text": [
      "100%|████████████████████████████████████████████████████████████████████████████████████████████████| 121/121 [00:00<00:00, 109306.65it/s]\n"
     ]
    },
    {
     "name": "stdout",
     "output_type": "stream",
     "text": [
      "#NDP = 22\n",
      "HV   =  20398.27509695761\n",
      "3 / 10\n"
     ]
    },
    {
     "name": "stderr",
     "output_type": "stream",
     "text": [
      "100%|████████████████████████████████████████████████████████████████████████████████████████████████| 122/122 [00:00<00:00, 147763.53it/s]\n"
     ]
    },
    {
     "name": "stdout",
     "output_type": "stream",
     "text": [
      "#NDP = 23\n",
      "HV   =  20398.95067852592\n",
      "4 / 10\n"
     ]
    },
    {
     "name": "stderr",
     "output_type": "stream",
     "text": [
      "100%|█████████████████████████████████████████████████████████████████████████████████████████████████| 123/123 [00:00<00:00, 75182.07it/s]\n"
     ]
    },
    {
     "name": "stdout",
     "output_type": "stream",
     "text": [
      "#NDP = 26\n",
      "HV   =  20639.873510108908\n",
      "5 / 10\n"
     ]
    },
    {
     "name": "stderr",
     "output_type": "stream",
     "text": [
      "100%|█████████████████████████████████████████████████████████████████████████████████████████████████| 126/126 [00:00<00:00, 58337.82it/s]\n"
     ]
    },
    {
     "name": "stdout",
     "output_type": "stream",
     "text": [
      "#NDP = 28\n",
      "HV   =  21090.576923271652\n",
      "6 / 10\n"
     ]
    },
    {
     "name": "stderr",
     "output_type": "stream",
     "text": [
      "100%|█████████████████████████████████████████████████████████████████████████████████████████████████| 128/128 [00:00<00:00, 62470.43it/s]\n"
     ]
    },
    {
     "name": "stdout",
     "output_type": "stream",
     "text": [
      "#NDP = 28\n",
      "HV   =  21090.576923271652\n",
      "7 / 10\n"
     ]
    },
    {
     "name": "stderr",
     "output_type": "stream",
     "text": [
      "100%|█████████████████████████████████████████████████████████████████████████████████████████████████| 128/128 [00:00<00:00, 68557.13it/s]\n"
     ]
    },
    {
     "name": "stdout",
     "output_type": "stream",
     "text": [
      "#NDP = 29\n",
      "HV   =  21748.13160864811\n",
      "8 / 10\n"
     ]
    },
    {
     "name": "stderr",
     "output_type": "stream",
     "text": [
      "100%|█████████████████████████████████████████████████████████████████████████████████████████████████| 129/129 [00:00<00:00, 70460.37it/s]\n"
     ]
    },
    {
     "name": "stdout",
     "output_type": "stream",
     "text": [
      "#NDP = 32\n",
      "HV   =  22147.35396318118\n",
      "9 / 10\n"
     ]
    },
    {
     "name": "stderr",
     "output_type": "stream",
     "text": [
      "100%|█████████████████████████████████████████████████████████████████████████████████████████████████| 132/132 [00:00<00:00, 95919.63it/s]\n"
     ]
    },
    {
     "name": "stdout",
     "output_type": "stream",
     "text": [
      "#NDP = 32\n",
      "HV   =  22147.35396318118\n",
      "10 / 10\n"
     ]
    },
    {
     "name": "stderr",
     "output_type": "stream",
     "text": [
      "100%|█████████████████████████████████████████████████████████████████████████████████████████████████| 132/132 [00:00<00:00, 53353.39it/s]"
     ]
    },
    {
     "name": "stdout",
     "output_type": "stream",
     "text": [
      "#NDP = 32\n",
      "HV   =  22360.461294837725\n"
     ]
    },
    {
     "name": "stderr",
     "output_type": "stream",
     "text": [
      "\n"
     ]
    }
   ],
   "source": [
    "compute_hypervolume_progress(problem.problem_folder, config.results_folder, steps)"
   ]
  },
  {
   "cell_type": "code",
   "execution_count": 16,
   "id": "f24afe2f-f664-44da-b858-39f0704291ff",
   "metadata": {},
   "outputs": [
    {
     "name": "stdout",
     "output_type": "stream",
     "text": [
      "Max. HV: 22360.461294837725\n"
     ]
    }
   ],
   "source": [
    "x, y = config.progress_x_y()\n",
    "print('Max. HV:', max(y))"
   ]
  },
  {
   "cell_type": "code",
   "execution_count": 17,
   "id": "19740064-5435-481c-a884-cbe47d503c40",
   "metadata": {},
   "outputs": [
    {
     "data": {
      "image/png": "[encoded data removed]",
      "text/plain": [
       "<Figure size 640x480 with 1 Axes>"
      ]
     },
     "metadata": {},
     "output_type": "display_data"
    }
   ],
   "source": [
    "plt.plot(x, y)\n",
    "plt.show()"
   ]
  },
  {
   "cell_type": "code",
   "execution_count": null,
   "id": "8362074f-8f61-4307-8fda-21afc344f3a1",
   "metadata": {},
   "outputs": [],
   "source": []
  }
 ],
 "metadata": {
  "kernelspec": {
   "display_name": "Python 3 (ipykernel)",
   "language": "python",
   "name": "python3"
  },
  "language_info": {
   "codemirror_mode": {
    "name": "ipython",
    "version": 3
   },
   "file_extension": ".py",
   "mimetype": "text/x-python",
   "name": "python",
   "nbconvert_exporter": "python",
   "pygments_lexer": "ipython3",
   "version": "3.10.16"
  }
 },
 "nbformat": 4,
 "nbformat_minor": 5
}
