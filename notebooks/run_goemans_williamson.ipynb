{
 "cells": [
  {
   "cell_type": "markdown",
   "id": "9bedc71d-fbfe-4d06-a978-a9a0baf07ee1",
   "metadata": {},
   "source": [
    "# Run Goemans-Williamson Algorithm"
   ]
  },
  {
   "cell_type": "code",
   "execution_count": 1,
   "id": "b774ad34-6ba2-44b4-94fd-d5004de6e2f9",
   "metadata": {},
   "outputs": [],
   "source": [
    "import matplotlib.pyplot as plt\n",
    "\n",
    "from qamoo.algorithms.classical_algorithms import goemans_williamson\n",
    "from qamoo.configs.configs import ProblemSpecification, GoemansWilliamsonConfig\n",
    "from qamoo.utils.utils import compute_hypervolume_progress"
   ]
  },
  {
   "cell_type": "code",
   "execution_count": 2,
   "id": "fe22267f-4f04-47af-8601-70368bdeaf78",
   "metadata": {},
   "outputs": [
    {
     "name": "stdout",
     "output_type": "stream",
     "text": [
      "ProblemSpecification(data_folder='./../data/', num_qubits=42, num_objectives=3, num_swap_layers=0, problem_id=0)\n"
     ]
    }
   ],
   "source": [
    "problem = ProblemSpecification()\n",
    "problem.data_folder = './../data/'\n",
    "problem.num_qubits = 42\n",
    "problem.num_objectives = 3\n",
    "problem.num_swap_layers = 0\n",
    "problem.problem_id = 0\n",
    "print(problem)"
   ]
  },
  {
   "cell_type": "code",
   "execution_count": 3,
   "id": "64f7a926-8895-4d4a-ac83-9c3792b80f21",
   "metadata": {},
   "outputs": [
    {
     "name": "stdout",
     "output_type": "stream",
     "text": [
      "GoemansWilliamsonConfig(name='goemans_williamson', problem=ProblemSpecification(data_folder='./../data/', num_qubits=42, num_objectives=3, num_swap_layers=0, problem_id=0), run_id=0, num_steps=0, objective_weights_id=0, num_samples=10, shots=100)\n"
     ]
    }
   ],
   "source": [
    "# algorithm configuration\n",
    "config = GoemansWilliamsonConfig()\n",
    "config.num_samples = 10\n",
    "# config.num_samples = 5000\n",
    "config.objective_weights_id = 0\n",
    "config.shots = 100\n",
    "# config.shots = 5000\n",
    "config.run_id = 0\n",
    "config.problem = problem\n",
    "print(config)"
   ]
  },
  {
   "cell_type": "code",
   "execution_count": 4,
   "id": "63fc4668-65bd-436f-a61f-b0a7b6ebb1eb",
   "metadata": {},
   "outputs": [
    {
     "name": "stdout",
     "output_type": "stream",
     "text": [
      "Folder exists!\n"
     ]
    }
   ],
   "source": [
    "goemans_williamson(config, True)"
   ]
  },
  {
   "cell_type": "code",
   "execution_count": 5,
   "id": "f5bc7512-0bbe-4d0c-abcf-37ba1cd72746",
   "metadata": {},
   "outputs": [
    {
     "name": "stdout",
     "output_type": "stream",
     "text": [
      "steps = [0, 100, 200, 300, 400, 500, 600, 700, 800, 900, 1000]\n"
     ]
    }
   ],
   "source": [
    "# define steps where to evaluate HV progress\n",
    "step_size = 100\n",
    "steps = range(0, config.total_num_samples+1, step_size)\n",
    "print('steps =', list(steps))"
   ]
  },
  {
   "cell_type": "code",
   "execution_count": 6,
   "id": "e0bdafed-7c78-4156-8f0e-21f9fa4e604a",
   "metadata": {},
   "outputs": [
    {
     "name": "stdout",
     "output_type": "stream",
     "text": [
      "evaluate samples objective... done.\n",
      "1 / 10\n"
     ]
    },
    {
     "name": "stderr",
     "output_type": "stream",
     "text": [
      "100%|████████████████████████████████████████████████████████████████████████████████████████████████████| 15/15 [00:00<00:00, 10503.27it/s]\n"
     ]
    },
    {
     "name": "stdout",
     "output_type": "stream",
     "text": [
      "#NDP = 9\n",
      "HV   =  26457.36338118496\n",
      "2 / 10\n"
     ]
    },
    {
     "name": "stderr",
     "output_type": "stream",
     "text": [
      "100%|████████████████████████████████████████████████████████████████████████████████████████████████████| 42/42 [00:00<00:00, 43166.08it/s]\n"
     ]
    },
    {
     "name": "stdout",
     "output_type": "stream",
     "text": [
      "#NDP = 17\n",
      "HV   =  27895.016605656474\n",
      "3 / 10\n"
     ]
    },
    {
     "name": "stderr",
     "output_type": "stream",
     "text": [
      "100%|████████████████████████████████████████████████████████████████████████████████████████████████████| 19/19 [00:00<00:00, 29880.68it/s]\n"
     ]
    },
    {
     "name": "stdout",
     "output_type": "stream",
     "text": [
      "#NDP = 18\n",
      "HV   =  29037.38664567994\n",
      "4 / 10\n"
     ]
    },
    {
     "name": "stderr",
     "output_type": "stream",
     "text": [
      "100%|████████████████████████████████████████████████████████████████████████████████████████████████████| 63/63 [00:00<00:00, 15766.18it/s]\n"
     ]
    },
    {
     "name": "stdout",
     "output_type": "stream",
     "text": [
      "#NDP = 41\n",
      "HV   =  34961.53174961025\n",
      "5 / 10\n"
     ]
    },
    {
     "name": "stderr",
     "output_type": "stream",
     "text": [
      "100%|████████████████████████████████████████████████████████████████████████████████████████████████████| 58/58 [00:00<00:00, 18142.27it/s]\n"
     ]
    },
    {
     "name": "stdout",
     "output_type": "stream",
     "text": [
      "#NDP = 47\n",
      "HV   =  35509.763117453746\n",
      "6 / 10\n"
     ]
    },
    {
     "name": "stderr",
     "output_type": "stream",
     "text": [
      "100%|████████████████████████████████████████████████████████████████████████████████████████████████████| 92/92 [00:00<00:00, 19942.94it/s]\n"
     ]
    },
    {
     "name": "stdout",
     "output_type": "stream",
     "text": [
      "#NDP = 65\n",
      "HV   =  36306.483908962226\n",
      "7 / 10\n"
     ]
    },
    {
     "name": "stderr",
     "output_type": "stream",
     "text": [
      "100%|████████████████████████████████████████████████████████████████████████████████████████████████████| 94/94 [00:00<00:00, 25826.32it/s]\n"
     ]
    },
    {
     "name": "stdout",
     "output_type": "stream",
     "text": [
      "#NDP = 72\n",
      "HV   =  36375.331744331495\n",
      "8 / 10\n"
     ]
    },
    {
     "name": "stderr",
     "output_type": "stream",
     "text": [
      "100%|████████████████████████████████████████████████████████████████████████████████████████████████████| 94/94 [00:00<00:00, 23785.27it/s]\n"
     ]
    },
    {
     "name": "stdout",
     "output_type": "stream",
     "text": [
      "#NDP = 79\n",
      "HV   =  38496.601806438135\n",
      "9 / 10\n"
     ]
    },
    {
     "name": "stderr",
     "output_type": "stream",
     "text": [
      "100%|██████████████████████████████████████████████████████████████████████████████████████████████████| 111/111 [00:00<00:00, 27447.69it/s]\n"
     ]
    },
    {
     "name": "stdout",
     "output_type": "stream",
     "text": [
      "#NDP = 92\n",
      "HV   =  39580.84119574361\n",
      "10 / 10\n"
     ]
    },
    {
     "name": "stderr",
     "output_type": "stream",
     "text": [
      "100%|██████████████████████████████████████████████████████████████████████████████████████████████████| 122/122 [00:00<00:00, 35434.19it/s]"
     ]
    },
    {
     "name": "stdout",
     "output_type": "stream",
     "text": [
      "#NDP = 101\n",
      "HV   =  39844.083060943456\n"
     ]
    },
    {
     "name": "stderr",
     "output_type": "stream",
     "text": [
      "\n"
     ]
    }
   ],
   "source": [
    "compute_hypervolume_progress(problem.problem_folder, config.results_folder, steps)"
   ]
  },
  {
   "cell_type": "code",
   "execution_count": 7,
   "id": "48dea8f8-0ba7-4a69-a641-767fceaaa79c",
   "metadata": {},
   "outputs": [
    {
     "name": "stdout",
     "output_type": "stream",
     "text": [
      "Max. HV: 39844.083060943456\n"
     ]
    }
   ],
   "source": [
    "x, y = config.progress_x_y()\n",
    "print('Max. HV:', max(y))"
   ]
  },
  {
   "cell_type": "code",
   "execution_count": 8,
   "id": "5ad71d3f-e644-4e86-880e-7b9d27780a83",
   "metadata": {},
   "outputs": [
    {
     "data": {
      "image/png": "[encoded data removed]",
      "text/plain": [
       "<Figure size 640x480 with 1 Axes>"
      ]
     },
     "metadata": {},
     "output_type": "display_data"
    }
   ],
   "source": [
    "plt.plot(x, y)\n",
    "plt.show()"
   ]
  },
  {
   "cell_type": "code",
   "execution_count": null,
   "id": "bc3ee33f-f8e5-4c34-9797-4c72c9a6cbf7",
   "metadata": {},
   "outputs": [],
   "source": []
  }
 ],
 "metadata": {
  "kernelspec": {
   "display_name": "Python 3 (ipykernel)",
   "language": "python",
   "name": "python3"
  },
  "language_info": {
   "codemirror_mode": {
    "name": "ipython",
    "version": 3
   },
   "file_extension": ".py",
   "mimetype": "text/x-python",
   "name": "python",
   "nbconvert_exporter": "python",
   "pygments_lexer": "ipython3",
   "version": "3.10.16"
  }
 },
 "nbformat": 4,
 "nbformat_minor": 5
}
