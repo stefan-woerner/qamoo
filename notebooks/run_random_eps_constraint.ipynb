{
 "cells": [
  {
   "cell_type": "markdown",
   "id": "2343bf69-fda1-4ad8-9cc6-4e2a68e3e5a5",
   "metadata": {},
   "source": [
    "# Run Random Epsilon Constraint Method"
   ]
  },
  {
   "cell_type": "code",
   "execution_count": 1,
   "id": "081479b3-0d8b-4448-b9da-cb2d66739ec0",
   "metadata": {},
   "outputs": [],
   "source": [
    "# TODO: make installable!\n",
    "import sys\n",
    "\n",
    "sys.path += ['./../']"
   ]
  },
  {
   "cell_type": "code",
   "execution_count": 2,
   "id": "b774ad34-6ba2-44b4-94fd-d5004de6e2f9",
   "metadata": {},
   "outputs": [],
   "source": [
    "import json\n",
    "import numpy as np\n",
    "import matplotlib.pyplot as plt\n",
    "\n",
    "from qamoo.algorithms.classical_algorithms import random_eps_constraint\n",
    "from qamoo.configs.configs import ProblemSpecification, RandomEpsConstraintConfig\n",
    "from qamoo.utils.utils import compute_hypervolume_progress"
   ]
  },
  {
   "cell_type": "code",
   "execution_count": 3,
   "id": "fe22267f-4f04-47af-8601-70368bdeaf78",
   "metadata": {},
   "outputs": [
    {
     "name": "stdout",
     "output_type": "stream",
     "text": [
      "ProblemSpecification(data_folder='./../data/', num_qubits=42, num_objectives=3, num_swap_layers=0, problem_id=0)\n"
     ]
    }
   ],
   "source": [
    "problem = ProblemSpecification()\n",
    "problem.data_folder = './../data/'\n",
    "problem.num_qubits = 42\n",
    "problem.num_objectives = 3\n",
    "problem.num_swap_layers = 0\n",
    "problem.problem_id = 0\n",
    "print(problem)"
   ]
  },
  {
   "cell_type": "code",
   "execution_count": 4,
   "id": "64f7a926-8895-4d4a-ac83-9c3792b80f21",
   "metadata": {},
   "outputs": [
    {
     "name": "stdout",
     "output_type": "stream",
     "text": [
      "RandomEpsConstraintConfig(name='random_eps_constraint', problem=ProblemSpecification(data_folder='./../data/', num_qubits=42, num_objectives=3, num_swap_layers=0, problem_id=0), run_id=0, num_steps=0, objective_weights_id=0, num_samples=1000, shots=1, eps_seed=42)\n"
     ]
    }
   ],
   "source": [
    "# algorithm configuration\n",
    "config = RandomEpsConstraintConfig()\n",
    "config.num_samples = 1_000\n",
    "# config.num_samples = 459_629\n",
    "# config.num_samples = 742_081\n",
    "config.objective_weights_id = 0\n",
    "config.shots = 1\n",
    "config.run_id = 0\n",
    "config.problem = problem\n",
    "print(config)"
   ]
  },
  {
   "cell_type": "code",
   "execution_count": 5,
   "id": "63fc4668-65bd-436f-a61f-b0a7b6ebb1eb",
   "metadata": {},
   "outputs": [
    {
     "name": "stdout",
     "output_type": "stream",
     "text": [
      "Folder exists!\n"
     ]
    },
    {
     "name": "stderr",
     "output_type": "stream",
     "text": [
      "  0%|                                                                                                             | 0/1000 [00:00<?, ?it/s]"
     ]
    },
    {
     "name": "stdout",
     "output_type": "stream",
     "text": [
      "Restricted license - for non-production use only - expires 2025-11-24\n"
     ]
    },
    {
     "name": "stderr",
     "output_type": "stream",
     "text": [
      "100%|█████████████████████████████████████████████████████████████████████████████████████████████████| 1000/1000 [00:09<00:00, 108.65it/s]\n"
     ]
    }
   ],
   "source": [
    "random_eps_constraint(config, True)"
   ]
  },
  {
   "cell_type": "code",
   "execution_count": 6,
   "id": "7057b9bf-06c7-46ac-8de2-3e02a5143bd4",
   "metadata": {},
   "outputs": [
    {
     "name": "stdout",
     "output_type": "stream",
     "text": [
      "steps = [0, 100, 200, 300, 400, 500, 600, 700, 800, 900, 1000]\n"
     ]
    }
   ],
   "source": [
    "# define steps where to evaluate HV progress\n",
    "step_size = 100\n",
    "steps = range(0, config.num_samples+1, step_size)\n",
    "print('steps =', list(steps))"
   ]
  },
  {
   "cell_type": "code",
   "execution_count": 7,
   "id": "710d695e-3f6c-483c-9643-dd9b44a565c4",
   "metadata": {},
   "outputs": [
    {
     "name": "stdout",
     "output_type": "stream",
     "text": [
      "evaluate samples objective... done.\n",
      "1 / 10\n"
     ]
    },
    {
     "name": "stderr",
     "output_type": "stream",
     "text": [
      "100%|███████████████████████████████████████████████████████████████████████████████████████████████████| 70/70 [00:00<00:00, 41949.03it/s]\n"
     ]
    },
    {
     "name": "stdout",
     "output_type": "stream",
     "text": [
      "#NDP = 66\n",
      "HV   =  42098.914281290105\n",
      "2 / 10\n"
     ]
    },
    {
     "name": "stderr",
     "output_type": "stream",
     "text": [
      "100%|█████████████████████████████████████████████████████████████████████████████████████████████████| 121/121 [00:00<00:00, 40578.14it/s]\n"
     ]
    },
    {
     "name": "stdout",
     "output_type": "stream",
     "text": [
      "#NDP = 113\n",
      "HV   =  42903.43931249569\n",
      "3 / 10\n"
     ]
    },
    {
     "name": "stderr",
     "output_type": "stream",
     "text": [
      "100%|█████████████████████████████████████████████████████████████████████████████████████████████████| 153/153 [00:00<00:00, 33419.88it/s]\n"
     ]
    },
    {
     "name": "stdout",
     "output_type": "stream",
     "text": [
      "#NDP = 146\n",
      "HV   =  42998.6147547241\n",
      "4 / 10\n"
     ]
    },
    {
     "name": "stderr",
     "output_type": "stream",
     "text": [
      "100%|█████████████████████████████████████████████████████████████████████████████████████████████████| 184/184 [00:00<00:00, 36484.28it/s]\n"
     ]
    },
    {
     "name": "stdout",
     "output_type": "stream",
     "text": [
      "#NDP = 174\n",
      "HV   =  43072.82281704771\n",
      "5 / 10\n"
     ]
    },
    {
     "name": "stderr",
     "output_type": "stream",
     "text": [
      "100%|█████████████████████████████████████████████████████████████████████████████████████████████████| 215/215 [00:00<00:00, 34926.81it/s]\n"
     ]
    },
    {
     "name": "stdout",
     "output_type": "stream",
     "text": [
      "#NDP = 205\n",
      "HV   =  43158.48157602941\n",
      "6 / 10\n"
     ]
    },
    {
     "name": "stderr",
     "output_type": "stream",
     "text": [
      "100%|█████████████████████████████████████████████████████████████████████████████████████████████████| 235/235 [00:00<00:00, 33099.21it/s]\n"
     ]
    },
    {
     "name": "stdout",
     "output_type": "stream",
     "text": [
      "#NDP = 221\n",
      "HV   =  43193.86867279026\n",
      "7 / 10\n"
     ]
    },
    {
     "name": "stderr",
     "output_type": "stream",
     "text": [
      "100%|█████████████████████████████████████████████████████████████████████████████████████████████████| 253/253 [00:00<00:00, 32606.90it/s]\n"
     ]
    },
    {
     "name": "stdout",
     "output_type": "stream",
     "text": [
      "#NDP = 245\n",
      "HV   =  43218.360038915795\n",
      "8 / 10\n"
     ]
    },
    {
     "name": "stderr",
     "output_type": "stream",
     "text": [
      "100%|█████████████████████████████████████████████████████████████████████████████████████████████████| 275/275 [00:00<00:00, 31396.20it/s]\n"
     ]
    },
    {
     "name": "stdout",
     "output_type": "stream",
     "text": [
      "#NDP = 266\n",
      "HV   =  43250.15754728819\n",
      "9 / 10\n"
     ]
    },
    {
     "name": "stderr",
     "output_type": "stream",
     "text": [
      "100%|█████████████████████████████████████████████████████████████████████████████████████████████████| 298/298 [00:00<00:00, 32064.41it/s]\n"
     ]
    },
    {
     "name": "stdout",
     "output_type": "stream",
     "text": [
      "#NDP = 284\n",
      "HV   =  43275.786884851346\n",
      "10 / 10\n"
     ]
    },
    {
     "name": "stderr",
     "output_type": "stream",
     "text": [
      "100%|█████████████████████████████████████████████████████████████████████████████████████████████████| 314/314 [00:00<00:00, 30981.22it/s]"
     ]
    },
    {
     "name": "stdout",
     "output_type": "stream",
     "text": [
      "#NDP = 300\n",
      "HV   =  43288.772753689955\n"
     ]
    },
    {
     "name": "stderr",
     "output_type": "stream",
     "text": [
      "\n"
     ]
    }
   ],
   "source": [
    "compute_hypervolume_progress(problem.problem_folder, config.results_folder, steps)"
   ]
  },
  {
   "cell_type": "code",
   "execution_count": 8,
   "id": "48dea8f8-0ba7-4a69-a641-767fceaaa79c",
   "metadata": {},
   "outputs": [
    {
     "name": "stdout",
     "output_type": "stream",
     "text": [
      "Max. HV: 43288.772753689955\n"
     ]
    }
   ],
   "source": [
    "x, y = config.progress_x_y()\n",
    "print('Max. HV:', max(y))"
   ]
  },
  {
   "cell_type": "code",
   "execution_count": 9,
   "id": "806260e1-4ee0-4970-a1ca-0bfcca2eee39",
   "metadata": {},
   "outputs": [
    {
     "name": "stdout",
     "output_type": "stream",
     "text": [
      "{'feasible_fraction': 0.848, 'v_bounds': 51212.547436869485, 'hv_estimate': 43428.24022646532, 'num_eps_samples': 1000}\n",
      "hv_est:    43428.24022646532\n",
      "95% CI lb: 42288.640934618845\n",
      "95% CI ub: 44567.8395183118\n"
     ]
    }
   ],
   "source": [
    "# HV estimate\n",
    "with open(config.results_folder + 'hv_estimate.json', 'r') as f:\n",
    "    hv_estimate = json.load(f)\n",
    "print(hv_estimate)\n",
    "\n",
    "hv_est = float(hv_estimate['hv_estimate'])\n",
    "p_feasible = float(hv_estimate['feasible_fraction'])\n",
    "v_bounds = float(hv_estimate['v_bounds'])\n",
    "num_eps_samples = float(hv_estimate['num_eps_samples'])\n",
    "ci_95_eps = 1.96 / np.sqrt(num_eps_samples) * np.sqrt(p_feasible * (1 - p_feasible)) * v_bounds\n",
    "hv_ci_lb = hv_est - ci_95_eps\n",
    "hv_ci_ub = hv_est + ci_95_eps\n",
    "print('hv_est:   ', hv_est)\n",
    "print('95% CI lb:', hv_ci_lb)\n",
    "print('95% CI ub:', hv_ci_ub)"
   ]
  },
  {
   "cell_type": "code",
   "execution_count": 10,
   "id": "5ad71d3f-e644-4e86-880e-7b9d27780a83",
   "metadata": {},
   "outputs": [
    {
     "data": {
      "image/png": "[encoded data removed]",
      "text/plain": [
       "<Figure size 640x480 with 1 Axes>"
      ]
     },
     "metadata": {},
     "output_type": "display_data"
    }
   ],
   "source": [
    "plt.plot(x, y)\n",
    "plt.plot([min(x), max(x)], [hv_est, hv_est], 'r')\n",
    "plt.plot([min(x), max(x)], [hv_ci_lb, hv_ci_lb], 'r--')\n",
    "plt.plot([min(x), max(x)], [hv_ci_ub, hv_ci_ub], 'r--')\n",
    "plt.show()"
   ]
  },
  {
   "cell_type": "code",
   "execution_count": null,
   "id": "bc3ee33f-f8e5-4c34-9797-4c72c9a6cbf7",
   "metadata": {},
   "outputs": [],
   "source": []
  }
 ],
 "metadata": {
  "kernelspec": {
   "display_name": "Python 3 (ipykernel)",
   "language": "python",
   "name": "python3"
  },
  "language_info": {
   "codemirror_mode": {
    "name": "ipython",
    "version": 3
   },
   "file_extension": ".py",
   "mimetype": "text/x-python",
   "name": "python",
   "nbconvert_exporter": "python",
   "pygments_lexer": "ipython3",
   "version": "3.10.16"
  }
 },
 "nbformat": 4,
 "nbformat_minor": 5
}
