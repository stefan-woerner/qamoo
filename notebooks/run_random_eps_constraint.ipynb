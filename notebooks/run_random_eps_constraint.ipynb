{
 "cells": [
  {
   "cell_type": "markdown",
   "id": "2343bf69-fda1-4ad8-9cc6-4e2a68e3e5a5",
   "metadata": {},
   "source": [
    "# Run Random Epsilon Constraint Method"
   ]
  },
  {
   "cell_type": "code",
   "execution_count": 1,
   "id": "b774ad34-6ba2-44b4-94fd-d5004de6e2f9",
   "metadata": {},
   "outputs": [],
   "source": [
    "import json\n",
    "import numpy as np\n",
    "import matplotlib.pyplot as plt\n",
    "\n",
    "from qamoo.algorithms.classical_algorithms import random_eps_constraint\n",
    "from qamoo.configs.configs import ProblemSpecification, RandomEpsConstraintConfig\n",
    "from qamoo.utils.utils import compute_hypervolume_progress"
   ]
  },
  {
   "cell_type": "code",
   "execution_count": 2,
   "id": "fe22267f-4f04-47af-8601-70368bdeaf78",
   "metadata": {},
   "outputs": [
    {
     "name": "stdout",
     "output_type": "stream",
     "text": [
      "ProblemSpecification(data_folder='./../data/', num_qubits=42, num_objectives=3, num_swap_layers=0, problem_id=0)\n"
     ]
    }
   ],
   "source": [
    "problem = ProblemSpecification()\n",
    "problem.data_folder = './../data/'\n",
    "problem.num_qubits = 42\n",
    "problem.num_objectives = 3\n",
    "problem.num_swap_layers = 0\n",
    "problem.problem_id = 0\n",
    "print(problem)"
   ]
  },
  {
   "cell_type": "code",
   "execution_count": 3,
   "id": "64f7a926-8895-4d4a-ac83-9c3792b80f21",
   "metadata": {},
   "outputs": [
    {
     "name": "stdout",
     "output_type": "stream",
     "text": [
      "RandomEpsConstraintConfig(name='random_eps_constraint', problem=ProblemSpecification(data_folder='./../data/', num_qubits=42, num_objectives=3, num_swap_layers=0, problem_id=0), run_id=0, num_steps=0, objective_weights_id=0, num_samples=1000, shots=1, eps_seed=42)\n"
     ]
    }
   ],
   "source": [
    "# algorithm configuration\n",
    "config = RandomEpsConstraintConfig()\n",
    "config.num_samples = 1_000\n",
    "# config.num_samples = 459_629\n",
    "# config.num_samples = 742_081\n",
    "config.objective_weights_id = 0\n",
    "config.shots = 1\n",
    "config.run_id = 0\n",
    "config.problem = problem\n",
    "print(config)"
   ]
  },
  {
   "cell_type": "code",
   "execution_count": 4,
   "id": "63fc4668-65bd-436f-a61f-b0a7b6ebb1eb",
   "metadata": {
    "scrolled": true
   },
   "outputs": [
    {
     "name": "stdout",
     "output_type": "stream",
     "text": [
      "Folder exists!\n"
     ]
    },
    {
     "name": "stderr",
     "output_type": "stream",
     "text": [
      "  0%|                                                                                                              | 0/1000 [00:00<?, ?it/s]"
     ]
    },
    {
     "name": "stdout",
     "output_type": "stream",
     "text": [
      "Restricted license - for non-production use only - expires 2026-11-23\n",
      "Set parameter LogToConsole to value 0\n",
      "Set parameter LogToConsole to value 0\n",
      "Set parameter LogToConsole to value 0\n",
      "Set parameter LogToConsole to value 0\n",
      "Set parameter LogToConsole to value 0\n",
      "Set parameter LogToConsole to value 0\n",
      "Set parameter LogToConsole to value 0\n"
     ]
    },
    {
     "name": "stderr",
     "output_type": "stream",
     "text": [
      "  1%|▋                                                                                                     | 7/1000 [00:00<00:15, 65.09it/s]"
     ]
    },
    {
     "name": "stdout",
     "output_type": "stream",
     "text": [
      "Set parameter LogToConsole to value 0\n",
      "Set parameter LogToConsole to value 0\n",
      "Set parameter LogToConsole to value 0\n",
      "Set parameter LogToConsole to value 0\n",
      "Set parameter LogToConsole to value 0\n",
      "Set parameter LogToConsole to value 0\n",
      "Set parameter LogToConsole to value 0\n",
      "Set parameter LogToConsole to value 0\n",
      "Set parameter LogToConsole to value 0\n",
      "Set parameter LogToConsole to value 0\n",
      "Set parameter LogToConsole to value 0\n",
      "Set parameter LogToConsole to value 0\n",
      "Set parameter LogToConsole to value 0\n",
      "Set parameter LogToConsole to value 0\n"
     ]
    },
    {
     "name": "stderr",
     "output_type": "stream",
     "text": [
      "  2%|██                                                                                                  | 21/1000 [00:00<00:09, 104.59it/s]"
     ]
    },
    {
     "name": "stdout",
     "output_type": "stream",
     "text": [
      "Set parameter LogToConsole to value 0\n",
      "Set parameter LogToConsole to value 0\n",
      "Set parameter LogToConsole to value 0\n",
      "Set parameter LogToConsole to value 0\n",
      "Set parameter LogToConsole to value 0\n",
      "Set parameter LogToConsole to value 0\n",
      "Set parameter LogToConsole to value 0\n",
      "Set parameter LogToConsole to value 0\n",
      "Set parameter LogToConsole to value 0\n",
      "Set parameter LogToConsole to value 0\n",
      "Set parameter LogToConsole to value 0\n"
     ]
    },
    {
     "name": "stderr",
     "output_type": "stream",
     "text": [
      "  3%|███▏                                                                                                 | 32/1000 [00:00<00:09, 99.08it/s]"
     ]
    },
    {
     "name": "stdout",
     "output_type": "stream",
     "text": [
      "Set parameter LogToConsole to value 0\n",
      "Set parameter LogToConsole to value 0\n",
      "Set parameter LogToConsole to value 0\n",
      "Set parameter LogToConsole to value 0\n",
      "Set parameter LogToConsole to value 0\n",
      "Set parameter LogToConsole to value 0\n",
      "Set parameter LogToConsole to value 0\n",
      "Set parameter LogToConsole to value 0\n",
      "Set parameter LogToConsole to value 0\n",
      "Set parameter LogToConsole to value 0\n"
     ]
    },
    {
     "name": "stderr",
     "output_type": "stream",
     "text": [
      "  4%|████▏                                                                                                | 42/1000 [00:00<00:10, 92.29it/s]"
     ]
    },
    {
     "name": "stdout",
     "output_type": "stream",
     "text": [
      "Set parameter LogToConsole to value 0\n",
      "Set parameter LogToConsole to value 0\n",
      "Set parameter LogToConsole to value 0\n",
      "Set parameter LogToConsole to value 0\n",
      "Set parameter LogToConsole to value 0\n",
      "Set parameter LogToConsole to value 0\n",
      "Set parameter LogToConsole to value 0\n",
      "Set parameter LogToConsole to value 0\n",
      "Set parameter LogToConsole to value 0\n",
      "Set parameter LogToConsole to value 0\n"
     ]
    },
    {
     "name": "stderr",
     "output_type": "stream",
     "text": [
      "  5%|█████▎                                                                                               | 52/1000 [00:00<00:11, 85.98it/s]"
     ]
    },
    {
     "name": "stdout",
     "output_type": "stream",
     "text": [
      "Set parameter LogToConsole to value 0\n",
      "Set parameter LogToConsole to value 0\n",
      "Set parameter LogToConsole to value 0\n",
      "Set parameter LogToConsole to value 0\n",
      "Set parameter LogToConsole to value 0\n",
      "Set parameter LogToConsole to value 0\n",
      "Set parameter LogToConsole to value 0\n",
      "Set parameter LogToConsole to value 0\n",
      "Set parameter LogToConsole to value 0\n",
      "Set parameter LogToConsole to value 0\n",
      "Set parameter LogToConsole to value 0\n",
      "Set parameter LogToConsole to value 0\n",
      "Set parameter LogToConsole to value 0\n"
     ]
    },
    {
     "name": "stderr",
     "output_type": "stream",
     "text": [
      "  6%|██████▌                                                                                              | 65/1000 [00:00<00:09, 98.43it/s]"
     ]
    },
    {
     "name": "stdout",
     "output_type": "stream",
     "text": [
      "Set parameter LogToConsole to value 0\n",
      "Set parameter LogToConsole to value 0\n",
      "Set parameter LogToConsole to value 0\n",
      "Set parameter LogToConsole to value 0\n",
      "Set parameter LogToConsole to value 0\n",
      "Set parameter LogToConsole to value 0\n",
      "Set parameter LogToConsole to value 0\n",
      "Set parameter LogToConsole to value 0\n",
      "Set parameter LogToConsole to value 0\n",
      "Set parameter LogToConsole to value 0\n",
      "Set parameter LogToConsole to value 0\n"
     ]
    },
    {
     "name": "stderr",
     "output_type": "stream",
     "text": [
      "  8%|███████▋                                                                                             | 76/1000 [00:00<00:11, 77.46it/s]"
     ]
    },
    {
     "name": "stdout",
     "output_type": "stream",
     "text": [
      "Set parameter LogToConsole to value 0\n",
      "Set parameter LogToConsole to value 0\n",
      "Set parameter LogToConsole to value 0\n",
      "Set parameter LogToConsole to value 0\n",
      "Set parameter LogToConsole to value 0\n",
      "Set parameter LogToConsole to value 0\n",
      "Set parameter LogToConsole to value 0\n",
      "Set parameter LogToConsole to value 0\n",
      "Set parameter LogToConsole to value 0\n",
      "Set parameter LogToConsole to value 0\n"
     ]
    },
    {
     "name": "stderr",
     "output_type": "stream",
     "text": [
      "  9%|████████▋                                                                                            | 86/1000 [00:01<00:11, 80.68it/s]"
     ]
    },
    {
     "name": "stdout",
     "output_type": "stream",
     "text": [
      "Set parameter LogToConsole to value 0\n",
      "Set parameter LogToConsole to value 0\n",
      "Set parameter LogToConsole to value 0\n",
      "Set parameter LogToConsole to value 0\n",
      "Set parameter LogToConsole to value 0\n",
      "Set parameter LogToConsole to value 0\n",
      "Set parameter LogToConsole to value 0\n",
      "Set parameter LogToConsole to value 0\n",
      "Set parameter LogToConsole to value 0\n",
      "Set parameter LogToConsole to value 0\n",
      "Set parameter LogToConsole to value 0\n"
     ]
    },
    {
     "name": "stderr",
     "output_type": "stream",
     "text": [
      " 10%|█████████▊                                                                                           | 97/1000 [00:01<00:10, 88.08it/s]"
     ]
    },
    {
     "name": "stdout",
     "output_type": "stream",
     "text": [
      "Set parameter LogToConsole to value 0\n",
      "Set parameter LogToConsole to value 0\n",
      "Set parameter LogToConsole to value 0\n",
      "Set parameter LogToConsole to value 0\n",
      "Set parameter LogToConsole to value 0\n",
      "Set parameter LogToConsole to value 0\n",
      "Set parameter LogToConsole to value 0\n",
      "Set parameter LogToConsole to value 0\n",
      "Set parameter LogToConsole to value 0\n",
      "Set parameter LogToConsole to value 0\n",
      "Set parameter LogToConsole to value 0\n",
      "Set parameter LogToConsole to value 0\n",
      "Set parameter LogToConsole to value 0\n",
      "Set parameter LogToConsole to value 0\n"
     ]
    },
    {
     "name": "stderr",
     "output_type": "stream",
     "text": [
      " 11%|██████████▉                                                                                        | 111/1000 [00:01<00:08, 100.64it/s]"
     ]
    },
    {
     "name": "stdout",
     "output_type": "stream",
     "text": [
      "Set parameter LogToConsole to value 0\n",
      "Set parameter LogToConsole to value 0\n",
      "Set parameter LogToConsole to value 0\n",
      "Set parameter LogToConsole to value 0\n",
      "Set parameter LogToConsole to value 0\n",
      "Set parameter LogToConsole to value 0\n",
      "Set parameter LogToConsole to value 0\n",
      "Set parameter LogToConsole to value 0\n",
      "Set parameter LogToConsole to value 0\n",
      "Set parameter LogToConsole to value 0\n",
      "Set parameter LogToConsole to value 0\n"
     ]
    },
    {
     "name": "stderr",
     "output_type": "stream",
     "text": [
      " 12%|████████████▏                                                                                       | 122/1000 [00:01<00:09, 92.88it/s]"
     ]
    },
    {
     "name": "stdout",
     "output_type": "stream",
     "text": [
      "Set parameter LogToConsole to value 0\n",
      "Set parameter LogToConsole to value 0\n",
      "Set parameter LogToConsole to value 0\n",
      "Set parameter LogToConsole to value 0\n",
      "Set parameter LogToConsole to value 0\n",
      "Set parameter LogToConsole to value 0\n",
      "Set parameter LogToConsole to value 0\n",
      "Set parameter LogToConsole to value 0\n",
      "Set parameter LogToConsole to value 0\n",
      "Set parameter LogToConsole to value 0\n"
     ]
    },
    {
     "name": "stderr",
     "output_type": "stream",
     "text": [
      " 13%|█████████████▏                                                                                      | 132/1000 [00:01<00:09, 93.96it/s]"
     ]
    },
    {
     "name": "stdout",
     "output_type": "stream",
     "text": [
      "Set parameter LogToConsole to value 0\n",
      "Set parameter LogToConsole to value 0\n",
      "Set parameter LogToConsole to value 0\n",
      "Set parameter LogToConsole to value 0\n",
      "Set parameter LogToConsole to value 0\n",
      "Set parameter LogToConsole to value 0\n",
      "Set parameter LogToConsole to value 0\n",
      "Set parameter LogToConsole to value 0\n",
      "Set parameter LogToConsole to value 0\n",
      "Set parameter LogToConsole to value 0\n",
      "Set parameter LogToConsole to value 0\n",
      "Set parameter LogToConsole to value 0\n"
     ]
    },
    {
     "name": "stderr",
     "output_type": "stream",
     "text": [
      " 14%|██████████████▍                                                                                     | 144/1000 [00:01<00:08, 95.60it/s]"
     ]
    },
    {
     "name": "stdout",
     "output_type": "stream",
     "text": [
      "Set parameter LogToConsole to value 0\n",
      "Set parameter LogToConsole to value 0\n",
      "Set parameter LogToConsole to value 0\n",
      "Set parameter LogToConsole to value 0\n",
      "Set parameter LogToConsole to value 0\n",
      "Set parameter LogToConsole to value 0\n",
      "Set parameter LogToConsole to value 0\n",
      "Set parameter LogToConsole to value 0\n",
      "Set parameter LogToConsole to value 0\n",
      "Set parameter LogToConsole to value 0\n",
      "Set parameter LogToConsole to value 0\n",
      "Set parameter LogToConsole to value 0\n"
     ]
    },
    {
     "name": "stderr",
     "output_type": "stream",
     "text": [
      " 16%|███████████████▌                                                                                    | 156/1000 [00:01<00:08, 99.70it/s]"
     ]
    },
    {
     "name": "stdout",
     "output_type": "stream",
     "text": [
      "Set parameter LogToConsole to value 0\n",
      "Set parameter LogToConsole to value 0\n",
      "Set parameter LogToConsole to value 0\n",
      "Set parameter LogToConsole to value 0\n",
      "Set parameter LogToConsole to value 0\n",
      "Set parameter LogToConsole to value 0\n",
      "Set parameter LogToConsole to value 0\n",
      "Set parameter LogToConsole to value 0\n",
      "Set parameter LogToConsole to value 0\n",
      "Set parameter LogToConsole to value 0\n",
      "Set parameter LogToConsole to value 0\n"
     ]
    },
    {
     "name": "stderr",
     "output_type": "stream",
     "text": [
      " 17%|████████████████▋                                                                                   | 167/1000 [00:01<00:08, 95.55it/s]"
     ]
    },
    {
     "name": "stdout",
     "output_type": "stream",
     "text": [
      "Set parameter LogToConsole to value 0\n",
      "Set parameter LogToConsole to value 0\n",
      "Set parameter LogToConsole to value 0\n",
      "Set parameter LogToConsole to value 0\n",
      "Set parameter LogToConsole to value 0\n",
      "Set parameter LogToConsole to value 0\n",
      "Set parameter LogToConsole to value 0\n",
      "Set parameter LogToConsole to value 0\n",
      "Set parameter LogToConsole to value 0\n",
      "Set parameter LogToConsole to value 0\n"
     ]
    },
    {
     "name": "stderr",
     "output_type": "stream",
     "text": [
      " 18%|█████████████████▋                                                                                  | 177/1000 [00:01<00:08, 94.75it/s]"
     ]
    },
    {
     "name": "stdout",
     "output_type": "stream",
     "text": [
      "Set parameter LogToConsole to value 0\n",
      "Set parameter LogToConsole to value 0\n",
      "Set parameter LogToConsole to value 0\n",
      "Set parameter LogToConsole to value 0\n",
      "Set parameter LogToConsole to value 0\n",
      "Set parameter LogToConsole to value 0\n",
      "Set parameter LogToConsole to value 0\n",
      "Set parameter LogToConsole to value 0\n",
      "Set parameter LogToConsole to value 0\n",
      "Set parameter LogToConsole to value 0\n"
     ]
    },
    {
     "name": "stderr",
     "output_type": "stream",
     "text": [
      " 19%|██████████████████▋                                                                                 | 187/1000 [00:02<00:08, 95.82it/s]"
     ]
    },
    {
     "name": "stdout",
     "output_type": "stream",
     "text": [
      "Set parameter LogToConsole to value 0\n",
      "Set parameter LogToConsole to value 0\n",
      "Set parameter LogToConsole to value 0\n",
      "Set parameter LogToConsole to value 0\n",
      "Set parameter LogToConsole to value 0\n",
      "Set parameter LogToConsole to value 0\n",
      "Set parameter LogToConsole to value 0\n",
      "Set parameter LogToConsole to value 0\n",
      "Set parameter LogToConsole to value 0\n",
      "Set parameter LogToConsole to value 0\n"
     ]
    },
    {
     "name": "stderr",
     "output_type": "stream",
     "text": [
      " 20%|███████████████████▋                                                                                | 197/1000 [00:02<00:08, 94.71it/s]"
     ]
    },
    {
     "name": "stdout",
     "output_type": "stream",
     "text": [
      "Set parameter LogToConsole to value 0\n",
      "Set parameter LogToConsole to value 0\n",
      "Set parameter LogToConsole to value 0\n",
      "Set parameter LogToConsole to value 0\n",
      "Set parameter LogToConsole to value 0\n",
      "Set parameter LogToConsole to value 0\n",
      "Set parameter LogToConsole to value 0\n",
      "Set parameter LogToConsole to value 0\n",
      "Set parameter LogToConsole to value 0\n",
      "Set parameter LogToConsole to value 0\n"
     ]
    },
    {
     "name": "stderr",
     "output_type": "stream",
     "text": [
      " 21%|████████████████████▋                                                                               | 207/1000 [00:02<00:11, 70.56it/s]"
     ]
    },
    {
     "name": "stdout",
     "output_type": "stream",
     "text": [
      "Set parameter LogToConsole to value 0\n",
      "Set parameter LogToConsole to value 0\n",
      "Set parameter LogToConsole to value 0\n",
      "Set parameter LogToConsole to value 0\n",
      "Set parameter LogToConsole to value 0\n",
      "Set parameter LogToConsole to value 0\n",
      "Set parameter LogToConsole to value 0\n",
      "Set parameter LogToConsole to value 0\n",
      "Set parameter LogToConsole to value 0\n",
      "Set parameter LogToConsole to value 0\n"
     ]
    },
    {
     "name": "stderr",
     "output_type": "stream",
     "text": [
      " 22%|█████████████████████▋                                                                              | 217/1000 [00:02<00:10, 74.66it/s]"
     ]
    },
    {
     "name": "stdout",
     "output_type": "stream",
     "text": [
      "Set parameter LogToConsole to value 0\n",
      "Set parameter LogToConsole to value 0\n",
      "Set parameter LogToConsole to value 0\n",
      "Set parameter LogToConsole to value 0\n",
      "Set parameter LogToConsole to value 0\n",
      "Set parameter LogToConsole to value 0\n",
      "Set parameter LogToConsole to value 0\n",
      "Set parameter LogToConsole to value 0\n",
      "Set parameter LogToConsole to value 0\n",
      "Set parameter LogToConsole to value 0\n",
      "Set parameter LogToConsole to value 0\n",
      "Set parameter LogToConsole to value 0\n"
     ]
    },
    {
     "name": "stderr",
     "output_type": "stream",
     "text": [
      " 23%|██████████████████████▉                                                                             | 229/1000 [00:02<00:09, 77.66it/s]"
     ]
    },
    {
     "name": "stdout",
     "output_type": "stream",
     "text": [
      "Set parameter LogToConsole to value 0\n",
      "Set parameter LogToConsole to value 0\n",
      "Set parameter LogToConsole to value 0\n",
      "Set parameter LogToConsole to value 0\n",
      "Set parameter LogToConsole to value 0\n",
      "Set parameter LogToConsole to value 0\n",
      "Set parameter LogToConsole to value 0\n",
      "Set parameter LogToConsole to value 0\n",
      "Set parameter LogToConsole to value 0\n",
      "Set parameter LogToConsole to value 0\n",
      "Set parameter LogToConsole to value 0\n",
      "Set parameter LogToConsole to value 0\n",
      "Set parameter LogToConsole to value 0\n",
      "Set parameter LogToConsole to value 0\n",
      "Set parameter LogToConsole to value 0\n",
      "Set parameter LogToConsole to value 0\n"
     ]
    },
    {
     "name": "stderr",
     "output_type": "stream",
     "text": [
      " 24%|████████████████████████▌                                                                           | 245/1000 [00:02<00:07, 96.20it/s]"
     ]
    },
    {
     "name": "stdout",
     "output_type": "stream",
     "text": [
      "Set parameter LogToConsole to value 0\n",
      "Set parameter LogToConsole to value 0\n",
      "Set parameter LogToConsole to value 0\n",
      "Set parameter LogToConsole to value 0\n",
      "Set parameter LogToConsole to value 0\n",
      "Set parameter LogToConsole to value 0\n",
      "Set parameter LogToConsole to value 0\n",
      "Set parameter LogToConsole to value 0\n",
      "Set parameter LogToConsole to value 0\n",
      "Set parameter LogToConsole to value 0\n",
      "Set parameter LogToConsole to value 0\n"
     ]
    },
    {
     "name": "stderr",
     "output_type": "stream",
     "text": [
      " 26%|█████████████████████████▌                                                                          | 256/1000 [00:02<00:08, 86.53it/s]"
     ]
    },
    {
     "name": "stdout",
     "output_type": "stream",
     "text": [
      "Set parameter LogToConsole to value 0\n",
      "Set parameter LogToConsole to value 0\n",
      "Set parameter LogToConsole to value 0\n",
      "Set parameter LogToConsole to value 0\n",
      "Set parameter LogToConsole to value 0\n",
      "Set parameter LogToConsole to value 0\n",
      "Set parameter LogToConsole to value 0\n",
      "Set parameter LogToConsole to value 0\n",
      "Set parameter LogToConsole to value 0\n",
      "Set parameter LogToConsole to value 0\n"
     ]
    },
    {
     "name": "stderr",
     "output_type": "stream",
     "text": [
      " 27%|██████████████████████████▌                                                                         | 266/1000 [00:02<00:08, 86.69it/s]"
     ]
    },
    {
     "name": "stdout",
     "output_type": "stream",
     "text": [
      "Set parameter LogToConsole to value 0\n",
      "Set parameter LogToConsole to value 0\n",
      "Set parameter LogToConsole to value 0\n",
      "Set parameter LogToConsole to value 0\n",
      "Set parameter LogToConsole to value 0\n",
      "Set parameter LogToConsole to value 0\n",
      "Set parameter LogToConsole to value 0\n",
      "Set parameter LogToConsole to value 0\n",
      "Set parameter LogToConsole to value 0\n",
      "Set parameter LogToConsole to value 0\n"
     ]
    },
    {
     "name": "stderr",
     "output_type": "stream",
     "text": [
      " 28%|███████████████████████████▌                                                                        | 276/1000 [00:03<00:08, 87.49it/s]"
     ]
    },
    {
     "name": "stdout",
     "output_type": "stream",
     "text": [
      "Set parameter LogToConsole to value 0\n",
      "Set parameter LogToConsole to value 0\n",
      "Set parameter LogToConsole to value 0\n",
      "Set parameter LogToConsole to value 0\n",
      "Set parameter LogToConsole to value 0\n",
      "Set parameter LogToConsole to value 0\n",
      "Set parameter LogToConsole to value 0\n",
      "Set parameter LogToConsole to value 0\n",
      "Set parameter LogToConsole to value 0\n",
      "Set parameter LogToConsole to value 0\n",
      "Set parameter LogToConsole to value 0\n",
      "Set parameter LogToConsole to value 0\n",
      "Set parameter LogToConsole to value 0\n",
      "Set parameter LogToConsole to value 0\n",
      "Set parameter LogToConsole to value 0\n"
     ]
    },
    {
     "name": "stderr",
     "output_type": "stream",
     "text": [
      " 29%|████████████████████████████▊                                                                      | 291/1000 [00:03<00:06, 102.29it/s]"
     ]
    },
    {
     "name": "stdout",
     "output_type": "stream",
     "text": [
      "Set parameter LogToConsole to value 0\n",
      "Set parameter LogToConsole to value 0\n",
      "Set parameter LogToConsole to value 0\n",
      "Set parameter LogToConsole to value 0\n",
      "Set parameter LogToConsole to value 0\n",
      "Set parameter LogToConsole to value 0\n",
      "Set parameter LogToConsole to value 0\n",
      "Set parameter LogToConsole to value 0\n",
      "Set parameter LogToConsole to value 0\n",
      "Set parameter LogToConsole to value 0\n",
      "Set parameter LogToConsole to value 0\n"
     ]
    },
    {
     "name": "stderr",
     "output_type": "stream",
     "text": [
      " 30%|██████████████████████████████▏                                                                     | 302/1000 [00:03<00:07, 92.84it/s]"
     ]
    },
    {
     "name": "stdout",
     "output_type": "stream",
     "text": [
      "Set parameter LogToConsole to value 0\n",
      "Set parameter LogToConsole to value 0\n",
      "Set parameter LogToConsole to value 0\n",
      "Set parameter LogToConsole to value 0\n",
      "Set parameter LogToConsole to value 0\n",
      "Set parameter LogToConsole to value 0\n",
      "Set parameter LogToConsole to value 0\n",
      "Set parameter LogToConsole to value 0\n",
      "Set parameter LogToConsole to value 0\n",
      "Set parameter LogToConsole to value 0\n"
     ]
    },
    {
     "name": "stderr",
     "output_type": "stream",
     "text": [
      " 31%|███████████████████████████████▏                                                                    | 312/1000 [00:03<00:07, 94.29it/s]"
     ]
    },
    {
     "name": "stdout",
     "output_type": "stream",
     "text": [
      "Set parameter LogToConsole to value 0\n",
      "Set parameter LogToConsole to value 0\n",
      "Set parameter LogToConsole to value 0\n",
      "Set parameter LogToConsole to value 0\n",
      "Set parameter LogToConsole to value 0\n",
      "Set parameter LogToConsole to value 0\n",
      "Set parameter LogToConsole to value 0\n",
      "Set parameter LogToConsole to value 0\n",
      "Set parameter LogToConsole to value 0\n",
      "Set parameter LogToConsole to value 0\n",
      "Set parameter LogToConsole to value 0\n",
      "Set parameter LogToConsole to value 0\n"
     ]
    },
    {
     "name": "stderr",
     "output_type": "stream",
     "text": [
      " 32%|████████████████████████████████▍                                                                   | 324/1000 [00:03<00:07, 89.68it/s]"
     ]
    },
    {
     "name": "stdout",
     "output_type": "stream",
     "text": [
      "Set parameter LogToConsole to value 0\n",
      "Set parameter LogToConsole to value 0\n",
      "Set parameter LogToConsole to value 0\n",
      "Set parameter LogToConsole to value 0\n",
      "Set parameter LogToConsole to value 0\n",
      "Set parameter LogToConsole to value 0\n",
      "Set parameter LogToConsole to value 0\n",
      "Set parameter LogToConsole to value 0\n",
      "Set parameter LogToConsole to value 0\n",
      "Set parameter LogToConsole to value 0\n"
     ]
    },
    {
     "name": "stderr",
     "output_type": "stream",
     "text": [
      " 33%|█████████████████████████████████▍                                                                  | 334/1000 [00:03<00:07, 88.77it/s]"
     ]
    },
    {
     "name": "stdout",
     "output_type": "stream",
     "text": [
      "Set parameter LogToConsole to value 0\n",
      "Set parameter LogToConsole to value 0\n",
      "Set parameter LogToConsole to value 0\n",
      "Set parameter LogToConsole to value 0\n",
      "Set parameter LogToConsole to value 0\n",
      "Set parameter LogToConsole to value 0\n",
      "Set parameter LogToConsole to value 0\n",
      "Set parameter LogToConsole to value 0\n",
      "Set parameter LogToConsole to value 0\n",
      "Set parameter LogToConsole to value 0\n"
     ]
    },
    {
     "name": "stderr",
     "output_type": "stream",
     "text": [
      " 34%|██████████████████████████████████▍                                                                 | 344/1000 [00:03<00:08, 79.35it/s]"
     ]
    },
    {
     "name": "stdout",
     "output_type": "stream",
     "text": [
      "Set parameter LogToConsole to value 0\n",
      "Set parameter LogToConsole to value 0\n",
      "Set parameter LogToConsole to value 0\n",
      "Set parameter LogToConsole to value 0\n",
      "Set parameter LogToConsole to value 0\n",
      "Set parameter LogToConsole to value 0\n",
      "Set parameter LogToConsole to value 0\n",
      "Set parameter LogToConsole to value 0\n",
      "Set parameter LogToConsole to value 0\n",
      "Set parameter LogToConsole to value 0\n",
      "Set parameter LogToConsole to value 0\n",
      "Set parameter LogToConsole to value 0\n",
      "Set parameter LogToConsole to value 0\n",
      "Set parameter LogToConsole to value 0\n"
     ]
    },
    {
     "name": "stderr",
     "output_type": "stream",
     "text": [
      " 36%|███████████████████████████████████▊                                                                | 358/1000 [00:03<00:06, 93.71it/s]"
     ]
    },
    {
     "name": "stdout",
     "output_type": "stream",
     "text": [
      "Set parameter LogToConsole to value 0\n",
      "Set parameter LogToConsole to value 0\n",
      "Set parameter LogToConsole to value 0\n",
      "Set parameter LogToConsole to value 0\n",
      "Set parameter LogToConsole to value 0\n",
      "Set parameter LogToConsole to value 0\n",
      "Set parameter LogToConsole to value 0\n",
      "Set parameter LogToConsole to value 0\n",
      "Set parameter LogToConsole to value 0\n",
      "Set parameter LogToConsole to value 0\n",
      "Set parameter LogToConsole to value 0\n",
      "Set parameter LogToConsole to value 0\n",
      "Set parameter LogToConsole to value 0\n",
      "Set parameter LogToConsole to value 0\n",
      "Set parameter LogToConsole to value 0\n",
      "Set parameter LogToConsole to value 0\n",
      "Set parameter LogToConsole to value 0\n",
      "Set parameter LogToConsole to value 0\n",
      "Set parameter LogToConsole to value 0\n"
     ]
    },
    {
     "name": "stderr",
     "output_type": "stream",
     "text": [
      " 38%|█████████████████████████████████████▎                                                             | 377/1000 [00:04<00:05, 113.26it/s]"
     ]
    },
    {
     "name": "stdout",
     "output_type": "stream",
     "text": [
      "Set parameter LogToConsole to value 0\n",
      "Set parameter LogToConsole to value 0\n",
      "Set parameter LogToConsole to value 0\n",
      "Set parameter LogToConsole to value 0\n",
      "Set parameter LogToConsole to value 0\n",
      "Set parameter LogToConsole to value 0\n",
      "Set parameter LogToConsole to value 0\n",
      "Set parameter LogToConsole to value 0\n",
      "Set parameter LogToConsole to value 0\n",
      "Set parameter LogToConsole to value 0\n",
      "Set parameter LogToConsole to value 0\n",
      "Set parameter LogToConsole to value 0\n"
     ]
    },
    {
     "name": "stderr",
     "output_type": "stream",
     "text": [
      " 39%|██████████████████████████████████████▌                                                            | 389/1000 [00:04<00:05, 104.90it/s]"
     ]
    },
    {
     "name": "stdout",
     "output_type": "stream",
     "text": [
      "Set parameter LogToConsole to value 0\n",
      "Set parameter LogToConsole to value 0\n",
      "Set parameter LogToConsole to value 0\n",
      "Set parameter LogToConsole to value 0\n",
      "Set parameter LogToConsole to value 0\n",
      "Set parameter LogToConsole to value 0\n",
      "Set parameter LogToConsole to value 0\n",
      "Set parameter LogToConsole to value 0\n",
      "Set parameter LogToConsole to value 0\n",
      "Set parameter LogToConsole to value 0\n",
      "Set parameter LogToConsole to value 0\n"
     ]
    },
    {
     "name": "stderr",
     "output_type": "stream",
     "text": [
      " 40%|███████████████████████████████████████▌                                                           | 400/1000 [00:04<00:05, 104.98it/s]"
     ]
    },
    {
     "name": "stdout",
     "output_type": "stream",
     "text": [
      "Set parameter LogToConsole to value 0\n",
      "Set parameter LogToConsole to value 0\n",
      "Set parameter LogToConsole to value 0\n",
      "Set parameter LogToConsole to value 0\n",
      "Set parameter LogToConsole to value 0\n",
      "Set parameter LogToConsole to value 0\n",
      "Set parameter LogToConsole to value 0\n",
      "Set parameter LogToConsole to value 0\n",
      "Set parameter LogToConsole to value 0\n",
      "Set parameter LogToConsole to value 0\n",
      "Set parameter LogToConsole to value 0\n"
     ]
    },
    {
     "name": "stderr",
     "output_type": "stream",
     "text": [
      " 41%|█████████████████████████████████████████                                                           | 411/1000 [00:04<00:07, 82.66it/s]"
     ]
    },
    {
     "name": "stdout",
     "output_type": "stream",
     "text": [
      "Set parameter LogToConsole to value 0\n",
      "Set parameter LogToConsole to value 0\n",
      "Set parameter LogToConsole to value 0\n",
      "Set parameter LogToConsole to value 0\n",
      "Set parameter LogToConsole to value 0\n",
      "Set parameter LogToConsole to value 0\n",
      "Set parameter LogToConsole to value 0\n",
      "Set parameter LogToConsole to value 0\n",
      "Set parameter LogToConsole to value 0\n",
      "Set parameter LogToConsole to value 0\n",
      "Set parameter LogToConsole to value 0\n",
      "Set parameter LogToConsole to value 0\n",
      "Set parameter LogToConsole to value 0\n",
      "Set parameter LogToConsole to value 0\n",
      "Set parameter LogToConsole to value 0\n",
      "Set parameter LogToConsole to value 0\n"
     ]
    },
    {
     "name": "stderr",
     "output_type": "stream",
     "text": [
      " 43%|██████████████████████████████████████████▋                                                         | 427/1000 [00:04<00:05, 99.43it/s]"
     ]
    },
    {
     "name": "stdout",
     "output_type": "stream",
     "text": [
      "Set parameter LogToConsole to value 0\n",
      "Set parameter LogToConsole to value 0\n",
      "Set parameter LogToConsole to value 0\n",
      "Set parameter LogToConsole to value 0\n",
      "Set parameter LogToConsole to value 0\n",
      "Set parameter LogToConsole to value 0\n",
      "Set parameter LogToConsole to value 0\n",
      "Set parameter LogToConsole to value 0\n",
      "Set parameter LogToConsole to value 0\n",
      "Set parameter LogToConsole to value 0\n",
      "Set parameter LogToConsole to value 0\n",
      "Set parameter LogToConsole to value 0\n"
     ]
    },
    {
     "name": "stderr",
     "output_type": "stream",
     "text": [
      " 44%|███████████████████████████████████████████▉                                                        | 439/1000 [00:04<00:05, 97.17it/s]"
     ]
    },
    {
     "name": "stdout",
     "output_type": "stream",
     "text": [
      "Set parameter LogToConsole to value 0\n",
      "Set parameter LogToConsole to value 0\n",
      "Set parameter LogToConsole to value 0\n",
      "Set parameter LogToConsole to value 0\n",
      "Set parameter LogToConsole to value 0\n",
      "Set parameter LogToConsole to value 0\n",
      "Set parameter LogToConsole to value 0\n",
      "Set parameter LogToConsole to value 0\n",
      "Set parameter LogToConsole to value 0\n",
      "Set parameter LogToConsole to value 0\n",
      "Set parameter LogToConsole to value 0\n"
     ]
    },
    {
     "name": "stderr",
     "output_type": "stream",
     "text": [
      " 45%|█████████████████████████████████████████████                                                       | 450/1000 [00:04<00:05, 98.34it/s]"
     ]
    },
    {
     "name": "stdout",
     "output_type": "stream",
     "text": [
      "Set parameter LogToConsole to value 0\n",
      "Set parameter LogToConsole to value 0\n",
      "Set parameter LogToConsole to value 0\n",
      "Set parameter LogToConsole to value 0\n",
      "Set parameter LogToConsole to value 0\n",
      "Set parameter LogToConsole to value 0\n",
      "Set parameter LogToConsole to value 0\n",
      "Set parameter LogToConsole to value 0\n",
      "Set parameter LogToConsole to value 0\n",
      "Set parameter LogToConsole to value 0\n",
      "Set parameter LogToConsole to value 0\n"
     ]
    },
    {
     "name": "stderr",
     "output_type": "stream",
     "text": [
      " 46%|██████████████████████████████████████████████                                                      | 461/1000 [00:05<00:06, 80.79it/s]"
     ]
    },
    {
     "name": "stdout",
     "output_type": "stream",
     "text": [
      "Set parameter LogToConsole to value 0\n",
      "Set parameter LogToConsole to value 0\n",
      "Set parameter LogToConsole to value 0\n",
      "Set parameter LogToConsole to value 0\n",
      "Set parameter LogToConsole to value 0\n",
      "Set parameter LogToConsole to value 0\n",
      "Set parameter LogToConsole to value 0\n",
      "Set parameter LogToConsole to value 0\n",
      "Set parameter LogToConsole to value 0\n"
     ]
    },
    {
     "name": "stderr",
     "output_type": "stream",
     "text": [
      " 47%|███████████████████████████████████████████████                                                     | 470/1000 [00:05<00:06, 80.03it/s]"
     ]
    },
    {
     "name": "stdout",
     "output_type": "stream",
     "text": [
      "Set parameter LogToConsole to value 0\n",
      "Set parameter LogToConsole to value 0\n",
      "Set parameter LogToConsole to value 0\n",
      "Set parameter LogToConsole to value 0\n",
      "Set parameter LogToConsole to value 0\n",
      "Set parameter LogToConsole to value 0\n",
      "Set parameter LogToConsole to value 0\n",
      "Set parameter LogToConsole to value 0\n",
      "Set parameter LogToConsole to value 0\n",
      "Set parameter LogToConsole to value 0\n",
      "Set parameter LogToConsole to value 0\n",
      "Set parameter LogToConsole to value 0\n",
      "Set parameter LogToConsole to value 0\n"
     ]
    },
    {
     "name": "stderr",
     "output_type": "stream",
     "text": [
      " 48%|████████████████████████████████████████████████▎                                                   | 483/1000 [00:05<00:05, 91.45it/s]"
     ]
    },
    {
     "name": "stdout",
     "output_type": "stream",
     "text": [
      "Set parameter LogToConsole to value 0\n",
      "Set parameter LogToConsole to value 0\n",
      "Set parameter LogToConsole to value 0\n",
      "Set parameter LogToConsole to value 0\n",
      "Set parameter LogToConsole to value 0\n",
      "Set parameter LogToConsole to value 0\n",
      "Set parameter LogToConsole to value 0\n",
      "Set parameter LogToConsole to value 0\n",
      "Set parameter LogToConsole to value 0\n",
      "Set parameter LogToConsole to value 0\n",
      "Set parameter LogToConsole to value 0\n",
      "Set parameter LogToConsole to value 0\n"
     ]
    },
    {
     "name": "stderr",
     "output_type": "stream",
     "text": [
      " 50%|█████████████████████████████████████████████████▌                                                  | 495/1000 [00:05<00:05, 96.90it/s]"
     ]
    },
    {
     "name": "stdout",
     "output_type": "stream",
     "text": [
      "Set parameter LogToConsole to value 0\n",
      "Set parameter LogToConsole to value 0\n",
      "Set parameter LogToConsole to value 0\n",
      "Set parameter LogToConsole to value 0\n",
      "Set parameter LogToConsole to value 0\n",
      "Set parameter LogToConsole to value 0\n",
      "Set parameter LogToConsole to value 0\n",
      "Set parameter LogToConsole to value 0\n",
      "Set parameter LogToConsole to value 0\n",
      "Set parameter LogToConsole to value 0\n",
      "Set parameter LogToConsole to value 0\n"
     ]
    },
    {
     "name": "stderr",
     "output_type": "stream",
     "text": [
      " 51%|██████████████████████████████████████████████████▌                                                 | 506/1000 [00:05<00:04, 99.44it/s]"
     ]
    },
    {
     "name": "stdout",
     "output_type": "stream",
     "text": [
      "Set parameter LogToConsole to value 0\n",
      "Set parameter LogToConsole to value 0\n",
      "Set parameter LogToConsole to value 0\n",
      "Set parameter LogToConsole to value 0\n",
      "Set parameter LogToConsole to value 0\n",
      "Set parameter LogToConsole to value 0\n",
      "Set parameter LogToConsole to value 0\n",
      "Set parameter LogToConsole to value 0\n",
      "Set parameter LogToConsole to value 0\n",
      "Set parameter LogToConsole to value 0\n",
      "Set parameter LogToConsole to value 0\n"
     ]
    },
    {
     "name": "stderr",
     "output_type": "stream",
     "text": [
      " 52%|███████████████████████████████████████████████████▋                                                | 517/1000 [00:05<00:05, 82.56it/s]"
     ]
    },
    {
     "name": "stdout",
     "output_type": "stream",
     "text": [
      "Set parameter LogToConsole to value 0\n",
      "Set parameter LogToConsole to value 0\n",
      "Set parameter LogToConsole to value 0\n",
      "Set parameter LogToConsole to value 0\n",
      "Set parameter LogToConsole to value 0\n",
      "Set parameter LogToConsole to value 0\n",
      "Set parameter LogToConsole to value 0\n",
      "Set parameter LogToConsole to value 0\n",
      "Set parameter LogToConsole to value 0\n",
      "Set parameter LogToConsole to value 0\n",
      "Set parameter LogToConsole to value 0\n",
      "Set parameter LogToConsole to value 0\n",
      "Set parameter LogToConsole to value 0\n",
      "Set parameter LogToConsole to value 0\n"
     ]
    },
    {
     "name": "stderr",
     "output_type": "stream",
     "text": [
      " 53%|█████████████████████████████████████████████████████                                               | 531/1000 [00:05<00:04, 95.83it/s]"
     ]
    },
    {
     "name": "stdout",
     "output_type": "stream",
     "text": [
      "Set parameter LogToConsole to value 0\n",
      "Set parameter LogToConsole to value 0\n",
      "Set parameter LogToConsole to value 0\n",
      "Set parameter LogToConsole to value 0\n",
      "Set parameter LogToConsole to value 0\n",
      "Set parameter LogToConsole to value 0\n",
      "Set parameter LogToConsole to value 0\n",
      "Set parameter LogToConsole to value 0\n",
      "Set parameter LogToConsole to value 0\n",
      "Set parameter LogToConsole to value 0\n",
      "Set parameter LogToConsole to value 0\n"
     ]
    },
    {
     "name": "stderr",
     "output_type": "stream",
     "text": [
      " 54%|██████████████████████████████████████████████████████▏                                             | 542/1000 [00:05<00:04, 99.22it/s]"
     ]
    },
    {
     "name": "stdout",
     "output_type": "stream",
     "text": [
      "Set parameter LogToConsole to value 0\n",
      "Set parameter LogToConsole to value 0\n",
      "Set parameter LogToConsole to value 0\n",
      "Set parameter LogToConsole to value 0\n",
      "Set parameter LogToConsole to value 0\n",
      "Set parameter LogToConsole to value 0\n",
      "Set parameter LogToConsole to value 0\n",
      "Set parameter LogToConsole to value 0\n",
      "Set parameter LogToConsole to value 0\n",
      "Set parameter LogToConsole to value 0\n",
      "Set parameter LogToConsole to value 0\n"
     ]
    },
    {
     "name": "stderr",
     "output_type": "stream",
     "text": [
      " 55%|███████████████████████████████████████████████████████▎                                            | 553/1000 [00:06<00:05, 87.82it/s]"
     ]
    },
    {
     "name": "stdout",
     "output_type": "stream",
     "text": [
      "Set parameter LogToConsole to value 0\n",
      "Set parameter LogToConsole to value 0\n",
      "Set parameter LogToConsole to value 0\n",
      "Set parameter LogToConsole to value 0\n",
      "Set parameter LogToConsole to value 0\n",
      "Set parameter LogToConsole to value 0\n",
      "Set parameter LogToConsole to value 0\n",
      "Set parameter LogToConsole to value 0\n",
      "Set parameter LogToConsole to value 0\n",
      "Set parameter LogToConsole to value 0\n"
     ]
    },
    {
     "name": "stderr",
     "output_type": "stream",
     "text": [
      " 56%|████████████████████████████████████████████████████████▎                                           | 563/1000 [00:06<00:05, 87.27it/s]"
     ]
    },
    {
     "name": "stdout",
     "output_type": "stream",
     "text": [
      "Set parameter LogToConsole to value 0\n",
      "Set parameter LogToConsole to value 0\n",
      "Set parameter LogToConsole to value 0\n",
      "Set parameter LogToConsole to value 0\n",
      "Set parameter LogToConsole to value 0\n",
      "Set parameter LogToConsole to value 0\n",
      "Set parameter LogToConsole to value 0\n",
      "Set parameter LogToConsole to value 0\n",
      "Set parameter LogToConsole to value 0\n",
      "Set parameter LogToConsole to value 0\n",
      "Set parameter LogToConsole to value 0\n",
      "Set parameter LogToConsole to value 0\n",
      "Set parameter LogToConsole to value 0\n",
      "Set parameter LogToConsole to value 0\n",
      "Set parameter LogToConsole to value 0\n"
     ]
    },
    {
     "name": "stderr",
     "output_type": "stream",
     "text": [
      " 58%|█████████████████████████████████████████████████████████▏                                         | 578/1000 [00:06<00:04, 102.48it/s]"
     ]
    },
    {
     "name": "stdout",
     "output_type": "stream",
     "text": [
      "Set parameter LogToConsole to value 0\n",
      "Set parameter LogToConsole to value 0\n",
      "Set parameter LogToConsole to value 0\n",
      "Set parameter LogToConsole to value 0\n",
      "Set parameter LogToConsole to value 0\n",
      "Set parameter LogToConsole to value 0\n",
      "Set parameter LogToConsole to value 0\n",
      "Set parameter LogToConsole to value 0\n",
      "Set parameter LogToConsole to value 0\n",
      "Set parameter LogToConsole to value 0\n",
      "Set parameter LogToConsole to value 0\n"
     ]
    },
    {
     "name": "stderr",
     "output_type": "stream",
     "text": [
      " 59%|██████████████████████████████████████████████████████████▉                                         | 589/1000 [00:06<00:04, 92.36it/s]"
     ]
    },
    {
     "name": "stdout",
     "output_type": "stream",
     "text": [
      "Set parameter LogToConsole to value 0\n",
      "Set parameter LogToConsole to value 0\n",
      "Set parameter LogToConsole to value 0\n",
      "Set parameter LogToConsole to value 0\n",
      "Set parameter LogToConsole to value 0\n",
      "Set parameter LogToConsole to value 0\n",
      "Set parameter LogToConsole to value 0\n",
      "Set parameter LogToConsole to value 0\n",
      "Set parameter LogToConsole to value 0\n",
      "Set parameter LogToConsole to value 0\n",
      "Set parameter LogToConsole to value 0\n"
     ]
    },
    {
     "name": "stderr",
     "output_type": "stream",
     "text": [
      " 60%|████████████████████████████████████████████████████████████                                        | 600/1000 [00:06<00:04, 96.68it/s]"
     ]
    },
    {
     "name": "stdout",
     "output_type": "stream",
     "text": [
      "Set parameter LogToConsole to value 0\n",
      "Set parameter LogToConsole to value 0\n",
      "Set parameter LogToConsole to value 0\n",
      "Set parameter LogToConsole to value 0\n",
      "Set parameter LogToConsole to value 0\n",
      "Set parameter LogToConsole to value 0\n",
      "Set parameter LogToConsole to value 0\n",
      "Set parameter LogToConsole to value 0\n",
      "Set parameter LogToConsole to value 0\n",
      "Set parameter LogToConsole to value 0\n",
      "Set parameter LogToConsole to value 0\n",
      "Set parameter LogToConsole to value 0\n"
     ]
    },
    {
     "name": "stderr",
     "output_type": "stream",
     "text": [
      " 61%|█████████████████████████████████████████████████████████████▏                                      | 612/1000 [00:06<00:04, 94.34it/s]"
     ]
    },
    {
     "name": "stdout",
     "output_type": "stream",
     "text": [
      "Set parameter LogToConsole to value 0\n",
      "Set parameter LogToConsole to value 0\n",
      "Set parameter LogToConsole to value 0\n",
      "Set parameter LogToConsole to value 0\n",
      "Set parameter LogToConsole to value 0\n",
      "Set parameter LogToConsole to value 0\n",
      "Set parameter LogToConsole to value 0\n",
      "Set parameter LogToConsole to value 0\n",
      "Set parameter LogToConsole to value 0\n",
      "Set parameter LogToConsole to value 0\n"
     ]
    },
    {
     "name": "stderr",
     "output_type": "stream",
     "text": [
      " 62%|██████████████████████████████████████████████████████████████▏                                     | 622/1000 [00:06<00:04, 89.22it/s]"
     ]
    },
    {
     "name": "stdout",
     "output_type": "stream",
     "text": [
      "Set parameter LogToConsole to value 0\n",
      "Set parameter LogToConsole to value 0\n",
      "Set parameter LogToConsole to value 0\n",
      "Set parameter LogToConsole to value 0\n",
      "Set parameter LogToConsole to value 0\n",
      "Set parameter LogToConsole to value 0\n",
      "Set parameter LogToConsole to value 0\n",
      "Set parameter LogToConsole to value 0\n",
      "Set parameter LogToConsole to value 0\n",
      "Set parameter LogToConsole to value 0\n",
      "Set parameter LogToConsole to value 0\n"
     ]
    },
    {
     "name": "stderr",
     "output_type": "stream",
     "text": [
      " 63%|███████████████████████████████████████████████████████████████▎                                    | 633/1000 [00:06<00:03, 94.23it/s]"
     ]
    },
    {
     "name": "stdout",
     "output_type": "stream",
     "text": [
      "Set parameter LogToConsole to value 0\n",
      "Set parameter LogToConsole to value 0\n",
      "Set parameter LogToConsole to value 0\n",
      "Set parameter LogToConsole to value 0\n",
      "Set parameter LogToConsole to value 0\n",
      "Set parameter LogToConsole to value 0\n",
      "Set parameter LogToConsole to value 0\n",
      "Set parameter LogToConsole to value 0\n",
      "Set parameter LogToConsole to value 0\n",
      "Set parameter LogToConsole to value 0\n",
      "Set parameter LogToConsole to value 0\n",
      "Set parameter LogToConsole to value 0\n"
     ]
    },
    {
     "name": "stderr",
     "output_type": "stream",
     "text": [
      " 64%|████████████████████████████████████████████████████████████████▌                                   | 645/1000 [00:07<00:03, 99.22it/s]"
     ]
    },
    {
     "name": "stdout",
     "output_type": "stream",
     "text": [
      "Set parameter LogToConsole to value 0\n",
      "Set parameter LogToConsole to value 0\n",
      "Set parameter LogToConsole to value 0\n",
      "Set parameter LogToConsole to value 0\n",
      "Set parameter LogToConsole to value 0\n",
      "Set parameter LogToConsole to value 0\n",
      "Set parameter LogToConsole to value 0\n",
      "Set parameter LogToConsole to value 0\n",
      "Set parameter LogToConsole to value 0\n",
      "Set parameter LogToConsole to value 0\n",
      "Set parameter LogToConsole to value 0\n"
     ]
    },
    {
     "name": "stderr",
     "output_type": "stream",
     "text": [
      " 66%|█████████████████████████████████████████████████████████████████▌                                  | 656/1000 [00:07<00:03, 87.26it/s]"
     ]
    },
    {
     "name": "stdout",
     "output_type": "stream",
     "text": [
      "Set parameter LogToConsole to value 0\n",
      "Set parameter LogToConsole to value 0\n",
      "Set parameter LogToConsole to value 0\n",
      "Set parameter LogToConsole to value 0\n",
      "Set parameter LogToConsole to value 0\n",
      "Set parameter LogToConsole to value 0\n",
      "Set parameter LogToConsole to value 0\n",
      "Set parameter LogToConsole to value 0\n",
      "Set parameter LogToConsole to value 0\n",
      "Set parameter LogToConsole to value 0\n"
     ]
    },
    {
     "name": "stderr",
     "output_type": "stream",
     "text": [
      " 67%|██████████████████████████████████████████████████████████████████▌                                 | 666/1000 [00:07<00:03, 84.58it/s]"
     ]
    },
    {
     "name": "stdout",
     "output_type": "stream",
     "text": [
      "Set parameter LogToConsole to value 0\n",
      "Set parameter LogToConsole to value 0\n",
      "Set parameter LogToConsole to value 0\n",
      "Set parameter LogToConsole to value 0\n",
      "Set parameter LogToConsole to value 0\n",
      "Set parameter LogToConsole to value 0\n",
      "Set parameter LogToConsole to value 0\n",
      "Set parameter LogToConsole to value 0\n",
      "Set parameter LogToConsole to value 0\n"
     ]
    },
    {
     "name": "stderr",
     "output_type": "stream",
     "text": [
      " 68%|███████████████████████████████████████████████████████████████████▌                                | 675/1000 [00:07<00:04, 79.39it/s]"
     ]
    },
    {
     "name": "stdout",
     "output_type": "stream",
     "text": [
      "Set parameter LogToConsole to value 0\n",
      "Set parameter LogToConsole to value 0\n",
      "Set parameter LogToConsole to value 0\n",
      "Set parameter LogToConsole to value 0\n",
      "Set parameter LogToConsole to value 0\n",
      "Set parameter LogToConsole to value 0\n",
      "Set parameter LogToConsole to value 0\n",
      "Set parameter LogToConsole to value 0\n",
      "Set parameter LogToConsole to value 0\n",
      "Set parameter LogToConsole to value 0\n",
      "Set parameter LogToConsole to value 0\n"
     ]
    },
    {
     "name": "stderr",
     "output_type": "stream",
     "text": [
      " 69%|████████████████████████████████████████████████████████████████████▌                               | 686/1000 [00:07<00:03, 86.67it/s]"
     ]
    },
    {
     "name": "stdout",
     "output_type": "stream",
     "text": [
      "Set parameter LogToConsole to value 0\n",
      "Set parameter LogToConsole to value 0\n",
      "Set parameter LogToConsole to value 0\n",
      "Set parameter LogToConsole to value 0\n",
      "Set parameter LogToConsole to value 0\n",
      "Set parameter LogToConsole to value 0\n",
      "Set parameter LogToConsole to value 0\n",
      "Set parameter LogToConsole to value 0\n",
      "Set parameter LogToConsole to value 0\n"
     ]
    },
    {
     "name": "stderr",
     "output_type": "stream",
     "text": [
      " 70%|█████████████████████████████████████████████████████████████████████▌                              | 695/1000 [00:07<00:03, 82.69it/s]"
     ]
    },
    {
     "name": "stdout",
     "output_type": "stream",
     "text": [
      "Set parameter LogToConsole to value 0\n",
      "Set parameter LogToConsole to value 0\n",
      "Set parameter LogToConsole to value 0\n",
      "Set parameter LogToConsole to value 0\n",
      "Set parameter LogToConsole to value 0\n",
      "Set parameter LogToConsole to value 0\n",
      "Set parameter LogToConsole to value 0\n",
      "Set parameter LogToConsole to value 0\n",
      "Set parameter LogToConsole to value 0\n"
     ]
    },
    {
     "name": "stderr",
     "output_type": "stream",
     "text": [
      " 70%|██████████████████████████████████████████████████████████████████████▍                             | 704/1000 [00:07<00:03, 75.63it/s]"
     ]
    },
    {
     "name": "stdout",
     "output_type": "stream",
     "text": [
      "Set parameter LogToConsole to value 0\n",
      "Set parameter LogToConsole to value 0\n",
      "Set parameter LogToConsole to value 0\n",
      "Set parameter LogToConsole to value 0\n",
      "Set parameter LogToConsole to value 0\n",
      "Set parameter LogToConsole to value 0\n",
      "Set parameter LogToConsole to value 0\n",
      "Set parameter LogToConsole to value 0\n",
      "Set parameter LogToConsole to value 0\n"
     ]
    },
    {
     "name": "stderr",
     "output_type": "stream",
     "text": [
      " 71%|███████████████████████████████████████████████████████████████████████▎                            | 713/1000 [00:07<00:03, 77.89it/s]"
     ]
    },
    {
     "name": "stdout",
     "output_type": "stream",
     "text": [
      "Set parameter LogToConsole to value 0\n",
      "Set parameter LogToConsole to value 0\n",
      "Set parameter LogToConsole to value 0\n",
      "Set parameter LogToConsole to value 0\n",
      "Set parameter LogToConsole to value 0\n",
      "Set parameter LogToConsole to value 0\n",
      "Set parameter LogToConsole to value 0\n",
      "Set parameter LogToConsole to value 0\n",
      "Set parameter LogToConsole to value 0\n",
      "Set parameter LogToConsole to value 0\n",
      "Set parameter LogToConsole to value 0\n",
      "Set parameter LogToConsole to value 0\n"
     ]
    },
    {
     "name": "stderr",
     "output_type": "stream",
     "text": [
      " 72%|████████████████████████████████████████████████████████████████████████▌                           | 725/1000 [00:08<00:03, 85.32it/s]"
     ]
    },
    {
     "name": "stdout",
     "output_type": "stream",
     "text": [
      "Set parameter LogToConsole to value 0\n",
      "Set parameter LogToConsole to value 0\n",
      "Set parameter LogToConsole to value 0\n",
      "Set parameter LogToConsole to value 0\n",
      "Set parameter LogToConsole to value 0\n",
      "Set parameter LogToConsole to value 0\n",
      "Set parameter LogToConsole to value 0\n",
      "Set parameter LogToConsole to value 0\n",
      "Set parameter LogToConsole to value 0\n"
     ]
    },
    {
     "name": "stderr",
     "output_type": "stream",
     "text": [
      " 73%|█████████████████████████████████████████████████████████████████████████▍                          | 734/1000 [00:08<00:03, 72.86it/s]"
     ]
    },
    {
     "name": "stdout",
     "output_type": "stream",
     "text": [
      "Set parameter LogToConsole to value 0\n",
      "Set parameter LogToConsole to value 0\n",
      "Set parameter LogToConsole to value 0\n",
      "Set parameter LogToConsole to value 0\n",
      "Set parameter LogToConsole to value 0\n",
      "Set parameter LogToConsole to value 0\n",
      "Set parameter LogToConsole to value 0\n",
      "Set parameter LogToConsole to value 0\n"
     ]
    },
    {
     "name": "stderr",
     "output_type": "stream",
     "text": [
      " 74%|██████████████████████████████████████████████████████████████████████████▏                         | 742/1000 [00:08<00:03, 72.69it/s]"
     ]
    },
    {
     "name": "stdout",
     "output_type": "stream",
     "text": [
      "Set parameter LogToConsole to value 0\n",
      "Set parameter LogToConsole to value 0\n",
      "Set parameter LogToConsole to value 0\n",
      "Set parameter LogToConsole to value 0\n",
      "Set parameter LogToConsole to value 0\n",
      "Set parameter LogToConsole to value 0\n",
      "Set parameter LogToConsole to value 0\n",
      "Set parameter LogToConsole to value 0\n",
      "Set parameter LogToConsole to value 0\n",
      "Set parameter LogToConsole to value 0\n",
      "Set parameter LogToConsole to value 0\n",
      "Set parameter LogToConsole to value 0\n"
     ]
    },
    {
     "name": "stderr",
     "output_type": "stream",
     "text": [
      " 75%|███████████████████████████████████████████████████████████████████████████▍                        | 754/1000 [00:08<00:03, 79.21it/s]"
     ]
    },
    {
     "name": "stdout",
     "output_type": "stream",
     "text": [
      "Set parameter LogToConsole to value 0\n",
      "Set parameter LogToConsole to value 0\n",
      "Set parameter LogToConsole to value 0\n",
      "Set parameter LogToConsole to value 0\n",
      "Set parameter LogToConsole to value 0\n",
      "Set parameter LogToConsole to value 0\n",
      "Set parameter LogToConsole to value 0\n",
      "Set parameter LogToConsole to value 0\n",
      "Set parameter LogToConsole to value 0\n"
     ]
    },
    {
     "name": "stderr",
     "output_type": "stream",
     "text": [
      " 76%|████████████████████████████████████████████████████████████████████████████▎                       | 763/1000 [00:08<00:02, 79.80it/s]"
     ]
    },
    {
     "name": "stdout",
     "output_type": "stream",
     "text": [
      "Set parameter LogToConsole to value 0\n",
      "Set parameter LogToConsole to value 0\n",
      "Set parameter LogToConsole to value 0\n",
      "Set parameter LogToConsole to value 0\n",
      "Set parameter LogToConsole to value 0\n",
      "Set parameter LogToConsole to value 0\n",
      "Set parameter LogToConsole to value 0\n",
      "Set parameter LogToConsole to value 0\n",
      "Set parameter LogToConsole to value 0\n",
      "Set parameter LogToConsole to value 0\n",
      "Set parameter LogToConsole to value 0\n"
     ]
    },
    {
     "name": "stderr",
     "output_type": "stream",
     "text": [
      " 77%|█████████████████████████████████████████████████████████████████████████████▍                      | 774/1000 [00:08<00:02, 82.52it/s]"
     ]
    },
    {
     "name": "stdout",
     "output_type": "stream",
     "text": [
      "Set parameter LogToConsole to value 0\n",
      "Set parameter LogToConsole to value 0\n",
      "Set parameter LogToConsole to value 0\n",
      "Set parameter LogToConsole to value 0\n",
      "Set parameter LogToConsole to value 0\n",
      "Set parameter LogToConsole to value 0\n",
      "Set parameter LogToConsole to value 0\n",
      "Set parameter LogToConsole to value 0\n",
      "Set parameter LogToConsole to value 0\n",
      "Set parameter LogToConsole to value 0\n",
      "Set parameter LogToConsole to value 0\n",
      "Set parameter LogToConsole to value 0\n"
     ]
    },
    {
     "name": "stderr",
     "output_type": "stream",
     "text": [
      " 79%|██████████████████████████████████████████████████████████████████████████████▌                     | 786/1000 [00:08<00:02, 90.15it/s]"
     ]
    },
    {
     "name": "stdout",
     "output_type": "stream",
     "text": [
      "Set parameter LogToConsole to value 0\n",
      "Set parameter LogToConsole to value 0\n",
      "Set parameter LogToConsole to value 0\n",
      "Set parameter LogToConsole to value 0\n",
      "Set parameter LogToConsole to value 0\n",
      "Set parameter LogToConsole to value 0\n",
      "Set parameter LogToConsole to value 0\n",
      "Set parameter LogToConsole to value 0\n",
      "Set parameter LogToConsole to value 0\n",
      "Set parameter LogToConsole to value 0\n",
      "Set parameter LogToConsole to value 0\n",
      "Set parameter LogToConsole to value 0\n",
      "Set parameter LogToConsole to value 0\n",
      "Set parameter LogToConsole to value 0\n",
      "Set parameter LogToConsole to value 0\n",
      "Set parameter LogToConsole to value 0\n"
     ]
    },
    {
     "name": "stderr",
     "output_type": "stream",
     "text": [
      " 80%|███████████████████████████████████████████████████████████████████████████████▍                   | 802/1000 [00:08<00:01, 106.56it/s]"
     ]
    },
    {
     "name": "stdout",
     "output_type": "stream",
     "text": [
      "Set parameter LogToConsole to value 0\n",
      "Set parameter LogToConsole to value 0\n",
      "Set parameter LogToConsole to value 0\n",
      "Set parameter LogToConsole to value 0\n",
      "Set parameter LogToConsole to value 0\n",
      "Set parameter LogToConsole to value 0\n",
      "Set parameter LogToConsole to value 0\n",
      "Set parameter LogToConsole to value 0\n",
      "Set parameter LogToConsole to value 0\n",
      "Set parameter LogToConsole to value 0\n",
      "Set parameter LogToConsole to value 0\n",
      "Set parameter LogToConsole to value 0\n"
     ]
    },
    {
     "name": "stderr",
     "output_type": "stream",
     "text": [
      " 81%|████████████████████████████████████████████████████████████████████████████████▌                  | 814/1000 [00:08<00:01, 108.21it/s]"
     ]
    },
    {
     "name": "stdout",
     "output_type": "stream",
     "text": [
      "Set parameter LogToConsole to value 0\n",
      "Set parameter LogToConsole to value 0\n",
      "Set parameter LogToConsole to value 0\n",
      "Set parameter LogToConsole to value 0\n",
      "Set parameter LogToConsole to value 0\n",
      "Set parameter LogToConsole to value 0\n",
      "Set parameter LogToConsole to value 0\n",
      "Set parameter LogToConsole to value 0\n",
      "Set parameter LogToConsole to value 0\n",
      "Set parameter LogToConsole to value 0\n",
      "Set parameter LogToConsole to value 0\n"
     ]
    },
    {
     "name": "stderr",
     "output_type": "stream",
     "text": [
      " 82%|█████████████████████████████████████████████████████████████████████████████████▋                 | 825/1000 [00:09<00:01, 105.28it/s]"
     ]
    },
    {
     "name": "stdout",
     "output_type": "stream",
     "text": [
      "Set parameter LogToConsole to value 0\n",
      "Set parameter LogToConsole to value 0\n",
      "Set parameter LogToConsole to value 0\n",
      "Set parameter LogToConsole to value 0\n",
      "Set parameter LogToConsole to value 0\n",
      "Set parameter LogToConsole to value 0\n",
      "Set parameter LogToConsole to value 0\n",
      "Set parameter LogToConsole to value 0\n",
      "Set parameter LogToConsole to value 0\n",
      "Set parameter LogToConsole to value 0\n",
      "Set parameter LogToConsole to value 0\n",
      "Set parameter LogToConsole to value 0\n",
      "Set parameter LogToConsole to value 0\n"
     ]
    },
    {
     "name": "stderr",
     "output_type": "stream",
     "text": [
      " 84%|██████████████████████████████████████████████████████████████████████████████████▉                | 838/1000 [00:09<00:01, 109.92it/s]"
     ]
    },
    {
     "name": "stdout",
     "output_type": "stream",
     "text": [
      "Set parameter LogToConsole to value 0\n",
      "Set parameter LogToConsole to value 0\n",
      "Set parameter LogToConsole to value 0\n",
      "Set parameter LogToConsole to value 0\n",
      "Set parameter LogToConsole to value 0\n",
      "Set parameter LogToConsole to value 0\n",
      "Set parameter LogToConsole to value 0\n",
      "Set parameter LogToConsole to value 0\n",
      "Set parameter LogToConsole to value 0\n",
      "Set parameter LogToConsole to value 0\n",
      "Set parameter LogToConsole to value 0\n",
      "Set parameter LogToConsole to value 0\n"
     ]
    },
    {
     "name": "stderr",
     "output_type": "stream",
     "text": [
      " 85%|████████████████████████████████████████████████████████████████████████████████████▏              | 850/1000 [00:09<00:01, 100.67it/s]"
     ]
    },
    {
     "name": "stdout",
     "output_type": "stream",
     "text": [
      "Set parameter LogToConsole to value 0\n",
      "Set parameter LogToConsole to value 0\n",
      "Set parameter LogToConsole to value 0\n",
      "Set parameter LogToConsole to value 0\n",
      "Set parameter LogToConsole to value 0\n",
      "Set parameter LogToConsole to value 0\n",
      "Set parameter LogToConsole to value 0\n",
      "Set parameter LogToConsole to value 0\n",
      "Set parameter LogToConsole to value 0\n",
      "Set parameter LogToConsole to value 0\n",
      "Set parameter LogToConsole to value 0\n",
      "Set parameter LogToConsole to value 0\n",
      "Set parameter LogToConsole to value 0\n",
      "Set parameter LogToConsole to value 0\n"
     ]
    },
    {
     "name": "stderr",
     "output_type": "stream",
     "text": [
      " 86%|██████████████████████████████████████████████████████████████████████████████████████▍             | 864/1000 [00:09<00:01, 97.36it/s]"
     ]
    },
    {
     "name": "stdout",
     "output_type": "stream",
     "text": [
      "Set parameter LogToConsole to value 0\n",
      "Set parameter LogToConsole to value 0\n",
      "Set parameter LogToConsole to value 0\n",
      "Set parameter LogToConsole to value 0\n",
      "Set parameter LogToConsole to value 0\n",
      "Set parameter LogToConsole to value 0\n",
      "Set parameter LogToConsole to value 0\n",
      "Set parameter LogToConsole to value 0\n",
      "Set parameter LogToConsole to value 0\n",
      "Set parameter LogToConsole to value 0\n",
      "Set parameter LogToConsole to value 0\n",
      "Set parameter LogToConsole to value 0\n"
     ]
    },
    {
     "name": "stderr",
     "output_type": "stream",
     "text": [
      " 88%|██████████████████████████████████████████████████████████████████████████████████████▋            | 876/1000 [00:09<00:01, 102.70it/s]"
     ]
    },
    {
     "name": "stdout",
     "output_type": "stream",
     "text": [
      "Set parameter LogToConsole to value 0\n",
      "Set parameter LogToConsole to value 0\n",
      "Set parameter LogToConsole to value 0\n",
      "Set parameter LogToConsole to value 0\n",
      "Set parameter LogToConsole to value 0\n",
      "Set parameter LogToConsole to value 0\n",
      "Set parameter LogToConsole to value 0\n",
      "Set parameter LogToConsole to value 0\n",
      "Set parameter LogToConsole to value 0\n",
      "Set parameter LogToConsole to value 0\n",
      "Set parameter LogToConsole to value 0\n"
     ]
    },
    {
     "name": "stderr",
     "output_type": "stream",
     "text": [
      " 89%|███████████████████████████████████████████████████████████████████████████████████████▊           | 887/1000 [00:09<00:01, 100.46it/s]"
     ]
    },
    {
     "name": "stdout",
     "output_type": "stream",
     "text": [
      "Set parameter LogToConsole to value 0\n",
      "Set parameter LogToConsole to value 0\n",
      "Set parameter LogToConsole to value 0\n",
      "Set parameter LogToConsole to value 0\n",
      "Set parameter LogToConsole to value 0\n",
      "Set parameter LogToConsole to value 0\n",
      "Set parameter LogToConsole to value 0\n",
      "Set parameter LogToConsole to value 0\n",
      "Set parameter LogToConsole to value 0\n",
      "Set parameter LogToConsole to value 0\n",
      "Set parameter LogToConsole to value 0\n",
      "Set parameter LogToConsole to value 0\n",
      "Set parameter LogToConsole to value 0\n",
      "Set parameter LogToConsole to value 0\n"
     ]
    },
    {
     "name": "stderr",
     "output_type": "stream",
     "text": [
      " 90%|█████████████████████████████████████████████████████████████████████████████████████████▏         | 901/1000 [00:09<00:00, 110.79it/s]"
     ]
    },
    {
     "name": "stdout",
     "output_type": "stream",
     "text": [
      "Set parameter LogToConsole to value 0\n",
      "Set parameter LogToConsole to value 0\n",
      "Set parameter LogToConsole to value 0\n",
      "Set parameter LogToConsole to value 0\n",
      "Set parameter LogToConsole to value 0\n",
      "Set parameter LogToConsole to value 0\n",
      "Set parameter LogToConsole to value 0\n",
      "Set parameter LogToConsole to value 0\n",
      "Set parameter LogToConsole to value 0\n",
      "Set parameter LogToConsole to value 0\n",
      "Set parameter LogToConsole to value 0\n",
      "Set parameter LogToConsole to value 0\n"
     ]
    },
    {
     "name": "stderr",
     "output_type": "stream",
     "text": [
      " 91%|██████████████████████████████████████████████████████████████████████████████████████████▍        | 913/1000 [00:09<00:00, 112.20it/s]"
     ]
    },
    {
     "name": "stdout",
     "output_type": "stream",
     "text": [
      "Set parameter LogToConsole to value 0\n",
      "Set parameter LogToConsole to value 0\n",
      "Set parameter LogToConsole to value 0\n",
      "Set parameter LogToConsole to value 0\n",
      "Set parameter LogToConsole to value 0\n",
      "Set parameter LogToConsole to value 0\n",
      "Set parameter LogToConsole to value 0\n",
      "Set parameter LogToConsole to value 0\n",
      "Set parameter LogToConsole to value 0\n",
      "Set parameter LogToConsole to value 0\n",
      "Set parameter LogToConsole to value 0\n",
      "Set parameter LogToConsole to value 0\n"
     ]
    },
    {
     "name": "stderr",
     "output_type": "stream",
     "text": [
      " 92%|███████████████████████████████████████████████████████████████████████████████████████████▌       | 925/1000 [00:10<00:00, 111.70it/s]"
     ]
    },
    {
     "name": "stdout",
     "output_type": "stream",
     "text": [
      "Set parameter LogToConsole to value 0\n",
      "Set parameter LogToConsole to value 0\n",
      "Set parameter LogToConsole to value 0\n",
      "Set parameter LogToConsole to value 0\n",
      "Set parameter LogToConsole to value 0\n",
      "Set parameter LogToConsole to value 0\n",
      "Set parameter LogToConsole to value 0\n",
      "Set parameter LogToConsole to value 0\n",
      "Set parameter LogToConsole to value 0\n",
      "Set parameter LogToConsole to value 0\n",
      "Set parameter LogToConsole to value 0\n",
      "Set parameter LogToConsole to value 0\n",
      "Set parameter LogToConsole to value 0\n"
     ]
    },
    {
     "name": "stderr",
     "output_type": "stream",
     "text": [
      " 94%|████████████████████████████████████████████████████████████████████████████████████████████▊      | 938/1000 [00:10<00:00, 115.61it/s]"
     ]
    },
    {
     "name": "stdout",
     "output_type": "stream",
     "text": [
      "Set parameter LogToConsole to value 0\n",
      "Set parameter LogToConsole to value 0\n",
      "Set parameter LogToConsole to value 0\n",
      "Set parameter LogToConsole to value 0\n",
      "Set parameter LogToConsole to value 0\n",
      "Set parameter LogToConsole to value 0\n",
      "Set parameter LogToConsole to value 0\n",
      "Set parameter LogToConsole to value 0\n",
      "Set parameter LogToConsole to value 0\n",
      "Set parameter LogToConsole to value 0\n",
      "Set parameter LogToConsole to value 0\n",
      "Set parameter LogToConsole to value 0\n"
     ]
    },
    {
     "name": "stderr",
     "output_type": "stream",
     "text": [
      " 95%|██████████████████████████████████████████████████████████████████████████████████████████████     | 950/1000 [00:10<00:00, 109.12it/s]"
     ]
    },
    {
     "name": "stdout",
     "output_type": "stream",
     "text": [
      "Set parameter LogToConsole to value 0\n",
      "Set parameter LogToConsole to value 0\n",
      "Set parameter LogToConsole to value 0\n",
      "Set parameter LogToConsole to value 0\n",
      "Set parameter LogToConsole to value 0\n",
      "Set parameter LogToConsole to value 0\n",
      "Set parameter LogToConsole to value 0\n",
      "Set parameter LogToConsole to value 0\n",
      "Set parameter LogToConsole to value 0\n",
      "Set parameter LogToConsole to value 0\n",
      "Set parameter LogToConsole to value 0\n",
      "Set parameter LogToConsole to value 0\n",
      "Set parameter LogToConsole to value 0\n",
      "Set parameter LogToConsole to value 0\n"
     ]
    },
    {
     "name": "stderr",
     "output_type": "stream",
     "text": [
      " 96%|███████████████████████████████████████████████████████████████████████████████████████████████▍   | 964/1000 [00:10<00:00, 102.76it/s]"
     ]
    },
    {
     "name": "stdout",
     "output_type": "stream",
     "text": [
      "Set parameter LogToConsole to value 0\n",
      "Set parameter LogToConsole to value 0\n",
      "Set parameter LogToConsole to value 0\n",
      "Set parameter LogToConsole to value 0\n",
      "Set parameter LogToConsole to value 0\n",
      "Set parameter LogToConsole to value 0\n",
      "Set parameter LogToConsole to value 0\n",
      "Set parameter LogToConsole to value 0\n",
      "Set parameter LogToConsole to value 0\n",
      "Set parameter LogToConsole to value 0\n",
      "Set parameter LogToConsole to value 0\n"
     ]
    },
    {
     "name": "stderr",
     "output_type": "stream",
     "text": [
      " 98%|█████████████████████████████████████████████████████████████████████████████████████████████████▌  | 975/1000 [00:10<00:00, 93.27it/s]"
     ]
    },
    {
     "name": "stdout",
     "output_type": "stream",
     "text": [
      "Set parameter LogToConsole to value 0\n",
      "Set parameter LogToConsole to value 0\n",
      "Set parameter LogToConsole to value 0\n",
      "Set parameter LogToConsole to value 0\n",
      "Set parameter LogToConsole to value 0\n",
      "Set parameter LogToConsole to value 0\n",
      "Set parameter LogToConsole to value 0\n",
      "Set parameter LogToConsole to value 0\n",
      "Set parameter LogToConsole to value 0\n",
      "Set parameter LogToConsole to value 0\n",
      "Set parameter LogToConsole to value 0\n"
     ]
    },
    {
     "name": "stderr",
     "output_type": "stream",
     "text": [
      " 99%|██████████████████████████████████████████████████████████████████████████████████████████████████▌ | 986/1000 [00:10<00:00, 92.85it/s]"
     ]
    },
    {
     "name": "stdout",
     "output_type": "stream",
     "text": [
      "Set parameter LogToConsole to value 0\n",
      "Set parameter LogToConsole to value 0\n",
      "Set parameter LogToConsole to value 0\n",
      "Set parameter LogToConsole to value 0\n",
      "Set parameter LogToConsole to value 0\n",
      "Set parameter LogToConsole to value 0\n",
      "Set parameter LogToConsole to value 0\n",
      "Set parameter LogToConsole to value 0\n",
      "Set parameter LogToConsole to value 0\n",
      "Set parameter LogToConsole to value 0\n"
     ]
    },
    {
     "name": "stderr",
     "output_type": "stream",
     "text": [
      "100%|███████████████████████████████████████████████████████████████████████████████████████████████████▌| 996/1000 [00:10<00:00, 79.11it/s]"
     ]
    },
    {
     "name": "stdout",
     "output_type": "stream",
     "text": [
      "Set parameter LogToConsole to value 0\n",
      "Set parameter LogToConsole to value 0\n",
      "Set parameter LogToConsole to value 0\n",
      "Set parameter LogToConsole to value 0\n"
     ]
    },
    {
     "name": "stderr",
     "output_type": "stream",
     "text": [
      "100%|███████████████████████████████████████████████████████████████████████████████████████████████████| 1000/1000 [00:10<00:00, 91.67it/s]\n"
     ]
    }
   ],
   "source": [
    "random_eps_constraint(config, True)"
   ]
  },
  {
   "cell_type": "code",
   "execution_count": 5,
   "id": "7057b9bf-06c7-46ac-8de2-3e02a5143bd4",
   "metadata": {},
   "outputs": [
    {
     "name": "stdout",
     "output_type": "stream",
     "text": [
      "steps = [0, 100, 200, 300, 400, 500, 600, 700, 800, 900, 1000]\n"
     ]
    }
   ],
   "source": [
    "# define steps where to evaluate HV progress\n",
    "step_size = 100\n",
    "steps = range(0, config.num_samples+1, step_size)\n",
    "print('steps =', list(steps))"
   ]
  },
  {
   "cell_type": "code",
   "execution_count": 6,
   "id": "710d695e-3f6c-483c-9643-dd9b44a565c4",
   "metadata": {},
   "outputs": [
    {
     "name": "stdout",
     "output_type": "stream",
     "text": [
      "evaluate samples objective... done.\n",
      "1 / 10\n"
     ]
    },
    {
     "name": "stderr",
     "output_type": "stream",
     "text": [
      "100%|████████████████████████████████████████████████████████████████████████████████████████████████████| 69/69 [00:00<00:00, 29881.98it/s]\n"
     ]
    },
    {
     "name": "stdout",
     "output_type": "stream",
     "text": [
      "#NDP = 63\n",
      "HV   =  42098.914281290105\n",
      "2 / 10\n"
     ]
    },
    {
     "name": "stderr",
     "output_type": "stream",
     "text": [
      "100%|██████████████████████████████████████████████████████████████████████████████████████████████████| 114/114 [00:00<00:00, 29448.21it/s]\n"
     ]
    },
    {
     "name": "stdout",
     "output_type": "stream",
     "text": [
      "#NDP = 103\n",
      "HV   =  42903.43931249569\n",
      "3 / 10\n"
     ]
    },
    {
     "name": "stderr",
     "output_type": "stream",
     "text": [
      "100%|██████████████████████████████████████████████████████████████████████████████████████████████████| 152/152 [00:00<00:00, 31393.25it/s]\n"
     ]
    },
    {
     "name": "stdout",
     "output_type": "stream",
     "text": [
      "#NDP = 136\n",
      "HV   =  42998.61475472412\n",
      "4 / 10\n"
     ]
    },
    {
     "name": "stderr",
     "output_type": "stream",
     "text": [
      "100%|██████████████████████████████████████████████████████████████████████████████████████████████████| 174/174 [00:00<00:00, 29263.76it/s]\n"
     ]
    },
    {
     "name": "stdout",
     "output_type": "stream",
     "text": [
      "#NDP = 163\n",
      "HV   =  43072.822817047745\n",
      "5 / 10\n"
     ]
    },
    {
     "name": "stderr",
     "output_type": "stream",
     "text": [
      "100%|██████████████████████████████████████████████████████████████████████████████████████████████████| 214/214 [00:00<00:00, 28837.02it/s]\n"
     ]
    },
    {
     "name": "stdout",
     "output_type": "stream",
     "text": [
      "#NDP = 193\n",
      "HV   =  43158.48157602943\n",
      "6 / 10\n"
     ]
    },
    {
     "name": "stderr",
     "output_type": "stream",
     "text": [
      "100%|██████████████████████████████████████████████████████████████████████████████████████████████████| 222/222 [00:00<00:00, 27279.63it/s]\n"
     ]
    },
    {
     "name": "stdout",
     "output_type": "stream",
     "text": [
      "#NDP = 209\n",
      "HV   =  43193.86867279025\n",
      "7 / 10\n"
     ]
    },
    {
     "name": "stderr",
     "output_type": "stream",
     "text": [
      "100%|██████████████████████████████████████████████████████████████████████████████████████████████████| 249/249 [00:00<00:00, 27359.17it/s]\n"
     ]
    },
    {
     "name": "stdout",
     "output_type": "stream",
     "text": [
      "#NDP = 236\n",
      "HV   =  43218.3600389158\n",
      "8 / 10\n"
     ]
    },
    {
     "name": "stderr",
     "output_type": "stream",
     "text": [
      "100%|██████████████████████████████████████████████████████████████████████████████████████████████████| 271/271 [00:00<00:00, 25215.88it/s]\n"
     ]
    },
    {
     "name": "stdout",
     "output_type": "stream",
     "text": [
      "#NDP = 258\n",
      "HV   =  43250.15754728821\n",
      "9 / 10\n"
     ]
    },
    {
     "name": "stderr",
     "output_type": "stream",
     "text": [
      "100%|██████████████████████████████████████████████████████████████████████████████████████████████████| 291/291 [00:00<00:00, 24087.59it/s]\n"
     ]
    },
    {
     "name": "stdout",
     "output_type": "stream",
     "text": [
      "#NDP = 274\n",
      "HV   =  43275.78688485137\n",
      "10 / 10\n"
     ]
    },
    {
     "name": "stderr",
     "output_type": "stream",
     "text": [
      "100%|██████████████████████████████████████████████████████████████████████████████████████████████████| 310/310 [00:00<00:00, 24361.27it/s]"
     ]
    },
    {
     "name": "stdout",
     "output_type": "stream",
     "text": [
      "#NDP = 293\n",
      "HV   =  43288.77275368998\n"
     ]
    },
    {
     "name": "stderr",
     "output_type": "stream",
     "text": [
      "\n"
     ]
    }
   ],
   "source": [
    "compute_hypervolume_progress(problem.problem_folder, config.results_folder, steps)"
   ]
  },
  {
   "cell_type": "code",
   "execution_count": 7,
   "id": "48dea8f8-0ba7-4a69-a641-767fceaaa79c",
   "metadata": {},
   "outputs": [
    {
     "name": "stdout",
     "output_type": "stream",
     "text": [
      "Max. HV: 43288.77275368998\n"
     ]
    }
   ],
   "source": [
    "x, y = config.progress_x_y()\n",
    "print('Max. HV:', max(y))"
   ]
  },
  {
   "cell_type": "code",
   "execution_count": 8,
   "id": "806260e1-4ee0-4970-a1ca-0bfcca2eee39",
   "metadata": {},
   "outputs": [
    {
     "name": "stdout",
     "output_type": "stream",
     "text": [
      "{'feasible_fraction': 0.848, 'v_bounds': 51212.547436869485, 'hv_estimate': 43428.24022646532, 'num_eps_samples': 1000}\n",
      "hv_est:    43428.24022646532\n",
      "95% CI lb: 42288.640934618845\n",
      "95% CI ub: 44567.8395183118\n"
     ]
    }
   ],
   "source": [
    "# HV estimate\n",
    "with open(config.results_folder + 'hv_estimate.json', 'r') as f:\n",
    "    hv_estimate = json.load(f)\n",
    "print(hv_estimate)\n",
    "\n",
    "hv_est = float(hv_estimate['hv_estimate'])\n",
    "p_feasible = float(hv_estimate['feasible_fraction'])\n",
    "v_bounds = float(hv_estimate['v_bounds'])\n",
    "num_eps_samples = float(hv_estimate['num_eps_samples'])\n",
    "ci_95_eps = 1.96 / np.sqrt(num_eps_samples) * np.sqrt(p_feasible * (1 - p_feasible)) * v_bounds\n",
    "hv_ci_lb = hv_est - ci_95_eps\n",
    "hv_ci_ub = hv_est + ci_95_eps\n",
    "print('hv_est:   ', hv_est)\n",
    "print('95% CI lb:', hv_ci_lb)\n",
    "print('95% CI ub:', hv_ci_ub)"
   ]
  },
  {
   "cell_type": "code",
   "execution_count": 9,
   "id": "5ad71d3f-e644-4e86-880e-7b9d27780a83",
   "metadata": {},
   "outputs": [
    {
     "data": {
      "image/png": "[encoded data removed]",
      "text/plain": [
       "<Figure size 640x480 with 1 Axes>"
      ]
     },
     "metadata": {},
     "output_type": "display_data"
    }
   ],
   "source": [
    "plt.plot(x, y)\n",
    "plt.plot([min(x), max(x)], [hv_est, hv_est], 'r')\n",
    "plt.plot([min(x), max(x)], [hv_ci_lb, hv_ci_lb], 'r--')\n",
    "plt.plot([min(x), max(x)], [hv_ci_ub, hv_ci_ub], 'r--')\n",
    "plt.show()"
   ]
  },
  {
   "cell_type": "code",
   "execution_count": null,
   "id": "bc3ee33f-f8e5-4c34-9797-4c72c9a6cbf7",
   "metadata": {},
   "outputs": [],
   "source": []
  }
 ],
 "metadata": {
  "kernelspec": {
   "display_name": "Python 3 (ipykernel)",
   "language": "python",
   "name": "python3"
  },
  "language_info": {
   "codemirror_mode": {
    "name": "ipython",
    "version": 3
   },
   "file_extension": ".py",
   "mimetype": "text/x-python",
   "name": "python",
   "nbconvert_exporter": "python",
   "pygments_lexer": "ipython3",
   "version": "3.10.16"
  }
 },
 "nbformat": 4,
 "nbformat_minor": 5
}
